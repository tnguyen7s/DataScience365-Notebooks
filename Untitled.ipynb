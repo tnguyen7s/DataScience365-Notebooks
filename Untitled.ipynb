{
 "cells": [
  {
   "cell_type": "code",
   "execution_count": 67,
   "id": "a2cc196c",
   "metadata": {},
   "outputs": [],
   "source": [
    "import numpy as np"
   ]
  },
  {
   "cell_type": "code",
   "execution_count": 68,
   "id": "c992aa02",
   "metadata": {},
   "outputs": [
    {
     "data": {
      "text/plain": [
       "array(1)"
      ]
     },
     "execution_count": 68,
     "metadata": {},
     "output_type": "execute_result"
    }
   ],
   "source": [
    "np.array(1)"
   ]
  },
  {
   "cell_type": "code",
   "execution_count": 69,
   "id": "18fe6ae8",
   "metadata": {},
   "outputs": [
    {
     "data": {
      "text/plain": [
       "()"
      ]
     },
     "execution_count": 69,
     "metadata": {},
     "output_type": "execute_result"
    }
   ],
   "source": [
    "np.array(1).shape"
   ]
  },
  {
   "cell_type": "code",
   "execution_count": 70,
   "id": "8dd4eb24",
   "metadata": {},
   "outputs": [
    {
     "data": {
      "text/plain": [
       "array([1, 1, 1])"
      ]
     },
     "execution_count": 70,
     "metadata": {},
     "output_type": "execute_result"
    }
   ],
   "source": [
    "np.array([1,1,1])"
   ]
  },
  {
   "cell_type": "code",
   "execution_count": 71,
   "id": "ce9eb2c3",
   "metadata": {},
   "outputs": [
    {
     "data": {
      "text/plain": [
       "(3,)"
      ]
     },
     "execution_count": 71,
     "metadata": {},
     "output_type": "execute_result"
    }
   ],
   "source": [
    "np.array([1,1,1]).shape"
   ]
  },
  {
   "cell_type": "code",
   "execution_count": 72,
   "id": "6fcd83d1",
   "metadata": {},
   "outputs": [
    {
     "data": {
      "text/plain": [
       "(2, 3)"
      ]
     },
     "execution_count": 72,
     "metadata": {},
     "output_type": "execute_result"
    }
   ],
   "source": [
    "np.array([[1,2,3], [2,2,2]]).shape"
   ]
  },
  {
   "cell_type": "code",
   "execution_count": 73,
   "id": "f6110b37",
   "metadata": {},
   "outputs": [
    {
     "data": {
      "text/plain": [
       "(2, 2, 3)"
      ]
     },
     "execution_count": 73,
     "metadata": {},
     "output_type": "execute_result"
    }
   ],
   "source": [
    "np.array([[[1,2,3], [2,2,2]], [[1,1,1], [2,2,2]]]).shape"
   ]
  },
  {
   "cell_type": "code",
   "execution_count": 74,
   "id": "996a2993",
   "metadata": {},
   "outputs": [],
   "source": [
    "a = np.array([[1,2,3], [2,2,2]])"
   ]
  },
  {
   "cell_type": "code",
   "execution_count": 75,
   "id": "7ad5954a",
   "metadata": {},
   "outputs": [],
   "source": [
    "a[:, :] = 2"
   ]
  },
  {
   "cell_type": "code",
   "execution_count": 76,
   "id": "caed6c2e",
   "metadata": {},
   "outputs": [
    {
     "data": {
      "text/plain": [
       "array([[2, 2, 2],\n",
       "       [2, 2, 2]])"
      ]
     },
     "execution_count": 76,
     "metadata": {},
     "output_type": "execute_result"
    }
   ],
   "source": [
    "a"
   ]
  },
  {
   "cell_type": "code",
   "execution_count": 77,
   "id": "ebfe742e",
   "metadata": {},
   "outputs": [],
   "source": [
    "a[0, :] = 1"
   ]
  },
  {
   "cell_type": "code",
   "execution_count": 78,
   "id": "cc835618",
   "metadata": {},
   "outputs": [
    {
     "data": {
      "text/plain": [
       "array([[1, 1, 1],\n",
       "       [2, 2, 2]])"
      ]
     },
     "execution_count": 78,
     "metadata": {},
     "output_type": "execute_result"
    }
   ],
   "source": [
    "a"
   ]
  },
  {
   "cell_type": "code",
   "execution_count": 79,
   "id": "441266fe",
   "metadata": {},
   "outputs": [],
   "source": [
    "a[:, 0]= 0"
   ]
  },
  {
   "cell_type": "code",
   "execution_count": 80,
   "id": "dd37be68",
   "metadata": {},
   "outputs": [
    {
     "data": {
      "text/plain": [
       "array([[0, 1, 1],\n",
       "       [0, 2, 2]])"
      ]
     },
     "execution_count": 80,
     "metadata": {},
     "output_type": "execute_result"
    }
   ],
   "source": [
    "a"
   ]
  },
  {
   "cell_type": "code",
   "execution_count": 81,
   "id": "736189b0",
   "metadata": {},
   "outputs": [
    {
     "data": {
      "text/plain": [
       "array([[1, 2, 2],\n",
       "       [1, 3, 3]])"
      ]
     },
     "execution_count": 81,
     "metadata": {},
     "output_type": "execute_result"
    }
   ],
   "source": [
    "a + 1"
   ]
  },
  {
   "cell_type": "code",
   "execution_count": 82,
   "id": "ea2ca6b8",
   "metadata": {},
   "outputs": [
    {
     "data": {
      "text/plain": [
       "array([[1, 3, 4],\n",
       "       [1, 4, 5]])"
      ]
     },
     "execution_count": 82,
     "metadata": {},
     "output_type": "execute_result"
    }
   ],
   "source": [
    "b = np.array([1,2,3])\n",
    "a+b"
   ]
  },
  {
   "cell_type": "code",
   "execution_count": 83,
   "id": "4730de83",
   "metadata": {},
   "outputs": [
    {
     "data": {
      "text/plain": [
       "array([0, 0, 2, 2])"
      ]
     },
     "execution_count": 83,
     "metadata": {},
     "output_type": "execute_result"
    }
   ],
   "source": [
    "a[a%2==0]"
   ]
  },
  {
   "cell_type": "code",
   "execution_count": 84,
   "id": "74d9cb48",
   "metadata": {},
   "outputs": [
    {
     "data": {
      "text/plain": [
       "array([2, 2])"
      ]
     },
     "execution_count": 84,
     "metadata": {},
     "output_type": "execute_result"
    }
   ],
   "source": [
    "a[(a%2==0) & (a>0)]"
   ]
  },
  {
   "cell_type": "code",
   "execution_count": 85,
   "id": "8b66bf9e",
   "metadata": {},
   "outputs": [
    {
     "data": {
      "text/plain": [
       "array([[0, 1, 1],\n",
       "       [0, 2, 2]])"
      ]
     },
     "execution_count": 85,
     "metadata": {},
     "output_type": "execute_result"
    }
   ],
   "source": [
    "a.squeeze()"
   ]
  },
  {
   "cell_type": "code",
   "execution_count": 86,
   "id": "684e5ff2",
   "metadata": {},
   "outputs": [
    {
     "data": {
      "text/plain": [
       "array([1, 2, 3])"
      ]
     },
     "execution_count": 86,
     "metadata": {},
     "output_type": "execute_result"
    }
   ],
   "source": [
    "np.array([[1,2,3]]).squeeze()"
   ]
  },
  {
   "cell_type": "code",
   "execution_count": 87,
   "id": "a9ff8bd0",
   "metadata": {},
   "outputs": [
    {
     "data": {
      "text/plain": [
       "array([[0, 1, 1],\n",
       "       [0, 2, 2]])"
      ]
     },
     "execution_count": 87,
     "metadata": {},
     "output_type": "execute_result"
    }
   ],
   "source": [
    "a"
   ]
  },
  {
   "cell_type": "code",
   "execution_count": 88,
   "id": "96973bb1",
   "metadata": {},
   "outputs": [
    {
     "data": {
      "text/plain": [
       "0"
      ]
     },
     "execution_count": 88,
     "metadata": {},
     "output_type": "execute_result"
    }
   ],
   "source": [
    "a[0,0]"
   ]
  },
  {
   "cell_type": "code",
   "execution_count": 89,
   "id": "2b3d00b2",
   "metadata": {},
   "outputs": [
    {
     "data": {
      "text/plain": [
       "array(0)"
      ]
     },
     "execution_count": 89,
     "metadata": {},
     "output_type": "execute_result"
    }
   ],
   "source": [
    "a[0, :1].squeeze()"
   ]
  },
  {
   "cell_type": "code",
   "execution_count": 90,
   "id": "46a9f19e",
   "metadata": {},
   "outputs": [
    {
     "data": {
      "text/plain": [
       "array(0)"
      ]
     },
     "execution_count": 90,
     "metadata": {},
     "output_type": "execute_result"
    }
   ],
   "source": [
    "a[:1, :1].squeeze()"
   ]
  },
  {
   "cell_type": "code",
   "execution_count": 91,
   "id": "e6a251a4",
   "metadata": {},
   "outputs": [
    {
     "data": {
      "text/plain": [
       "array([[0., 0., 0.],\n",
       "       [0., 0., 0.]])"
      ]
     },
     "execution_count": 91,
     "metadata": {},
     "output_type": "execute_result"
    }
   ],
   "source": [
    "np.zeros((2,3))"
   ]
  },
  {
   "cell_type": "code",
   "execution_count": 92,
   "id": "f24f4da0",
   "metadata": {},
   "outputs": [
    {
     "data": {
      "text/plain": [
       "array([[0., 0., 0.],\n",
       "       [0., 0., 0.]])"
      ]
     },
     "execution_count": 92,
     "metadata": {},
     "output_type": "execute_result"
    }
   ],
   "source": [
    "np.empty((2,3))"
   ]
  },
  {
   "cell_type": "code",
   "execution_count": 93,
   "id": "1c991d99",
   "metadata": {},
   "outputs": [
    {
     "data": {
      "text/plain": [
       "array([[1., 1., 1.],\n",
       "       [1., 1., 1.]])"
      ]
     },
     "execution_count": 93,
     "metadata": {},
     "output_type": "execute_result"
    }
   ],
   "source": [
    "np.ones((2,3))"
   ]
  },
  {
   "cell_type": "code",
   "execution_count": 94,
   "id": "7e623fcb",
   "metadata": {},
   "outputs": [
    {
     "data": {
      "text/plain": [
       "array([[8, 8, 8],\n",
       "       [8, 8, 8]])"
      ]
     },
     "execution_count": 94,
     "metadata": {},
     "output_type": "execute_result"
    }
   ],
   "source": [
    "np.full((2,3), fill_value=8)"
   ]
  },
  {
   "cell_type": "code",
   "execution_count": 95,
   "id": "4d42f26b",
   "metadata": {},
   "outputs": [
    {
     "data": {
      "text/plain": [
       "array([[0, 0, 0],\n",
       "       [0, 0, 0]])"
      ]
     },
     "execution_count": 95,
     "metadata": {},
     "output_type": "execute_result"
    }
   ],
   "source": [
    "np.zeros_like(a)"
   ]
  },
  {
   "cell_type": "code",
   "execution_count": 96,
   "id": "eb9fbb68",
   "metadata": {},
   "outputs": [
    {
     "data": {
      "text/plain": [
       "array([[1, 1, 1],\n",
       "       [1, 1, 1]])"
      ]
     },
     "execution_count": 96,
     "metadata": {},
     "output_type": "execute_result"
    }
   ],
   "source": [
    "np.ones_like(a)"
   ]
  },
  {
   "cell_type": "code",
   "execution_count": 97,
   "id": "d808c664",
   "metadata": {},
   "outputs": [
    {
     "data": {
      "text/plain": [
       "array([[5, 5, 5],\n",
       "       [5, 5, 5]])"
      ]
     },
     "execution_count": 97,
     "metadata": {},
     "output_type": "execute_result"
    }
   ],
   "source": [
    "np.full_like(fill_value=5, a=a)"
   ]
  },
  {
   "cell_type": "code",
   "execution_count": 98,
   "id": "253bfcf3",
   "metadata": {},
   "outputs": [
    {
     "data": {
      "text/plain": [
       "array([ 1,  3,  5,  7,  9, 11, 13, 15, 17, 19, 21, 23])"
      ]
     },
     "execution_count": 98,
     "metadata": {},
     "output_type": "execute_result"
    }
   ],
   "source": [
    "np.arange(1,30,2.6, dtype=\"int\")"
   ]
  },
  {
   "cell_type": "code",
   "execution_count": 99,
   "id": "a2426e4b",
   "metadata": {},
   "outputs": [
    {
     "data": {
      "text/plain": [
       "array([[24.65897753, 25.23536077, 24.84248895, 27.63479101, 23.2832955 ],\n",
       "       [23.72694567, 23.0001185 , 26.82604563, 25.22063596, 19.70560599],\n",
       "       [26.63816935, 23.7976247 , 23.62022149, 23.53553346, 22.54355259],\n",
       "       [27.80945415, 21.7253921 , 24.88240566, 27.38818   , 25.65179362],\n",
       "       [24.49940831, 21.2456879 , 21.26770925, 27.41337709, 27.96736583]])"
      ]
     },
     "execution_count": 99,
     "metadata": {},
     "output_type": "execute_result"
    }
   ],
   "source": [
    "from numpy.random import Generator as gen\n",
    "from numpy.random import PCG64 as pcg\n",
    "\n",
    "array_gn = gen(pcg(365))\n",
    "array_gn.normal(loc=25, scale=2.5, size=(5,5))"
   ]
  },
  {
   "cell_type": "code",
   "execution_count": 100,
   "id": "a6d8d04c",
   "metadata": {},
   "outputs": [
    {
     "data": {
      "text/plain": [
       "array([[12, 12, 11,  8, 11],\n",
       "       [ 7, 11,  7, 13, 10],\n",
       "       [12, 10,  7, 11,  9],\n",
       "       [ 9, 10, 10, 11, 10],\n",
       "       [11,  6, 11, 12,  8]], dtype=int64)"
      ]
     },
     "execution_count": 100,
     "metadata": {},
     "output_type": "execute_result"
    }
   ],
   "source": [
    "array_gn = gen(pcg(365))\n",
    "array_gn.binomial(20, 0.5, size=(5,5))"
   ]
  },
  {
   "cell_type": "code",
   "execution_count": 101,
   "id": "cf8a316b",
   "metadata": {},
   "outputs": [
    {
     "data": {
      "text/plain": [
       "array([[3.74705494, 4.18757472, 3.12893003, 0.1690029 , 7.2924075 ],\n",
       "       [0.17875367, 1.97610762, 0.03570755, 0.94024462, 2.53422745],\n",
       "       [1.7078003 , 3.40984476, 0.32274946, 0.92645838, 1.00821004],\n",
       "       [1.23990577, 0.72125502, 2.53486362, 7.70978423, 2.25437965],\n",
       "       [2.36931993, 0.32198727, 2.248549  , 8.5512499 , 0.191881  ]])"
      ]
     },
     "execution_count": 101,
     "metadata": {},
     "output_type": "execute_result"
    }
   ],
   "source": [
    "array_gn = gen(pcg(365))\n",
    "array_gn.exponential(2, (5,5))"
   ]
  },
  {
   "cell_type": "code",
   "execution_count": 102,
   "id": "5174df5b",
   "metadata": {},
   "outputs": [
    {
     "data": {
      "text/plain": [
       "array([[12, 10,  7, 11,  8],\n",
       "       [12, 13,  8, 11, 11],\n",
       "       [11, 13,  4,  6,  6],\n",
       "       [10, 10,  7,  8, 10],\n",
       "       [15, 15, 16, 12,  8]], dtype=int64)"
      ]
     },
     "execution_count": 102,
     "metadata": {},
     "output_type": "execute_result"
    }
   ],
   "source": [
    "array_gn.poisson(10, (5,5))"
   ]
  },
  {
   "cell_type": "code",
   "execution_count": 103,
   "id": "d5aad719",
   "metadata": {},
   "outputs": [
    {
     "data": {
      "text/plain": [
       "array([[0.75161463, 0.09717125, 0.8397204 , 0.66449766, 0.05516039],\n",
       "       [0.33356683, 0.0034234 , 0.81017284, 0.3652647 , 0.01801856],\n",
       "       [0.05707939, 0.89919347, 0.03595123, 0.6561056 , 0.71768666],\n",
       "       [0.02869496, 0.01408967, 0.39830591, 0.45560299, 0.02844401],\n",
       "       [0.18681135, 0.17949772, 0.03414217, 0.8640346 , 0.98046548]])"
      ]
     },
     "execution_count": 103,
     "metadata": {},
     "output_type": "execute_result"
    }
   ],
   "source": [
    "array_gn.random((5,5))"
   ]
  },
  {
   "cell_type": "code",
   "execution_count": 104,
   "id": "02bebcfd",
   "metadata": {},
   "outputs": [],
   "source": [
    "array_gn.shuffle(a)"
   ]
  },
  {
   "cell_type": "code",
   "execution_count": 105,
   "id": "b8c8d08a",
   "metadata": {},
   "outputs": [
    {
     "data": {
      "text/plain": [
       "array([[0, 2, 2],\n",
       "       [0, 1, 1]])"
      ]
     },
     "execution_count": 105,
     "metadata": {},
     "output_type": "execute_result"
    }
   ],
   "source": [
    "a"
   ]
  },
  {
   "cell_type": "code",
   "execution_count": 106,
   "id": "b4ffed4e",
   "metadata": {},
   "outputs": [
    {
     "data": {
      "text/plain": [
       "array([[0, 0, 0, 0, 0],\n",
       "       [1, 0, 0, 0, 0],\n",
       "       [0, 0, 0, 0, 1],\n",
       "       [1, 1, 0, 1, 1],\n",
       "       [0, 0, 1, 0, 0]])"
      ]
     },
     "execution_count": 106,
     "metadata": {},
     "output_type": "execute_result"
    }
   ],
   "source": [
    "array_gn.choice(a=[0,1], p=[0.7, 0.3],size=(5,5))"
   ]
  },
  {
   "cell_type": "code",
   "execution_count": 107,
   "id": "6a6a4a30",
   "metadata": {},
   "outputs": [
    {
     "data": {
      "text/plain": [
       "array([[ 2000,    40,   365,  3121,  4241, 13621],\n",
       "       [ 2000,    40,   365,  3061,  4171, 15041],\n",
       "       [ 1000,    40,   365,  2160,  3280, 15340],\n",
       "       ...,\n",
       "       [ 2000,    40,   365,  4201,  5001, 16600],\n",
       "       [ 1000,    40,   365,  2080,  3320, 15600],\n",
       "       [ 2000,    40,   365,  4601,  4601, 16600]])"
      ]
     },
     "execution_count": 107,
     "metadata": {},
     "output_type": "execute_result"
    }
   ],
   "source": [
    "np.loadtxt(\"Lending-Company-Numeric-Data.csv\", delimiter=\",\", dtype=\"int\")"
   ]
  },
  {
   "cell_type": "code",
   "execution_count": 108,
   "id": "f615a846",
   "metadata": {},
   "outputs": [
    {
     "data": {
      "text/plain": [
       "array([[ 2000.,    40.,   365.,  3121.,  4241., 13621.],\n",
       "       [ 2000.,    40.,   365.,  3061.,  4171., 15041.],\n",
       "       [ 1000.,    40.,   365.,  2160.,  3280., 15340.],\n",
       "       ...,\n",
       "       [   nan,    40.,   365.,  4201.,  5001., 16600.],\n",
       "       [ 1000.,    40.,   365.,  2080.,  3320., 15600.],\n",
       "       [ 2000.,    40.,   365.,  4601.,  4601., 16600.]])"
      ]
     },
     "execution_count": 108,
     "metadata": {},
     "output_type": "execute_result"
    }
   ],
   "source": [
    "np.genfromtxt(\"Lending-Company-Numeric-Data-NAN.csv\", delimiter=\";\")"
   ]
  },
  {
   "cell_type": "code",
   "execution_count": 109,
   "id": "9885bc95",
   "metadata": {},
   "outputs": [],
   "source": [
    "a,b,c,d,e,f =np.genfromtxt(\"Lending-Company-Numeric-Data-NAN.csv\", unpack=True, delimiter=\";\")"
   ]
  },
  {
   "cell_type": "code",
   "execution_count": 110,
   "id": "73fd134e",
   "metadata": {},
   "outputs": [
    {
     "data": {
      "text/plain": [
       "(array([2000., 2000., 1000., ...,   nan, 1000., 2000.]),\n",
       " array([40., 40., 40., ..., 40., 40., 40.]),\n",
       " array([365., 365., 365., ..., 365., 365., 365.]),\n",
       " array([3121., 3061., 2160., ..., 4201., 2080., 4601.]),\n",
       " array([4241., 4171., 3280., ..., 5001., 3320., 4601.]),\n",
       " array([13621., 15041., 15340., ..., 16600., 15600., 16600.]))"
      ]
     },
     "execution_count": 110,
     "metadata": {},
     "output_type": "execute_result"
    }
   ],
   "source": [
    "a,b,c,d,e,f"
   ]
  },
  {
   "cell_type": "code",
   "execution_count": 111,
   "id": "aa9efdf8",
   "metadata": {},
   "outputs": [
    {
     "data": {
      "text/plain": [
       "array([ 2250.24777007,    46.10552764,   365.        ,  3895.99286442,\n",
       "        5160.75124378, 16571.43657817])"
      ]
     },
     "execution_count": 111,
     "metadata": {},
     "output_type": "execute_result"
    }
   ],
   "source": [
    "data = np.genfromtxt(\"Lending-Company-Numeric-Data-NAN.csv\", delimiter=\";\", dtype=\"float\")\n",
    "np.nanmean(data, axis=0)"
   ]
  },
  {
   "cell_type": "code",
   "execution_count": 112,
   "id": "ca350217",
   "metadata": {},
   "outputs": [],
   "source": [
    "np.savez(\"multiple\", a=a, b=b, c=c, d=d, e=e, f=f)"
   ]
  },
  {
   "cell_type": "code",
   "execution_count": 113,
   "id": "37b3c378",
   "metadata": {},
   "outputs": [
    {
     "data": {
      "text/plain": [
       "array([2000., 2000., 1000., ...,   nan, 1000., 2000.])"
      ]
     },
     "execution_count": 113,
     "metadata": {},
     "output_type": "execute_result"
    }
   ],
   "source": [
    "data = np.load(\"multiple.npz\")\n",
    "\n",
    "data[\"a\"]"
   ]
  },
  {
   "cell_type": "code",
   "execution_count": 114,
   "id": "e213ee3f",
   "metadata": {},
   "outputs": [
    {
     "data": {
      "text/plain": [
       "['a', 'b', 'c', 'd', 'e', 'f']"
      ]
     },
     "execution_count": 114,
     "metadata": {},
     "output_type": "execute_result"
    }
   ],
   "source": [
    "data.files"
   ]
  },
  {
   "cell_type": "code",
   "execution_count": 115,
   "id": "0cb10e01",
   "metadata": {},
   "outputs": [
    {
     "data": {
      "text/plain": [
       "array([365., 365., 365., ..., 365., 365., 365.])"
      ]
     },
     "execution_count": 115,
     "metadata": {},
     "output_type": "execute_result"
    }
   ],
   "source": [
    "data[\"c\"]"
   ]
  },
  {
   "cell_type": "code",
   "execution_count": 116,
   "id": "07241d60",
   "metadata": {},
   "outputs": [],
   "source": [
    "data = np.loadtxt(\"Lending-Company-Numeric-Data.csv\", delimiter=\",\", dtype=\"int\")\n"
   ]
  },
  {
   "cell_type": "code",
   "execution_count": 117,
   "id": "fdd0fc98",
   "metadata": {},
   "outputs": [
    {
     "data": {
      "text/plain": [
       "array([[ 2000,    40,   365,  3121,  4241, 13621],\n",
       "       [ 2000,    40,   365,  3061,  4171, 15041],\n",
       "       [ 1000,    40,   365,  2160,  3280, 15340],\n",
       "       ...,\n",
       "       [ 2000,    40,   365,  4201,  5001, 16600],\n",
       "       [ 1000,    40,   365,  2080,  3320, 15600],\n",
       "       [ 2000,    40,   365,  4601,  4601, 16600]])"
      ]
     },
     "execution_count": 117,
     "metadata": {},
     "output_type": "execute_result"
    }
   ],
   "source": [
    "data"
   ]
  },
  {
   "cell_type": "code",
   "execution_count": 118,
   "id": "4d4e2297",
   "metadata": {},
   "outputs": [
    {
     "data": {
      "text/plain": [
       "4732.528443592202"
      ]
     },
     "execution_count": 118,
     "metadata": {},
     "output_type": "execute_result"
    }
   ],
   "source": [
    "np.mean(data)"
   ]
  },
  {
   "cell_type": "code",
   "execution_count": 119,
   "id": "1ef974d2",
   "metadata": {},
   "outputs": [
    {
     "data": {
      "text/plain": [
       "4732"
      ]
     },
     "execution_count": 119,
     "metadata": {},
     "output_type": "execute_result"
    }
   ],
   "source": [
    "np.mean(data, dtype=np.int32)"
   ]
  },
  {
   "cell_type": "code",
   "execution_count": 120,
   "id": "01886060",
   "metadata": {},
   "outputs": [
    {
     "data": {
      "text/plain": [
       "array([ 2257.43048897,    46.09300096,   365.        ,  3926.73729626,\n",
       "        5180.99712368, 16618.91275168])"
      ]
     },
     "execution_count": 120,
     "metadata": {},
     "output_type": "execute_result"
    }
   ],
   "source": [
    "np.mean(data, axis=0)"
   ]
  },
  {
   "cell_type": "code",
   "execution_count": 121,
   "id": "f05d4f93",
   "metadata": {},
   "outputs": [
    {
     "data": {
      "text/plain": [
       "array([3898.        , 4113.        , 3697.5       , ..., 4701.16666667,\n",
       "       3734.16666667, 4701.16666667])"
      ]
     },
     "execution_count": 121,
     "metadata": {},
     "output_type": "execute_result"
    }
   ],
   "source": [
    "np.mean(data, axis=1)"
   ]
  },
  {
   "cell_type": "code",
   "execution_count": 122,
   "id": "756c0ac4",
   "metadata": {},
   "outputs": [],
   "source": [
    "matrix_A = np.array([[1,0,0,3,1], [3,6,6,2,9], [4,5,3,8,0]])\n"
   ]
  },
  {
   "cell_type": "code",
   "execution_count": 123,
   "id": "7cec040e",
   "metadata": {},
   "outputs": [
    {
     "data": {
      "text/plain": [
       "9"
      ]
     },
     "execution_count": 123,
     "metadata": {},
     "output_type": "execute_result"
    }
   ],
   "source": [
    "np.ptp(matrix_A)"
   ]
  },
  {
   "cell_type": "code",
   "execution_count": 124,
   "id": "d43f7d8b",
   "metadata": {},
   "outputs": [
    {
     "data": {
      "text/plain": [
       "array([3, 6, 6, 6, 9])"
      ]
     },
     "execution_count": 124,
     "metadata": {},
     "output_type": "execute_result"
    }
   ],
   "source": [
    "np.ptp(matrix_A, axis=0)"
   ]
  },
  {
   "cell_type": "code",
   "execution_count": 125,
   "id": "02f3fa44",
   "metadata": {},
   "outputs": [
    {
     "data": {
      "text/plain": [
       "array([3, 9, 8])"
      ]
     },
     "execution_count": 125,
     "metadata": {},
     "output_type": "execute_result"
    }
   ],
   "source": [
    "np.percentile(matrix_A, 90, axis=1,  method=\"nearest\")"
   ]
  },
  {
   "cell_type": "code",
   "execution_count": 126,
   "id": "08310bc7",
   "metadata": {},
   "outputs": [
    {
     "data": {
      "text/plain": [
       "array([[1, 0, 0, 3, 1],\n",
       "       [3, 6, 6, 2, 9],\n",
       "       [4, 5, 3, 8, 0]])"
      ]
     },
     "execution_count": 126,
     "metadata": {},
     "output_type": "execute_result"
    }
   ],
   "source": [
    "matrix_A"
   ]
  },
  {
   "cell_type": "code",
   "execution_count": 127,
   "id": "2b453e30",
   "metadata": {},
   "outputs": [
    {
     "data": {
      "text/plain": [
       "array([0, 0, 0, 1, 1, 2, 3, 3, 3, 4, 5, 6, 6, 8, 9])"
      ]
     },
     "execution_count": 127,
     "metadata": {},
     "output_type": "execute_result"
    }
   ],
   "source": [
    "np.sort(matrix_A, axis=None)"
   ]
  },
  {
   "cell_type": "code",
   "execution_count": 128,
   "id": "cfe9a780",
   "metadata": {},
   "outputs": [
    {
     "data": {
      "text/plain": [
       "(array([3, 2, 1, 3, 1, 1, 2, 0, 1, 1], dtype=int64),\n",
       " array([0. , 0.9, 1.8, 2.7, 3.6, 4.5, 5.4, 6.3, 7.2, 8.1, 9. ]))"
      ]
     },
     "execution_count": 128,
     "metadata": {},
     "output_type": "execute_result"
    }
   ],
   "source": [
    "np.histogram(matrix_A)"
   ]
  },
  {
   "cell_type": "code",
   "execution_count": 129,
   "id": "fd11b33a",
   "metadata": {},
   "outputs": [
    {
     "data": {
      "text/plain": [
       "(array([4, 1, 2, 0, 2], dtype=int64), array([3. , 4.2, 5.4, 6.6, 7.8, 9. ]))"
      ]
     },
     "execution_count": 129,
     "metadata": {},
     "output_type": "execute_result"
    }
   ],
   "source": [
    "np.histogram(matrix_A, bins=5, range=(3,9))"
   ]
  },
  {
   "cell_type": "code",
   "execution_count": 133,
   "id": "a98f4328",
   "metadata": {},
   "outputs": [
    {
     "data": {
      "text/plain": [
       "(array([5, 4, 2, 2, 2], dtype=int64), array([0. , 1.8, 3.6, 5.4, 7.2, 9. ]))"
      ]
     },
     "execution_count": 133,
     "metadata": {},
     "output_type": "execute_result"
    }
   ],
   "source": [
    "np.histogram(matrix_A, bins=5)"
   ]
  },
  {
   "cell_type": "code",
   "execution_count": 132,
   "id": "79586e8e",
   "metadata": {},
   "outputs": [
    {
     "data": {
      "text/plain": [
       "(array([5., 4., 2., 2., 2.]),\n",
       " array([0. , 1.8, 3.6, 5.4, 7.2, 9. ]),\n",
       " <BarContainer object of 5 artists>)"
      ]
     },
     "execution_count": 132,
     "metadata": {},
     "output_type": "execute_result"
    },
    {
     "data": {
      "image/png": "[encoded data removed]",
      "text/plain": [
       "<Figure size 432x288 with 1 Axes>"
      ]
     },
     "metadata": {
      "needs_background": "light"
     },
     "output_type": "display_data"
    }
   ],
   "source": [
    "import matplotlib.pyplot as plt\n",
    "plt.hist(matrix_A.flat, np.histogram(matrix_A, bins=5)[1])"
   ]
  },
  {
   "cell_type": "code",
   "execution_count": 134,
   "id": "bb77480e",
   "metadata": {},
   "outputs": [
    {
     "data": {
      "text/plain": [
       "260"
      ]
     },
     "execution_count": 134,
     "metadata": {},
     "output_type": "execute_result"
    }
   ],
   "source": [
    "data = np.genfromtxt(\"Lending-Company-Numeric-Data-NAN.csv\", delimiter=\";\", dtype=\"float\")\n",
    "np.isnan(data).sum()"
   ]
  },
  {
   "cell_type": "code",
   "execution_count": 136,
   "id": "da82fe84",
   "metadata": {},
   "outputs": [
    {
     "data": {
      "text/plain": [
       "64002.0"
      ]
     },
     "execution_count": 136,
     "metadata": {},
     "output_type": "execute_result"
    }
   ],
   "source": [
    "temporary_fill = np.nanmax(data)+1\n",
    "temporary_fill"
   ]
  },
  {
   "cell_type": "code",
   "execution_count": 138,
   "id": "b5d2c22c",
   "metadata": {},
   "outputs": [
    {
     "data": {
      "text/plain": [
       "array([ 2250.24777007,    46.10552764,   365.        ,  3895.99286442,\n",
       "        5160.75124378, 16571.43657817])"
      ]
     },
     "execution_count": 138,
     "metadata": {},
     "output_type": "execute_result"
    }
   ],
   "source": [
    "temporary_mean = np.nanmean(data, axis=0)\n",
    "temporary_mean"
   ]
  },
  {
   "cell_type": "code",
   "execution_count": 140,
   "id": "ea8b9e5e",
   "metadata": {},
   "outputs": [
    {
     "data": {
      "text/plain": [
       "array([[ 2000.,    40.,   365.,  3121.,  4241., 13621.],\n",
       "       [ 2000.,    40.,   365.,  3061.,  4171., 15041.],\n",
       "       [ 1000.,    40.,   365.,  2160.,  3280., 15340.],\n",
       "       ...,\n",
       "       [64002.,    40.,   365.,  4201.,  5001., 16600.],\n",
       "       [ 1000.,    40.,   365.,  2080.,  3320., 15600.],\n",
       "       [ 2000.,    40.,   365.,  4601.,  4601., 16600.]])"
      ]
     },
     "execution_count": 140,
     "metadata": {},
     "output_type": "execute_result"
    }
   ],
   "source": [
    "np.set_printoptions(suppress=True)\n",
    "data = np.genfromtxt(\"Lending-Company-Numeric-Data-NAN.csv\", delimiter=\";\", dtype=\"float\", filling_values=temporary_fill)\n",
    "data"
   ]
  },
  {
   "cell_type": "code",
   "execution_count": 141,
   "id": "58375cd0",
   "metadata": {},
   "outputs": [],
   "source": [
    "for i in range (data.shape[1]):\n",
    "    data[:, i] = np.where(data[:, i]==temporary_fill, temporary_mean[i], data[:, i])"
   ]
  },
  {
   "cell_type": "code",
   "execution_count": 142,
   "id": "c3da9462",
   "metadata": {},
   "outputs": [
    {
     "data": {
      "text/plain": [
       "array([[ 2000.        ,    40.        ,   365.        ,  3121.        ,\n",
       "         4241.        , 13621.        ],\n",
       "       [ 2000.        ,    40.        ,   365.        ,  3061.        ,\n",
       "         4171.        , 15041.        ],\n",
       "       [ 1000.        ,    40.        ,   365.        ,  2160.        ,\n",
       "         3280.        , 15340.        ],\n",
       "       ...,\n",
       "       [ 2250.24777007,    40.        ,   365.        ,  4201.        ,\n",
       "         5001.        , 16600.        ],\n",
       "       [ 1000.        ,    40.        ,   365.        ,  2080.        ,\n",
       "         3320.        , 15600.        ],\n",
       "       [ 2000.        ,    40.        ,   365.        ,  4601.        ,\n",
       "         4601.        , 16600.        ]])"
      ]
     },
     "execution_count": 142,
     "metadata": {},
     "output_type": "execute_result"
    }
   ],
   "source": [
    "data"
   ]
  },
  {
   "cell_type": "code",
   "execution_count": 143,
   "id": "734034f3",
   "metadata": {},
   "outputs": [
    {
     "data": {
      "text/plain": [
       "array([   40.,   365.,  3121., ...,  4601.,  4601., 16600.])"
      ]
     },
     "execution_count": 143,
     "metadata": {},
     "output_type": "execute_result"
    }
   ],
   "source": [
    "np.delete(data, 0)"
   ]
  },
  {
   "cell_type": "code",
   "execution_count": 146,
   "id": "b48ff97b",
   "metadata": {},
   "outputs": [
    {
     "data": {
      "text/plain": [
       "array([[ 3121.,  4241., 13621.],\n",
       "       [ 3061.,  4171., 15041.],\n",
       "       [ 2160.,  3280., 15340.],\n",
       "       ...,\n",
       "       [ 4201.,  5001., 16600.],\n",
       "       [ 2080.,  3320., 15600.],\n",
       "       [ 4601.,  4601., 16600.]])"
      ]
     },
     "execution_count": 146,
     "metadata": {},
     "output_type": "execute_result"
    }
   ],
   "source": [
    "np.delete(data, [0,1,2], axis=1)"
   ]
  },
  {
   "cell_type": "code",
   "execution_count": 147,
   "id": "cefc0bb4",
   "metadata": {},
   "outputs": [
    {
     "data": {
      "text/plain": [
       "array([-2870., -2870., -2550., ..., 54625., 54625., 64001.])"
      ]
     },
     "execution_count": 147,
     "metadata": {},
     "output_type": "execute_result"
    }
   ],
   "source": [
    "np.sort(data, axis=None)"
   ]
  },
  {
   "cell_type": "code",
   "execution_count": 148,
   "id": "3e18352b",
   "metadata": {},
   "outputs": [
    {
     "data": {
      "text/plain": [
       "array([[ 1000.,    35.,   365., -2870., -2870.,  -350.],\n",
       "       [ 1000.,    35.,   365., -2550., -2100.,  1100.],\n",
       "       [ 1000.,    35.,   365., -2450., -1750.,  1160.],\n",
       "       ...,\n",
       "       [ 9000.,   125.,   365., 16001., 18250., 54625.],\n",
       "       [ 9000.,   165.,   365., 16751., 18751., 54625.],\n",
       "       [ 9000.,   165.,   365., 17650., 20001., 64001.]])"
      ]
     },
     "execution_count": 148,
     "metadata": {},
     "output_type": "execute_result"
    }
   ],
   "source": [
    "np.sort(data, axis=0)"
   ]
  },
  {
   "cell_type": "code",
   "execution_count": 149,
   "id": "b9016a06",
   "metadata": {},
   "outputs": [
    {
     "data": {
      "text/plain": [
       "array([[   40.        ,   365.        ,  2000.        ,  3121.        ,\n",
       "         4241.        , 13621.        ],\n",
       "       [   40.        ,   365.        ,  2000.        ,  3061.        ,\n",
       "         4171.        , 15041.        ],\n",
       "       [   40.        ,   365.        ,  1000.        ,  2160.        ,\n",
       "         3280.        , 15340.        ],\n",
       "       ...,\n",
       "       [   40.        ,   365.        ,  2250.24777007,  4201.        ,\n",
       "         5001.        , 16600.        ],\n",
       "       [   40.        ,   365.        ,  1000.        ,  2080.        ,\n",
       "         3320.        , 15600.        ],\n",
       "       [   40.        ,   365.        ,  2000.        ,  4601.        ,\n",
       "         4601.        , 16600.        ]])"
      ]
     },
     "execution_count": 149,
     "metadata": {},
     "output_type": "execute_result"
    }
   ],
   "source": [
    "np.sort(data, axis=1)"
   ]
  },
  {
   "cell_type": "code",
   "execution_count": 150,
   "id": "524bc48a",
   "metadata": {},
   "outputs": [
    {
     "data": {
      "text/plain": [
       "array([64001., 54625., 54625., ..., -2550., -2870., -2870.])"
      ]
     },
     "execution_count": 150,
     "metadata": {},
     "output_type": "execute_result"
    }
   ],
   "source": [
    "-np.sort(-data, axis=None)"
   ]
  },
  {
   "cell_type": "code",
   "execution_count": 152,
   "id": "ecf52945",
   "metadata": {},
   "outputs": [
    {
     "data": {
      "text/plain": [
       "array([ 167, 6119, 5723, ...,  999,  196,  195], dtype=int64)"
      ]
     },
     "execution_count": 152,
     "metadata": {},
     "output_type": "execute_result"
    }
   ],
   "source": [
    "np.argsort(-data, axis=None)"
   ]
  },
  {
   "cell_type": "code",
   "execution_count": 154,
   "id": "c140643e",
   "metadata": {},
   "outputs": [
    {
     "data": {
      "text/plain": [
       "64001.0"
      ]
     },
     "execution_count": 154,
     "metadata": {},
     "output_type": "execute_result"
    }
   ],
   "source": [
    "data.flat[167]"
   ]
  },
  {
   "cell_type": "code",
   "execution_count": 155,
   "id": "1532f3a0",
   "metadata": {},
   "outputs": [
    {
     "data": {
      "text/plain": [
       "array([[ 166,  327,    0,   32,   32,  482],\n",
       "       [ 847,  443,  687,  166,  166,  166],\n",
       "       [ 846,  816,  688,   85,  448,   32],\n",
       "       ...,\n",
       "       [ 193, 1019,  355, 1033,  721,  568],\n",
       "       [ 288,  408,  357,  568, 1019,  720],\n",
       "       [ 420,   27, 1042,  718, 1033,   27]], dtype=int64)"
      ]
     },
     "execution_count": 155,
     "metadata": {},
     "output_type": "execute_result"
    }
   ],
   "source": []
  },
  {
   "cell_type": "code",
   "execution_count": 157,
   "id": "8783249b",
   "metadata": {},
   "outputs": [
    {
     "data": {
      "text/plain": [
       "1000.0"
      ]
     },
     "execution_count": 157,
     "metadata": {},
     "output_type": "execute_result"
    }
   ],
   "source": [
    "data[166,0]"
   ]
  },
  {
   "cell_type": "code",
   "execution_count": 158,
   "id": "8bdf1f34",
   "metadata": {},
   "outputs": [
    {
     "data": {
      "text/plain": [
       "array([[ 1000.,    50.,   365., -2550., -2100.,  1100.],\n",
       "       [ 1000.,    40.,   365.,  3000.,  4000., 15600.],\n",
       "       [ 1000.,    50.,   365.,   200.,   700., 19250.],\n",
       "       ...,\n",
       "       [ 9000.,   125.,   365., 12501., 16001., 52751.],\n",
       "       [ 9000.,   125.,   365., 12326., 16576., 45076.],\n",
       "       [ 9000.,   125.,   365., 12251., 14251., 25626.]])"
      ]
     },
     "execution_count": 158,
     "metadata": {},
     "output_type": "execute_result"
    }
   ],
   "source": [
    "data[np.argsort(data, axis=0)[:,0], :]"
   ]
  },
  {
   "cell_type": "code",
   "execution_count": 160,
   "id": "2c8aa1f0",
   "metadata": {},
   "outputs": [
    {
     "data": {
      "text/plain": [
       "array([ 9000.,   125.,   365., 12501., 16001., 52751.])"
      ]
     },
     "execution_count": 160,
     "metadata": {},
     "output_type": "execute_result"
    }
   ],
   "source": [
    "data[193]"
   ]
  },
  {
   "cell_type": "code",
   "execution_count": 164,
   "id": "e296417a",
   "metadata": {},
   "outputs": [
    {
     "data": {
      "text/plain": [
       "array([[  11,    3],\n",
       "       [  15,    3],\n",
       "       [  27,    3],\n",
       "       [  58,    3],\n",
       "       [  60,    4],\n",
       "       [  85,    4],\n",
       "       [ 117,    5],\n",
       "       [ 152,    1],\n",
       "       [ 152,    2],\n",
       "       [ 152,    4],\n",
       "       [ 172,    1],\n",
       "       [ 175,    1],\n",
       "       [ 175,    2],\n",
       "       [ 176,    3],\n",
       "       [ 177,    4],\n",
       "       [ 178,    5],\n",
       "       [ 211,    3],\n",
       "       [ 229,    0],\n",
       "       [ 230,    1],\n",
       "       [ 237,    1],\n",
       "       [ 247,    3],\n",
       "       [ 251,    5],\n",
       "       [ 252,    4],\n",
       "       [ 258,    1],\n",
       "       [ 260,    3],\n",
       "       [ 262,    4],\n",
       "       [ 271,    5],\n",
       "       [ 272,    4],\n",
       "       [ 284,    2],\n",
       "       [ 284,    3],\n",
       "       [ 297,    1],\n",
       "       [ 297,    2],\n",
       "       [ 300,    3],\n",
       "       [ 315,    3],\n",
       "       [ 315,    5],\n",
       "       [ 327,    4],\n",
       "       [ 336,    4],\n",
       "       [ 343,    0],\n",
       "       [ 344,    2],\n",
       "       [ 346,    2],\n",
       "       [ 363,    3],\n",
       "       [ 375,    3],\n",
       "       [ 377,    2],\n",
       "       [ 398,    5],\n",
       "       [ 416,    4],\n",
       "       [ 428,    0],\n",
       "       [ 432,    1],\n",
       "       [ 433,    3],\n",
       "       [ 434,    2],\n",
       "       [ 440,    3],\n",
       "       [ 441,    1],\n",
       "       [ 446,    2],\n",
       "       [ 455,    1],\n",
       "       [ 456,    2],\n",
       "       [ 458,    2],\n",
       "       [ 461,    3],\n",
       "       [ 467,    4],\n",
       "       [ 468,    0],\n",
       "       [ 469,    3],\n",
       "       [ 470,    0],\n",
       "       [ 481,    1],\n",
       "       [ 482,    3],\n",
       "       [ 484,    4],\n",
       "       [ 489,    0],\n",
       "       [ 493,    5],\n",
       "       [ 499,    0],\n",
       "       [ 504,    3],\n",
       "       [ 506,    1],\n",
       "       [ 517,    4],\n",
       "       [ 518,    0],\n",
       "       [ 521,    2],\n",
       "       [ 530,    5],\n",
       "       [ 532,    3],\n",
       "       [ 534,    5],\n",
       "       [ 547,    3],\n",
       "       [ 549,    5],\n",
       "       [ 553,    5],\n",
       "       [ 554,    5],\n",
       "       [ 559,    3],\n",
       "       [ 566,    0],\n",
       "       [ 566,    1],\n",
       "       [ 566,    2],\n",
       "       [ 567,    0],\n",
       "       [ 567,    1],\n",
       "       [ 567,    2],\n",
       "       [ 581,    1],\n",
       "       [ 581,    2],\n",
       "       [ 582,    1],\n",
       "       [ 582,    2],\n",
       "       [ 583,    1],\n",
       "       [ 583,    2],\n",
       "       [ 593,    3],\n",
       "       [ 594,    3],\n",
       "       [ 595,    3],\n",
       "       [ 596,    3],\n",
       "       [ 609,    4],\n",
       "       [ 609,    5],\n",
       "       [ 610,    4],\n",
       "       [ 610,    5],\n",
       "       [ 611,    4],\n",
       "       [ 611,    5],\n",
       "       [ 612,    4],\n",
       "       [ 612,    5],\n",
       "       [ 623,    2],\n",
       "       [ 623,    3],\n",
       "       [ 624,    2],\n",
       "       [ 624,    3],\n",
       "       [ 625,    2],\n",
       "       [ 625,    3],\n",
       "       [ 626,    2],\n",
       "       [ 626,    3],\n",
       "       [ 627,    2],\n",
       "       [ 627,    3],\n",
       "       [ 636,    0],\n",
       "       [ 637,    0],\n",
       "       [ 637,    4],\n",
       "       [ 637,    5],\n",
       "       [ 638,    0],\n",
       "       [ 638,    4],\n",
       "       [ 638,    5],\n",
       "       [ 639,    4],\n",
       "       [ 639,    5],\n",
       "       [ 640,    4],\n",
       "       [ 640,    5],\n",
       "       [ 641,    4],\n",
       "       [ 641,    5],\n",
       "       [ 653,    1],\n",
       "       [ 653,    2],\n",
       "       [ 653,    3],\n",
       "       [ 653,    4],\n",
       "       [ 654,    1],\n",
       "       [ 654,    2],\n",
       "       [ 654,    3],\n",
       "       [ 654,    4],\n",
       "       [ 655,    1],\n",
       "       [ 655,    2],\n",
       "       [ 655,    3],\n",
       "       [ 655,    4],\n",
       "       [ 685,    2],\n",
       "       [ 686,    0],\n",
       "       [ 701,    4],\n",
       "       [ 704,    2],\n",
       "       [ 724,    1],\n",
       "       [ 724,    2],\n",
       "       [ 730,    1],\n",
       "       [ 730,    2],\n",
       "       [ 730,    3],\n",
       "       [ 731,    1],\n",
       "       [ 731,    2],\n",
       "       [ 731,    3],\n",
       "       [ 732,    1],\n",
       "       [ 732,    2],\n",
       "       [ 732,    3],\n",
       "       [ 733,    1],\n",
       "       [ 733,    2],\n",
       "       [ 733,    3],\n",
       "       [ 742,    4],\n",
       "       [ 747,    3],\n",
       "       [ 755,    1],\n",
       "       [ 758,    1],\n",
       "       [ 760,    1],\n",
       "       [ 764,    0],\n",
       "       [ 764,    1],\n",
       "       [ 764,    2],\n",
       "       [ 764,    3],\n",
       "       [ 764,    4],\n",
       "       [ 764,    5],\n",
       "       [ 765,    3],\n",
       "       [ 775,    1],\n",
       "       [ 775,    2],\n",
       "       [ 775,    3],\n",
       "       [ 776,    1],\n",
       "       [ 776,    2],\n",
       "       [ 776,    3],\n",
       "       [ 777,    1],\n",
       "       [ 777,    2],\n",
       "       [ 777,    3],\n",
       "       [ 778,    1],\n",
       "       [ 778,    2],\n",
       "       [ 778,    3],\n",
       "       [ 787,    4],\n",
       "       [ 788,    1],\n",
       "       [ 790,    2],\n",
       "       [ 794,    3],\n",
       "       [ 795,    5],\n",
       "       [ 796,    1],\n",
       "       [ 796,    4],\n",
       "       [ 800,    0],\n",
       "       [ 801,    1],\n",
       "       [ 802,    1],\n",
       "       [ 803,    2],\n",
       "       [ 805,    0],\n",
       "       [ 809,    0],\n",
       "       [ 810,    0],\n",
       "       [ 811,    0],\n",
       "       [ 812,    1],\n",
       "       [ 820,    0],\n",
       "       [ 820,    3],\n",
       "       [ 820,    4],\n",
       "       [ 822,    2],\n",
       "       [ 823,    2],\n",
       "       [ 825,    0],\n",
       "       [ 830,    1],\n",
       "       [ 830,    2],\n",
       "       [ 836,    3],\n",
       "       [ 837,    3],\n",
       "       [ 838,    3],\n",
       "       [ 839,    4],\n",
       "       [ 843,    2],\n",
       "       [ 856,    0],\n",
       "       [ 856,    1],\n",
       "       [ 856,    3],\n",
       "       [ 856,    4],\n",
       "       [ 856,    5],\n",
       "       [ 857,    0],\n",
       "       [ 858,    1],\n",
       "       [ 870,    0],\n",
       "       [ 870,    2],\n",
       "       [ 870,    3],\n",
       "       [ 872,    0],\n",
       "       [ 873,    0],\n",
       "       [ 874,    1],\n",
       "       [ 890,    1],\n",
       "       [ 890,    2],\n",
       "       [ 890,    3],\n",
       "       [ 909,    1],\n",
       "       [ 910,    0],\n",
       "       [ 912,    0],\n",
       "       [ 912,    2],\n",
       "       [ 912,    3],\n",
       "       [ 912,    4],\n",
       "       [ 928,    1],\n",
       "       [ 928,    2],\n",
       "       [ 928,    3],\n",
       "       [ 929,    1],\n",
       "       [ 929,    2],\n",
       "       [ 929,    3],\n",
       "       [ 930,    3],\n",
       "       [ 958,    2],\n",
       "       [ 959,    3],\n",
       "       [ 960,    3],\n",
       "       [1024,    0],\n",
       "       [1024,    2],\n",
       "       [1026,    2],\n",
       "       [1026,    4],\n",
       "       [1028,    0],\n",
       "       [1028,    3],\n",
       "       [1028,    4],\n",
       "       [1029,    0],\n",
       "       [1030,    1],\n",
       "       [1030,    5],\n",
       "       [1032,    0],\n",
       "       [1032,    5],\n",
       "       [1034,    3],\n",
       "       [1035,    4],\n",
       "       [1036,    2],\n",
       "       [1037,    1],\n",
       "       [1038,    4],\n",
       "       [1039,    3],\n",
       "       [1040,    0]], dtype=int64)"
      ]
     },
     "execution_count": 164,
     "metadata": {},
     "output_type": "execute_result"
    }
   ],
   "source": [
    "data = np.genfromtxt(\"Lending-Company-Numeric-Data-NAN.csv\", delimiter=\";\", dtype=\"float\")\n",
    "np.argwhere(np.isnan(data))"
   ]
  },
  {
   "cell_type": "code",
   "execution_count": 169,
   "id": "2fdf8046",
   "metadata": {},
   "outputs": [],
   "source": [
    "from numpy.random import Generator as gn\n",
    "from numpy.random import PCG64 as pcg\n",
    "\n",
    "gn(pcg()).shuffle(data, axis=0)"
   ]
  },
  {
   "cell_type": "code",
   "execution_count": 170,
   "id": "ae9d48b8",
   "metadata": {},
   "outputs": [
    {
     "data": {
      "text/plain": [
       "array([[ 1000.,    50.,   365., -1750.,  -250., 19250.],\n",
       "       [ 2000.,    40.,   365.,  3200.,  4320., 16600.],\n",
       "       [ 2000.,    40.,   365.,  3131.,  4331., 16178.],\n",
       "       ...,\n",
       "       [ 2000.,    50.,   365.,  3750.,  5250., 20250.],\n",
       "       [ 1000.,    40.,   365.,  2240.,  3360., 15160.],\n",
       "       [ 1000.,    40.,   365.,  2200.,  3770., 15600.]])"
      ]
     },
     "execution_count": 170,
     "metadata": {},
     "output_type": "execute_result"
    }
   ],
   "source": [
    "data"
   ]
  },
  {
   "cell_type": "code",
   "execution_count": 172,
   "id": "213f0f17",
   "metadata": {},
   "outputs": [],
   "source": [
    "lending_co_total_price = np.genfromtxt('Lending-Company-Total-Price.csv', \n",
    "                                       delimiter=',',\n",
    "                                      dtype=\"str\",\n",
    "                                      skip_header=1,\n",
    "                                      usecols=(1,2,4))"
   ]
  },
  {
   "cell_type": "code",
   "execution_count": 173,
   "id": "d2c0f969",
   "metadata": {},
   "outputs": [
    {
     "data": {
      "text/plain": [
       "array([['id_1', 'Product B', 'Location 2'],\n",
       "       ['id_2', 'Product B', 'Location 3'],\n",
       "       ['id_3', 'Product C', 'Location 5'],\n",
       "       ...,\n",
       "       ['id_413', 'Product B', 'Location 135'],\n",
       "       ['id_414', 'Product C', 'Location 200'],\n",
       "       ['id_415', 'Product A', 'Location 8']], dtype='<U12')"
      ]
     },
     "execution_count": 173,
     "metadata": {},
     "output_type": "execute_result"
    }
   ],
   "source": [
    "lending_co_total_price"
   ]
  },
  {
   "cell_type": "code",
   "execution_count": 174,
   "id": "7427d051",
   "metadata": {},
   "outputs": [
    {
     "data": {
      "text/plain": [
       "chararray([['1', 'Product B', 'Location 2'],\n",
       "           ['2', 'Product B', 'Location 3'],\n",
       "           ['3', 'Product C', 'Location 5'],\n",
       "           ...,\n",
       "           ['413', 'Product B', 'Location 135'],\n",
       "           ['414', 'Product C', 'Location 200'],\n",
       "           ['415', 'Product A', 'Location 8']], dtype='<U12')"
      ]
     },
     "execution_count": 174,
     "metadata": {},
     "output_type": "execute_result"
    }
   ],
   "source": [
    "np.chararray.strip(lending_co_total_price, \"id_\")"
   ]
  },
  {
   "cell_type": "code",
   "execution_count": 176,
   "id": "467c3ea2",
   "metadata": {},
   "outputs": [
    {
     "data": {
      "text/plain": [
       "array([['id_1', 'Product B', 'Location 2'],\n",
       "       ['id_2', 'Product B', 'Location 3'],\n",
       "       ['id_3', 'Product C', 'Location 5'],\n",
       "       ...,\n",
       "       ['id_413', 'Product B', 'Location 135'],\n",
       "       ['id_414', 'Product C', 'Location 200'],\n",
       "       ['id_415', 'Product A', 'Location 8']], dtype='<U12')"
      ]
     },
     "execution_count": 176,
     "metadata": {},
     "output_type": "execute_result"
    }
   ],
   "source": [
    "lending_co_total_price"
   ]
  },
  {
   "cell_type": "code",
   "execution_count": 179,
   "id": "b009a378",
   "metadata": {},
   "outputs": [
    {
     "data": {
      "text/plain": [
       "(array([1000., 2000., 2500., 4000., 9000.,   nan]),\n",
       " array([237, 566,  15, 171,  20,  34], dtype=int64))"
      ]
     },
     "execution_count": 179,
     "metadata": {},
     "output_type": "execute_result"
    }
   ],
   "source": [
    "np.unique(data[:,0], return_counts=True)"
   ]
  },
  {
   "cell_type": "code",
   "execution_count": 1,
   "id": "ef368665",
   "metadata": {},
   "outputs": [],
   "source": [
    "import numpy as np"
   ]
  },
  {
   "cell_type": "code",
   "execution_count": 3,
   "id": "84a636fc",
   "metadata": {},
   "outputs": [
    {
     "data": {
      "text/plain": [
       "array([[1, 2, 3, 4],\n",
       "       [1, 1, 1, 1]])"
      ]
     },
     "execution_count": 3,
     "metadata": {},
     "output_type": "execute_result"
    }
   ],
   "source": [
    "matrix_A = np.array([1,2,3,4])\n",
    "matrix_B = np.array([1,1,1,1])\n",
    "np.stack((matrix_A, matrix_B))"
   ]
  },
  {
   "cell_type": "code",
   "execution_count": 5,
   "id": "39e0fcee",
   "metadata": {},
   "outputs": [
    {
     "data": {
      "text/plain": [
       "array([1, 2, 3, 4, 1, 2, 3])"
      ]
     },
     "execution_count": 5,
     "metadata": {},
     "output_type": "execute_result"
    }
   ],
   "source": [
    "matrix_B = np.array([1,2,3])\n",
    "np.concatenate((matrix_A, matrix_B))"
   ]
  },
  {
   "cell_type": "code",
   "execution_count": 6,
   "id": "2a82e5fe",
   "metadata": {},
   "outputs": [
    {
     "data": {
      "text/plain": [
       "array([[[ 1,  1,  1],\n",
       "        [ 2,  2,  2]],\n",
       "\n",
       "       [[-1, -1, -1],\n",
       "        [-2, -2, -2]]])"
      ]
     },
     "execution_count": 6,
     "metadata": {},
     "output_type": "execute_result"
    }
   ],
   "source": [
    "matrix_A = np.array([[1,1,1], [2,2,2]])\n",
    "matrix_B = np.array([[-1,-1,-1], [-2,-2,-2]])\n",
    "np.stack((matrix_A, matrix_B))"
   ]
  },
  {
   "cell_type": "code",
   "execution_count": 8,
   "id": "c56e4214",
   "metadata": {},
   "outputs": [
    {
     "data": {
      "text/plain": [
       "array([[[ 1,  1,  1],\n",
       "        [-1, -1, -1]],\n",
       "\n",
       "       [[ 2,  2,  2],\n",
       "        [-2, -2, -2]]])"
      ]
     },
     "execution_count": 8,
     "metadata": {},
     "output_type": "execute_result"
    }
   ],
   "source": [
    "np.stack((matrix_A, matrix_B), axis=1)"
   ]
  },
  {
   "cell_type": "code",
   "execution_count": 9,
   "id": "8a301064",
   "metadata": {},
   "outputs": [
    {
     "data": {
      "text/plain": [
       "array([[ 1,  1,  1],\n",
       "       [ 2,  2,  2],\n",
       "       [-1, -1, -1],\n",
       "       [-2, -2, -2]])"
      ]
     },
     "execution_count": 9,
     "metadata": {},
     "output_type": "execute_result"
    }
   ],
   "source": [
    "np.concatenate((matrix_A, matrix_B))"
   ]
  },
  {
   "cell_type": "code",
   "execution_count": 10,
   "id": "3258cf24",
   "metadata": {},
   "outputs": [
    {
     "data": {
      "text/plain": [
       "array([[ 1,  1,  1, -1, -1, -1],\n",
       "       [ 2,  2,  2, -2, -2, -2]])"
      ]
     },
     "execution_count": 10,
     "metadata": {},
     "output_type": "execute_result"
    }
   ],
   "source": [
    "np.concatenate((matrix_A, matrix_B), axis=1)"
   ]
  },
  {
   "cell_type": "code",
   "execution_count": 11,
   "id": "08ca8cfb",
   "metadata": {},
   "outputs": [
    {
     "data": {
      "text/plain": [
       "array([[ 1,  1,  1],\n",
       "       [ 2,  2,  2],\n",
       "       [-1, -1, -1],\n",
       "       [-2, -2, -2]])"
      ]
     },
     "execution_count": 11,
     "metadata": {},
     "output_type": "execute_result"
    }
   ],
   "source": [
    "np.vstack((matrix_A, matrix_B))"
   ]
  },
  {
   "cell_type": "code",
   "execution_count": 12,
   "id": "2f63e283",
   "metadata": {},
   "outputs": [
    {
     "data": {
      "text/plain": [
       "array([[ 1,  1,  1, -1, -1, -1],\n",
       "       [ 2,  2,  2, -2, -2, -2]])"
      ]
     },
     "execution_count": 12,
     "metadata": {},
     "output_type": "execute_result"
    }
   ],
   "source": [
    "np.hstack((matrix_A, matrix_B))"
   ]
  },
  {
   "cell_type": "code",
   "execution_count": null,
   "id": "b7baa753",
   "metadata": {},
   "outputs": [],
   "source": []
  }
 ],
 "metadata": {
  "kernelspec": {
   "display_name": "Python 3 (ipykernel)",
   "language": "python",
   "name": "python3"
  },
  "language_info": {
   "codemirror_mode": {
    "name": "ipython",
    "version": 3
   },
   "file_extension": ".py",
   "mimetype": "text/x-python",
   "name": "python",
   "nbconvert_exporter": "python",
   "pygments_lexer": "ipython3",
   "version": "3.9.7"
  }
 },
 "nbformat": 4,
 "nbformat_minor": 5
}

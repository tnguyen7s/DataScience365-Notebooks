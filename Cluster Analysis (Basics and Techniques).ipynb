{
 "cells": [
  {
   "cell_type": "markdown",
   "id": "de7a4a94",
   "metadata": {},
   "source": [
    "# Intro to cluster analysis"
   ]
  },
  {
   "cell_type": "markdown",
   "id": "1d889ae1",
   "metadata": {},
   "source": [
    "Cluster analysis is a multivariate statistical technique that groups observations on the basis some of their features or variables that they are described by.\n",
    "In other words, observations in a dataset is divided into different groups."
   ]
  },
  {
   "cell_type": "markdown",
   "id": "723bb3fe",
   "metadata": {},
   "source": [
    "For example:\n",
    "* We have observations from Canada, USA, France, Germany, United Kingdom, and Australia\n",
    "<br>\n",
    "<br>\n",
    "After conducting the cluster anlysis, we got three clusters:\n",
    "* 1st cluster: Canada and USA -> belongs to Norh America continent\n",
    "* 2nd cluster: Gemany, UK, France -> Europe\n",
    "* 3rd cluster: Australia -> Australia\n",
    "<br>\n",
    "<br>\n",
    "Clusted by georaphic proximity"
   ]
  },
  {
   "cell_type": "markdown",
   "id": "43d8ec46",
   "metadata": {},
   "source": [
    "Perform cluster into two groups: <strong style=\"color: red\"> by geographic</strong>\n",
    "* 1st cluster: Canada, USA, Germany, France, US -> Northern Hemisphere\n",
    "* 2nd cluster: Australia -> Southearn Hemisphere"
   ]
  },
  {
   "cell_type": "markdown",
   "id": "fd7655a9",
   "metadata": {},
   "source": [
    "Perform cluster into two groups: <strong style=\"color: red\"> by language</strong>\n",
    "* 1st cluster: Canada, USA, Australia, UK -> English\n",
    "* 2nd cluster:  Germany, France -> Not English"
   ]
  },
  {
   "cell_type": "markdown",
   "id": "37d5599c",
   "metadata": {},
   "source": [
    "Geographic and language are two different features"
   ]
  },
  {
   "cell_type": "markdown",
   "id": "ad809d9a",
   "metadata": {},
   "source": [
    "The goal is to maximize the similarity of observations within a cluster and maximize the dissimilarity between clusters"
   ]
  },
  {
   "cell_type": "markdown",
   "id": "ba731880",
   "metadata": {},
   "source": [
    "* How to perform cluster analysis\n",
    "* How to find the optimal number of cluster\n",
    "* How to identify the appropriate features\n",
    "* how to interpret results"
   ]
  },
  {
   "cell_type": "markdown",
   "id": "e9653e99",
   "metadata": {},
   "source": [
    "# Some example of cluster"
   ]
  },
  {
   "cell_type": "markdown",
   "id": "f3600ed5",
   "metadata": {},
   "source": [
    "### Market segmentation"
   ]
  },
  {
   "cell_type": "markdown",
   "id": "096002d8",
   "metadata": {},
   "source": [
    "Draw a scatterplot with the age as x axis and the amount of spending as y axis. We identify 4 clusters\n",
    "* Young people who spend a lot\n",
    "* Young people who spend a little bit\n",
    "* Middle-age who spend a lot\n",
    "* Middle-age who spend a little bit\n",
    "\n"
   ]
  },
  {
   "cell_type": "markdown",
   "id": "c6495227",
   "metadata": {},
   "source": [
    "Cluster analysis helps identify patterns and explore data"
   ]
  },
  {
   "cell_type": "markdown",
   "id": "07be4466",
   "metadata": {},
   "source": [
    "### Image segmentation\n",
    "An image may have 16 million colors. We want to turn the image of 16 million colors into an image of 3, 10, 30 colors to compress photos"
   ]
  },
  {
   "cell_type": "markdown",
   "id": "c424925c",
   "metadata": {},
   "source": [
    "# Difference between classification and clustering"
   ]
  },
  {
   "cell_type": "markdown",
   "id": "01e2f0cb",
   "metadata": {},
   "source": [
    "Linear Regression and Logistic Regression: is Regression and Classification: used in supervised learning with labeled data inputs -> known Correct values for outputs -> try to find a model that gives the correct value"
   ]
  },
  {
   "cell_type": "markdown",
   "id": "77a5f35d",
   "metadata": {},
   "source": [
    "When working with clustering, we don't have labeled data: we call that unsupervised learning. We has no clue about:\n",
    "* The right number\n",
    "* Correct at all\n",
    "* Useful whatsoever\n",
    "\n",
    "=> The output we must name"
   ]
  },
  {
   "cell_type": "markdown",
   "id": "ba4efefe",
   "metadata": {},
   "source": [
    "Classification: Predicting an output category based on the input data"
   ]
  },
  {
   "cell_type": "markdown",
   "id": "2ab467eb",
   "metadata": {},
   "source": [
    "Clustering: Grouping data points together based on the similarities among them and differences from others"
   ]
  },
  {
   "cell_type": "markdown",
   "id": "31e23695",
   "metadata": {},
   "source": [
    "# Math prerequisites"
   ]
  },
  {
   "cell_type": "markdown",
   "id": "5478dae4",
   "metadata": {},
   "source": [
    "### Distance between two data points"
   ]
  },
  {
   "cell_type": "markdown",
   "id": "1c18e42a",
   "metadata": {},
   "source": [
    "2D: d(A,B) = sqrt((x1-x2)^2+(y1-y2)^2)\n",
    "\n",
    "3D: d(A,B) = sqrt((x1-x2)^2+(y1-y2)^2+(z1-z2)^2\n",
    "\n",
    "nD: d(A,B) = sqrt((a1-b1)^2+(a2-b2)^2+...+(an-bb)^2)"
   ]
  },
  {
   "cell_type": "markdown",
   "id": "b91ddda8",
   "metadata": {},
   "source": [
    "### Centroid"
   ]
  },
  {
   "cell_type": "markdown",
   "id": "e377765e",
   "metadata": {},
   "source": [
    "A centroid is the mean position of a group of points (center of mass)"
   ]
  },
  {
   "cell_type": "code",
   "execution_count": null,
   "id": "505c867a",
   "metadata": {},
   "outputs": [],
   "source": []
  }
 ],
 "metadata": {
  "kernelspec": {
   "display_name": "Python 3 (ipykernel)",
   "language": "python",
   "name": "python3"
  },
  "language_info": {
   "codemirror_mode": {
    "name": "ipython",
    "version": 3
   },
   "file_extension": ".py",
   "mimetype": "text/x-python",
   "name": "python",
   "nbconvert_exporter": "python",
   "pygments_lexer": "ipython3",
   "version": "3.9.7"
  }
 },
 "nbformat": 4,
 "nbformat_minor": 5
}

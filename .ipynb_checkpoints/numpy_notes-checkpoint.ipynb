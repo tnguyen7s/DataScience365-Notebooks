{
 "cells": [
  {
   "cell_type": "markdown",
   "id": "de0841af",
   "metadata": {},
   "source": [
    "## nd-array: n-dimensional array"
   ]
  },
  {
   "cell_type": "markdown",
   "id": "e2841597",
   "metadata": {},
   "source": [
    "Sequence of N-dimensional objects makes up an (N+1)-dimensional object:\n",
    "* Sequence of points makes up a line\n",
    "* Sequence of lines makes up a plane \n",
    "* ..."
   ]
  },
  {
   "cell_type": "markdown",
   "id": "f63b7fc1",
   "metadata": {},
   "source": [
    "Same logic for nd-array:\n",
    "* 0-d array: a single data point      - a scalar\n",
    "* 1-d array: a sequence of values     - a vector\n",
    "* 2-d array: a sequence of 1-d arrays - a matrix"
   ]
  },
  {
   "cell_type": "code",
   "execution_count": 1,
   "id": "825ee9ba",
   "metadata": {},
   "outputs": [],
   "source": [
    "import numpy as np"
   ]
  },
  {
   "cell_type": "code",
   "execution_count": 2,
   "id": "5ba695e1",
   "metadata": {},
   "outputs": [],
   "source": [
    "array_a = np.array([1, 2, 3])"
   ]
  },
  {
   "cell_type": "code",
   "execution_count": 3,
   "id": "239ba470",
   "metadata": {},
   "outputs": [
    {
     "data": {
      "text/plain": [
       "array([1, 2, 3])"
      ]
     },
     "execution_count": 3,
     "metadata": {},
     "output_type": "execute_result"
    }
   ],
   "source": [
    "array_a"
   ]
  },
  {
   "cell_type": "code",
   "execution_count": 4,
   "id": "3a59c5da",
   "metadata": {},
   "outputs": [],
   "source": [
    "array_b = np.array([[1,2,3], [2,3,4]])"
   ]
  },
  {
   "cell_type": "code",
   "execution_count": 5,
   "id": "8fb59d82",
   "metadata": {},
   "outputs": [
    {
     "data": {
      "text/plain": [
       "array([[1, 2, 3],\n",
       "       [2, 3, 4]])"
      ]
     },
     "execution_count": 5,
     "metadata": {},
     "output_type": "execute_result"
    }
   ],
   "source": [
    "array_b"
   ]
  },
  {
   "cell_type": "markdown",
   "id": "98b1d1c5",
   "metadata": {},
   "source": [
    "## Numpy documentation"
   ]
  },
  {
   "cell_type": "markdown",
   "id": "73ebf7b8",
   "metadata": {},
   "source": [
    "https://numpy.org/doc/"
   ]
  },
  {
   "cell_type": "markdown",
   "id": "01b78fc8",
   "metadata": {},
   "source": [
    "np.mean + shift + tab + tab"
   ]
  },
  {
   "cell_type": "code",
   "execution_count": 6,
   "id": "7daf0a93",
   "metadata": {},
   "outputs": [
    {
     "ename": "TypeError",
     "evalue": "_mean_dispatcher() missing 1 required positional argument: 'a'",
     "output_type": "error",
     "traceback": [
      "\u001b[1;31m---------------------------------------------------------------------------\u001b[0m",
      "\u001b[1;31mTypeError\u001b[0m                                 Traceback (most recent call last)",
      "Input \u001b[1;32mIn [6]\u001b[0m, in \u001b[0;36m<cell line: 1>\u001b[1;34m()\u001b[0m\n\u001b[1;32m----> 1\u001b[0m \u001b[43mnp\u001b[49m\u001b[38;5;241;43m.\u001b[39;49m\u001b[43mmean\u001b[49m\u001b[43m(\u001b[49m\u001b[43m)\u001b[49m\n",
      "File \u001b[1;32m<__array_function__ internals>:179\u001b[0m, in \u001b[0;36mmean\u001b[1;34m(*args, **kwargs)\u001b[0m\n",
      "\u001b[1;31mTypeError\u001b[0m: _mean_dispatcher() missing 1 required positional argument: 'a'"
     ]
    }
   ],
   "source": [
    "#np.mean()"
   ]
  },
  {
   "cell_type": "markdown",
   "id": "8f927457",
   "metadata": {},
   "source": [
    "## History of numpy"
   ]
  },
  {
   "cell_type": "markdown",
   "id": "0bba2ea0",
   "metadata": {},
   "source": [
    "numpy: numeric python\n",
    "easy, not too slow, open-source"
   ]
  },
  {
   "cell_type": "markdown",
   "id": "90ccd365",
   "metadata": {},
   "source": [
    "* Numeric -> ScriPy (Sciencetific Python) \n",
    "* Num array: fast for large array, but slow for small. And incompatible with Scipy\n",
    "<hr>\n",
    "=> Numpy: incoporate the code of numeric and Num array => compatitble with Scipy"
   ]
  },
  {
   "cell_type": "markdown",
   "id": "c6f1a011",
   "metadata": {},
   "source": [
    "## Ndarray: "
   ]
  },
  {
   "cell_type": "markdown",
   "id": "38fd7e3a",
   "metadata": {},
   "source": [
    "Features:\n",
    "* Element-wise operations\n",
    "* nd-array is a unified array type => industry standard for computational operations in Python"
   ]
  },
  {
   "cell_type": "code",
   "execution_count": 8,
   "id": "ee42bae1",
   "metadata": {},
   "outputs": [
    {
     "data": {
      "text/plain": [
       "numpy.ndarray"
      ]
     },
     "execution_count": 8,
     "metadata": {},
     "output_type": "execute_result"
    }
   ],
   "source": [
    "array_A = np.array([1,2,3])\n",
    "type(array_A)"
   ]
  },
  {
   "cell_type": "code",
   "execution_count": 9,
   "id": "f5eede54",
   "metadata": {},
   "outputs": [
    {
     "name": "stdout",
     "output_type": "stream",
     "text": [
      "[1 2 3]\n"
     ]
    }
   ],
   "source": [
    "print(array_A)"
   ]
  },
  {
   "cell_type": "code",
   "execution_count": 10,
   "id": "8149182f",
   "metadata": {},
   "outputs": [
    {
     "data": {
      "text/plain": [
       "(3,)"
      ]
     },
     "execution_count": 10,
     "metadata": {},
     "output_type": "execute_result"
    }
   ],
   "source": [
    "# one dimensional array of size 3\n",
    "array_A.shape"
   ]
  },
  {
   "cell_type": "code",
   "execution_count": 11,
   "id": "aeaee3e2",
   "metadata": {},
   "outputs": [],
   "source": [
    "# 2-d array: a sequence of 1-d arrays\n",
    "array_B = np.array([[7,8,9], [1,2,3]])"
   ]
  },
  {
   "cell_type": "code",
   "execution_count": 12,
   "id": "ce5c9da5",
   "metadata": {},
   "outputs": [
    {
     "data": {
      "text/plain": [
       "numpy.ndarray"
      ]
     },
     "execution_count": 12,
     "metadata": {},
     "output_type": "execute_result"
    }
   ],
   "source": [
    "type(array_B)"
   ]
  },
  {
   "cell_type": "code",
   "execution_count": 13,
   "id": "ec6f3709",
   "metadata": {},
   "outputs": [
    {
     "name": "stdout",
     "output_type": "stream",
     "text": [
      "[[7 8 9]\n",
      " [1 2 3]]\n"
     ]
    }
   ],
   "source": [
    "print(array_B)"
   ]
  },
  {
   "cell_type": "code",
   "execution_count": 14,
   "id": "f34e5ab4",
   "metadata": {},
   "outputs": [
    {
     "data": {
      "text/plain": [
       "(2, 3)"
      ]
     },
     "execution_count": 14,
     "metadata": {},
     "output_type": "execute_result"
    }
   ],
   "source": [
    "# 2 rows x 3 colums\n",
    "array_B.shape"
   ]
  },
  {
   "cell_type": "code",
   "execution_count": 15,
   "id": "7491e4e3",
   "metadata": {},
   "outputs": [],
   "source": [
    "# a scalar as a single point \n",
    "array_c = np.array(1)"
   ]
  },
  {
   "cell_type": "code",
   "execution_count": 16,
   "id": "8006c0e7",
   "metadata": {},
   "outputs": [
    {
     "name": "stdout",
     "output_type": "stream",
     "text": [
      "1\n"
     ]
    }
   ],
   "source": [
    "print(array_c)"
   ]
  },
  {
   "cell_type": "code",
   "execution_count": 17,
   "id": "d2eae8cc",
   "metadata": {},
   "outputs": [
    {
     "data": {
      "text/plain": [
       "()"
      ]
     },
     "execution_count": 17,
     "metadata": {},
     "output_type": "execute_result"
    }
   ],
   "source": [
    "array_c.shape"
   ]
  },
  {
   "cell_type": "code",
   "execution_count": 18,
   "id": "bd262f9e",
   "metadata": {},
   "outputs": [],
   "source": [
    "# a scalar inside a small array => 1-d array\n",
    "array_d = np.array([12])"
   ]
  },
  {
   "cell_type": "code",
   "execution_count": 19,
   "id": "0e047d88",
   "metadata": {},
   "outputs": [
    {
     "name": "stdout",
     "output_type": "stream",
     "text": [
      "[12]\n"
     ]
    }
   ],
   "source": [
    "print(array_d)"
   ]
  },
  {
   "cell_type": "code",
   "execution_count": 20,
   "id": "50e6b0cf",
   "metadata": {},
   "outputs": [
    {
     "data": {
      "text/plain": [
       "(1,)"
      ]
     },
     "execution_count": 20,
     "metadata": {},
     "output_type": "execute_result"
    }
   ],
   "source": [
    "array_d.shape"
   ]
  },
  {
   "cell_type": "code",
   "execution_count": 21,
   "id": "92ad9336",
   "metadata": {},
   "outputs": [],
   "source": [
    "# 2-d array: accept only one number"
   ]
  },
  {
   "cell_type": "code",
   "execution_count": 22,
   "id": "3238c2fe",
   "metadata": {},
   "outputs": [],
   "source": [
    "array_e = np.array([[15]])"
   ]
  },
  {
   "cell_type": "code",
   "execution_count": 23,
   "id": "c7497258",
   "metadata": {},
   "outputs": [
    {
     "name": "stdout",
     "output_type": "stream",
     "text": [
      "[[15]]\n"
     ]
    }
   ],
   "source": [
    "print(array_e)"
   ]
  },
  {
   "cell_type": "code",
   "execution_count": 24,
   "id": "b27f4b87",
   "metadata": {},
   "outputs": [
    {
     "data": {
      "text/plain": [
       "(1, 1)"
      ]
     },
     "execution_count": 24,
     "metadata": {},
     "output_type": "execute_result"
    }
   ],
   "source": [
    "array_e.shape"
   ]
  },
  {
   "cell_type": "markdown",
   "id": "e44e1842",
   "metadata": {},
   "source": [
    "## List vs Array"
   ]
  },
  {
   "cell_type": "code",
   "execution_count": 25,
   "id": "fce16532",
   "metadata": {},
   "outputs": [],
   "source": [
    "list_a = [[1,2,3],[4,5,6]]"
   ]
  },
  {
   "cell_type": "code",
   "execution_count": 26,
   "id": "918841b1",
   "metadata": {},
   "outputs": [
    {
     "data": {
      "text/plain": [
       "2"
      ]
     },
     "execution_count": 26,
     "metadata": {},
     "output_type": "execute_result"
    }
   ],
   "source": [
    "len(list_a)"
   ]
  },
  {
   "cell_type": "code",
   "execution_count": 27,
   "id": "f281f01c",
   "metadata": {},
   "outputs": [],
   "source": [
    "array_a = np.array(list_a)"
   ]
  },
  {
   "cell_type": "code",
   "execution_count": 28,
   "id": "2e986077",
   "metadata": {},
   "outputs": [
    {
     "data": {
      "text/plain": [
       "list"
      ]
     },
     "execution_count": 28,
     "metadata": {},
     "output_type": "execute_result"
    }
   ],
   "source": [
    "type(list_a)"
   ]
  },
  {
   "cell_type": "code",
   "execution_count": 29,
   "id": "0ad6e2fd",
   "metadata": {},
   "outputs": [
    {
     "data": {
      "text/plain": [
       "numpy.ndarray"
      ]
     },
     "execution_count": 29,
     "metadata": {},
     "output_type": "execute_result"
    }
   ],
   "source": [
    "type(array_a)"
   ]
  },
  {
   "cell_type": "code",
   "execution_count": 30,
   "id": "80e66811",
   "metadata": {},
   "outputs": [
    {
     "name": "stdout",
     "output_type": "stream",
     "text": [
      "[[1, 2, 3], [4, 5, 6]]\n",
      "[[1 2 3]\n",
      " [4 5 6]]\n"
     ]
    }
   ],
   "source": [
    "print(list_a)\n",
    "print(array_a)"
   ]
  },
  {
   "cell_type": "code",
   "execution_count": 31,
   "id": "0968685e",
   "metadata": {},
   "outputs": [
    {
     "data": {
      "text/plain": [
       "(2, 3)"
      ]
     },
     "execution_count": 31,
     "metadata": {},
     "output_type": "execute_result"
    }
   ],
   "source": [
    "array_a.shape"
   ]
  },
  {
   "cell_type": "code",
   "execution_count": 32,
   "id": "b4e1816a",
   "metadata": {},
   "outputs": [],
   "source": [
    "list_b = list_a[0]+list_a[1]\n",
    "array_b = array_a[0] + array_a[1]"
   ]
  },
  {
   "cell_type": "code",
   "execution_count": 33,
   "id": "79b377ce",
   "metadata": {},
   "outputs": [
    {
     "name": "stdout",
     "output_type": "stream",
     "text": [
      "[1, 2, 3, 4, 5, 6]\n",
      "[5 7 9]\n"
     ]
    }
   ],
   "source": [
    "print(list_b)\n",
    "print(array_b)"
   ]
  },
  {
   "cell_type": "code",
   "execution_count": 34,
   "id": "a37cfb8e",
   "metadata": {},
   "outputs": [
    {
     "data": {
      "text/plain": [
       "array([[1.        , 1.41421356, 1.73205081],\n",
       "       [2.        , 2.23606798, 2.44948974]])"
      ]
     },
     "execution_count": 34,
     "metadata": {},
     "output_type": "execute_result"
    }
   ],
   "source": [
    "# element-wise operation\n",
    "np.sqrt(array_a)"
   ]
  },
  {
   "cell_type": "markdown",
   "id": "930aad9a",
   "metadata": {},
   "source": [
    "## Indexing"
   ]
  },
  {
   "cell_type": "code",
   "execution_count": 35,
   "id": "d2afa843",
   "metadata": {},
   "outputs": [
    {
     "data": {
      "text/plain": [
       "array([[1, 2, 3],\n",
       "       [4, 5, 6]])"
      ]
     },
     "execution_count": 35,
     "metadata": {},
     "output_type": "execute_result"
    }
   ],
   "source": [
    "array_a = np.array([[1,2,3], [4,5,6]])\n",
    "array_a"
   ]
  },
  {
   "cell_type": "markdown",
   "id": "be853e96",
   "metadata": {},
   "source": [
    "#### Specific values"
   ]
  },
  {
   "cell_type": "code",
   "execution_count": 36,
   "id": "9b340915",
   "metadata": {},
   "outputs": [
    {
     "data": {
      "text/plain": [
       "array([1, 2, 3])"
      ]
     },
     "execution_count": 36,
     "metadata": {},
     "output_type": "execute_result"
    }
   ],
   "source": [
    "array_a[0]"
   ]
  },
  {
   "cell_type": "code",
   "execution_count": 37,
   "id": "eff38543",
   "metadata": {},
   "outputs": [
    {
     "data": {
      "text/plain": [
       "4"
      ]
     },
     "execution_count": 37,
     "metadata": {},
     "output_type": "execute_result"
    }
   ],
   "source": [
    "array_a[1][0]"
   ]
  },
  {
   "cell_type": "code",
   "execution_count": 38,
   "id": "2a60bd57",
   "metadata": {},
   "outputs": [
    {
     "data": {
      "text/plain": [
       "4"
      ]
     },
     "execution_count": 38,
     "metadata": {},
     "output_type": "execute_result"
    }
   ],
   "source": [
    "array_a[1,0]"
   ]
  },
  {
   "cell_type": "code",
   "execution_count": 39,
   "id": "dd7310a5",
   "metadata": {},
   "outputs": [
    {
     "data": {
      "text/plain": [
       "array([1, 4])"
      ]
     },
     "execution_count": 39,
     "metadata": {},
     "output_type": "execute_result"
    }
   ],
   "source": [
    "# all rows, and the first column\n",
    "array_a[:, 0]"
   ]
  },
  {
   "cell_type": "markdown",
   "id": "9b2f4bea",
   "metadata": {},
   "source": [
    "#### Negative indices"
   ]
  },
  {
   "cell_type": "code",
   "execution_count": 40,
   "id": "e12a8e52",
   "metadata": {},
   "outputs": [
    {
     "data": {
      "text/plain": [
       "3"
      ]
     },
     "execution_count": 40,
     "metadata": {},
     "output_type": "execute_result"
    }
   ],
   "source": [
    "# negative index starts at -1\n",
    "array_b = np.array([1,2,3])\n",
    "array_b[-1]"
   ]
  },
  {
   "cell_type": "code",
   "execution_count": 41,
   "id": "3078e2c6",
   "metadata": {},
   "outputs": [
    {
     "data": {
      "text/plain": [
       "array([4, 5, 6])"
      ]
     },
     "execution_count": 41,
     "metadata": {},
     "output_type": "execute_result"
    }
   ],
   "source": [
    "array_a[-1]"
   ]
  },
  {
   "cell_type": "code",
   "execution_count": 42,
   "id": "81e1c107",
   "metadata": {},
   "outputs": [
    {
     "data": {
      "text/plain": [
       "6"
      ]
     },
     "execution_count": 42,
     "metadata": {},
     "output_type": "execute_result"
    }
   ],
   "source": [
    "# the last row, the last col\n",
    "array_a[-1, -1]"
   ]
  },
  {
   "cell_type": "markdown",
   "id": "ffabb1f0",
   "metadata": {},
   "source": [
    "## Assigning values"
   ]
  },
  {
   "cell_type": "code",
   "execution_count": 43,
   "id": "04020b8d",
   "metadata": {},
   "outputs": [
    {
     "data": {
      "text/plain": [
       "array([[1, 2, 3],\n",
       "       [4, 5, 6]])"
      ]
     },
     "execution_count": 43,
     "metadata": {},
     "output_type": "execute_result"
    }
   ],
   "source": [
    "array_a"
   ]
  },
  {
   "cell_type": "code",
   "execution_count": 44,
   "id": "6005a818",
   "metadata": {},
   "outputs": [
    {
     "data": {
      "text/plain": [
       "array([[1, 2, 9],\n",
       "       [4, 5, 6]])"
      ]
     },
     "execution_count": 44,
     "metadata": {},
     "output_type": "execute_result"
    }
   ],
   "source": [
    "array_a[0,2]=9\n",
    "array_a"
   ]
  },
  {
   "cell_type": "code",
   "execution_count": 45,
   "id": "0c90912a",
   "metadata": {},
   "outputs": [
    {
     "data": {
      "text/plain": [
       "array([[9, 9, 9],\n",
       "       [4, 5, 6]])"
      ]
     },
     "execution_count": 45,
     "metadata": {},
     "output_type": "execute_result"
    }
   ],
   "source": [
    "# set the entire array to be 9\n",
    "array_a[0]=9\n",
    "array_a"
   ]
  },
  {
   "cell_type": "code",
   "execution_count": 46,
   "id": "a2acc5ae",
   "metadata": {},
   "outputs": [
    {
     "data": {
      "text/plain": [
       "array([[9, 9, 9],\n",
       "       [9, 5, 6]])"
      ]
     },
     "execution_count": 46,
     "metadata": {},
     "output_type": "execute_result"
    }
   ],
   "source": [
    "# set the entire col to be 0\n",
    "array_a[:, 0] = 9\n",
    "array_a"
   ]
  },
  {
   "cell_type": "code",
   "execution_count": 47,
   "id": "e6033e00",
   "metadata": {},
   "outputs": [
    {
     "data": {
      "text/plain": [
       "array([[8, 7, 8],\n",
       "       [9, 5, 6]])"
      ]
     },
     "execution_count": 47,
     "metadata": {},
     "output_type": "execute_result"
    }
   ],
   "source": [
    "new_list = [8,7,8]\n",
    "array_a[0] = new_list\n",
    "array_a"
   ]
  },
  {
   "cell_type": "code",
   "execution_count": 48,
   "id": "6a26531c",
   "metadata": {},
   "outputs": [
    {
     "data": {
      "text/plain": [
       "array([[9, 9, 9],\n",
       "       [9, 9, 9]])"
      ]
     },
     "execution_count": 48,
     "metadata": {},
     "output_type": "execute_result"
    }
   ],
   "source": [
    "# assign all\n",
    "array_a[:]=9\n",
    "array_a"
   ]
  },
  {
   "cell_type": "markdown",
   "id": "ecff65cb",
   "metadata": {},
   "source": [
    "## Elementwise properties"
   ]
  },
  {
   "cell_type": "code",
   "execution_count": 49,
   "id": "3435faa0",
   "metadata": {},
   "outputs": [
    {
     "data": {
      "text/plain": [
       "array([7, 8, 9])"
      ]
     },
     "execution_count": 49,
     "metadata": {},
     "output_type": "execute_result"
    }
   ],
   "source": [
    "array_a = np.array([7,8,9])\n",
    "array_b = np.array([[1,2,3], [4,5,6]])\n",
    "array_a\n"
   ]
  },
  {
   "cell_type": "code",
   "execution_count": 50,
   "id": "23110565",
   "metadata": {},
   "outputs": [
    {
     "data": {
      "text/plain": [
       "array([[1, 2, 3],\n",
       "       [4, 5, 6]])"
      ]
     },
     "execution_count": 50,
     "metadata": {},
     "output_type": "execute_result"
    }
   ],
   "source": [
    "array_b"
   ]
  },
  {
   "cell_type": "code",
   "execution_count": 51,
   "id": "c97c1c4f",
   "metadata": {},
   "outputs": [
    {
     "data": {
      "text/plain": [
       "array([ 9, 10, 11])"
      ]
     },
     "execution_count": 51,
     "metadata": {},
     "output_type": "execute_result"
    }
   ],
   "source": [
    "array_a+2"
   ]
  },
  {
   "cell_type": "code",
   "execution_count": 52,
   "id": "321b2454",
   "metadata": {},
   "outputs": [
    {
     "data": {
      "text/plain": [
       "array([[3, 4, 5],\n",
       "       [6, 7, 8]])"
      ]
     },
     "execution_count": 52,
     "metadata": {},
     "output_type": "execute_result"
    }
   ],
   "source": [
    "array_b+2"
   ]
  },
  {
   "cell_type": "code",
   "execution_count": 53,
   "id": "40915aef",
   "metadata": {},
   "outputs": [
    {
     "data": {
      "text/plain": [
       "array([ 8, 10, 12])"
      ]
     },
     "execution_count": 53,
     "metadata": {},
     "output_type": "execute_result"
    }
   ],
   "source": [
    "array_a+array_b[0]"
   ]
  },
  {
   "cell_type": "code",
   "execution_count": 54,
   "id": "41fb25d5",
   "metadata": {},
   "outputs": [
    {
     "data": {
      "text/plain": [
       "array([[ 8, 10, 12],\n",
       "       [11, 13, 15]])"
      ]
     },
     "execution_count": 54,
     "metadata": {},
     "output_type": "execute_result"
    }
   ],
   "source": [
    "array_a+array_b"
   ]
  },
  {
   "cell_type": "markdown",
   "id": "7aea0e3b",
   "metadata": {},
   "source": [
    "## Types of data supported by Numpy"
   ]
  },
  {
   "cell_type": "code",
   "execution_count": 55,
   "id": "824a53f2",
   "metadata": {},
   "outputs": [],
   "source": [
    "array_a = np.array([[1,2,3],[4,5,6]])"
   ]
  },
  {
   "cell_type": "code",
   "execution_count": 56,
   "id": "7218ef87",
   "metadata": {},
   "outputs": [
    {
     "data": {
      "text/plain": [
       "array([[1, 2, 3],\n",
       "       [4, 5, 6]])"
      ]
     },
     "execution_count": 56,
     "metadata": {},
     "output_type": "execute_result"
    }
   ],
   "source": [
    "array_a"
   ]
  },
  {
   "cell_type": "code",
   "execution_count": 57,
   "id": "7e19fd21",
   "metadata": {},
   "outputs": [
    {
     "data": {
      "text/plain": [
       "array([[1., 2., 3.],\n",
       "       [4., 5., 6.]], dtype=float32)"
      ]
     },
     "execution_count": 57,
     "metadata": {},
     "output_type": "execute_result"
    }
   ],
   "source": [
    "array_a = np.array([[1,2,3],[4,5,6]], dtype=\"float32\")\n",
    "array_a"
   ]
  },
  {
   "cell_type": "code",
   "execution_count": 58,
   "id": "f64b30a8",
   "metadata": {},
   "outputs": [
    {
     "data": {
      "text/plain": [
       "array([[1.+0.j, 2.+0.j, 3.+0.j],\n",
       "       [4.+0.j, 5.+0.j, 6.+0.j]], dtype=complex64)"
      ]
     },
     "execution_count": 58,
     "metadata": {},
     "output_type": "execute_result"
    }
   ],
   "source": [
    "array_a = np.array([[1,2,3],[4,5,6]], dtype=\"complex64\")\n",
    "array_a"
   ]
  },
  {
   "cell_type": "code",
   "execution_count": 59,
   "id": "f4186d09",
   "metadata": {},
   "outputs": [
    {
     "data": {
      "text/plain": [
       "array([[ True,  True,  True],\n",
       "       [ True,  True,  True]])"
      ]
     },
     "execution_count": 59,
     "metadata": {},
     "output_type": "execute_result"
    }
   ],
   "source": [
    "array_a = np.array([[1,2,3],[4,5,6]], dtype=\"bool\")\n",
    "array_a"
   ]
  },
  {
   "cell_type": "code",
   "execution_count": 60,
   "id": "adf4bf0d",
   "metadata": {},
   "outputs": [
    {
     "data": {
      "text/plain": [
       "array([[False, False, False],\n",
       "       [ True,  True,  True]])"
      ]
     },
     "execution_count": 60,
     "metadata": {},
     "output_type": "execute_result"
    }
   ],
   "source": [
    "array_a[0] = 0\n",
    "array_a"
   ]
  },
  {
   "cell_type": "code",
   "execution_count": 61,
   "id": "f8a46f0f",
   "metadata": {},
   "outputs": [
    {
     "data": {
      "text/plain": [
       "array([['1', '2', '3'],\n",
       "       ['4', '5', '62']], dtype='<U2')"
      ]
     },
     "execution_count": 61,
     "metadata": {},
     "output_type": "execute_result"
    }
   ],
   "source": [
    "array_a = np.array([[1,2,3],[4,5,62]],  =\"str\")\n",
    "array_a"
   ]
  },
  {
   "cell_type": "markdown",
   "id": "bf1a21aa",
   "metadata": {},
   "source": [
    "## Characteristics of Numpy functions"
   ]
  },
  {
   "cell_type": "markdown",
   "id": "cf687390",
   "metadata": {},
   "source": [
    "#### Universal functions"
   ]
  },
  {
   "cell_type": "markdown",
   "id": "b9e1ceb8",
   "metadata": {},
   "source": [
    "https://numpy.org/doc/stable/reference/ufuncs.html"
   ]
  },
  {
   "cell_type": "markdown",
   "id": "845e363f",
   "metadata": {},
   "source": [
    "#### Broadcasting"
   ]
  },
  {
   "cell_type": "code",
   "execution_count": 62,
   "id": "43e44e04",
   "metadata": {},
   "outputs": [
    {
     "data": {
      "text/plain": [
       "array([1, 2, 3])"
      ]
     },
     "execution_count": 62,
     "metadata": {},
     "output_type": "execute_result"
    }
   ],
   "source": [
    "array_a = np.array([1,2,3])\n",
    "array_a"
   ]
  },
  {
   "cell_type": "code",
   "execution_count": 63,
   "id": "4548bdb0",
   "metadata": {},
   "outputs": [
    {
     "data": {
      "text/plain": [
       "array([[1],\n",
       "       [2]])"
      ]
     },
     "execution_count": 63,
     "metadata": {},
     "output_type": "execute_result"
    }
   ],
   "source": [
    "array_b = np.array([[1],[2]])\n",
    "array_b"
   ]
  },
  {
   "cell_type": "code",
   "execution_count": 64,
   "id": "b5fa8077",
   "metadata": {},
   "outputs": [
    {
     "data": {
      "text/plain": [
       "array([[1, 2, 3],\n",
       "       [4, 5, 6]])"
      ]
     },
     "execution_count": 64,
     "metadata": {},
     "output_type": "execute_result"
    }
   ],
   "source": [
    "array_c = np.array([[1,2,3],[4,5,6]])\n",
    "array_c"
   ]
  },
  {
   "cell_type": "code",
   "execution_count": 65,
   "id": "da579a5f",
   "metadata": {},
   "outputs": [
    {
     "data": {
      "text/plain": [
       "array([[2, 4, 6],\n",
       "       [5, 7, 9]])"
      ]
     },
     "execution_count": 65,
     "metadata": {},
     "output_type": "execute_result"
    }
   ],
   "source": [
    "# broadcast array_a to have the same size as array_c, and elementwise add the two arrays\n",
    "np.add(array_a, array_c)"
   ]
  },
  {
   "cell_type": "code",
   "execution_count": 66,
   "id": "009e36ff",
   "metadata": {},
   "outputs": [
    {
     "data": {
      "text/plain": [
       "array([[2, 3, 4],\n",
       "       [6, 7, 8]])"
      ]
     },
     "execution_count": 66,
     "metadata": {},
     "output_type": "execute_result"
    }
   ],
   "source": [
    "np.add(array_b, array_c)"
   ]
  },
  {
   "cell_type": "markdown",
   "id": "87790ce9",
   "metadata": {},
   "source": [
    "#### Type casting"
   ]
  },
  {
   "cell_type": "code",
   "execution_count": 67,
   "id": "00dd789d",
   "metadata": {},
   "outputs": [
    {
     "data": {
      "text/plain": [
       "array([[2., 4., 6.],\n",
       "       [5., 7., 9.]])"
      ]
     },
     "execution_count": 67,
     "metadata": {},
     "output_type": "execute_result"
    }
   ],
   "source": [
    "# casting the datatype before \n",
    "np.add(array_a, array_c, dtype=np.float64)"
   ]
  },
  {
   "cell_type": "markdown",
   "id": "85c4cfc2",
   "metadata": {},
   "source": [
    "#### Running over an axis"
   ]
  },
  {
   "cell_type": "code",
   "execution_count": 68,
   "id": "f872b08d",
   "metadata": {},
   "outputs": [
    {
     "data": {
      "text/plain": [
       "array([2.5, 3.5, 4.5])"
      ]
     },
     "execution_count": 68,
     "metadata": {},
     "output_type": "execute_result"
    }
   ],
   "source": [
    "np.mean(array_c, axis=0)"
   ]
  },
  {
   "cell_type": "markdown",
   "id": "62c38c8d",
   "metadata": {},
   "source": [
    "## Working with array"
   ]
  },
  {
   "cell_type": "markdown",
   "id": "8124f138",
   "metadata": {},
   "source": [
    "### Basic slicing"
   ]
  },
  {
   "cell_type": "code",
   "execution_count": 69,
   "id": "e27df997",
   "metadata": {},
   "outputs": [
    {
     "data": {
      "text/plain": [
       "array([[1, 2, 3],\n",
       "       [4, 5, 6]])"
      ]
     },
     "execution_count": 69,
     "metadata": {},
     "output_type": "execute_result"
    }
   ],
   "source": [
    "matrix_a = np.array([[1,2,3], [4,5,6]])\n",
    "matrix_a"
   ]
  },
  {
   "cell_type": "code",
   "execution_count": 70,
   "id": "e841d1b7",
   "metadata": {},
   "outputs": [
    {
     "data": {
      "text/plain": [
       "array([[1, 2, 3],\n",
       "       [4, 5, 6]])"
      ]
     },
     "execution_count": 70,
     "metadata": {},
     "output_type": "execute_result"
    }
   ],
   "source": [
    "matrix_a[:]"
   ]
  },
  {
   "cell_type": "code",
   "execution_count": 71,
   "id": "cc195191",
   "metadata": {},
   "outputs": [
    {
     "data": {
      "text/plain": [
       "array([], shape=(0, 3), dtype=int32)"
      ]
     },
     "execution_count": 71,
     "metadata": {},
     "output_type": "execute_result"
    }
   ],
   "source": [
    "matrix_a[0:0]"
   ]
  },
  {
   "cell_type": "code",
   "execution_count": 72,
   "id": "54ad5e46",
   "metadata": {},
   "outputs": [
    {
     "data": {
      "text/plain": [
       "array([[1, 2, 3]])"
      ]
     },
     "execution_count": 72,
     "metadata": {},
     "output_type": "execute_result"
    }
   ],
   "source": [
    "matrix_a[0:1]"
   ]
  },
  {
   "cell_type": "code",
   "execution_count": 73,
   "id": "a2a32955",
   "metadata": {},
   "outputs": [
    {
     "data": {
      "text/plain": [
       "array([[1, 2, 3],\n",
       "       [4, 5, 6]])"
      ]
     },
     "execution_count": 73,
     "metadata": {},
     "output_type": "execute_result"
    }
   ],
   "source": [
    "matrix_a[0:2]"
   ]
  },
  {
   "cell_type": "code",
   "execution_count": 74,
   "id": "a754fb8e",
   "metadata": {},
   "outputs": [
    {
     "data": {
      "text/plain": [
       "array([[1, 2, 3],\n",
       "       [4, 5, 6]])"
      ]
     },
     "execution_count": 74,
     "metadata": {},
     "output_type": "execute_result"
    }
   ],
   "source": [
    "# all rows and all columns\n",
    "matrix_a[:,:]"
   ]
  },
  {
   "cell_type": "code",
   "execution_count": 75,
   "id": "50e0c01f",
   "metadata": {},
   "outputs": [
    {
     "data": {
      "text/plain": [
       "array([[1, 2, 3]])"
      ]
     },
     "execution_count": 75,
     "metadata": {},
     "output_type": "execute_result"
    }
   ],
   "source": [
    "# start from 0 and end before 1\n",
    "matrix_a[:1]"
   ]
  },
  {
   "cell_type": "code",
   "execution_count": 76,
   "id": "a8450c2c",
   "metadata": {},
   "outputs": [
    {
     "data": {
      "text/plain": [
       "array([[4, 5, 6]])"
      ]
     },
     "execution_count": 76,
     "metadata": {},
     "output_type": "execute_result"
    }
   ],
   "source": [
    "# start from 1 and end all the way down\n",
    "matrix_a[1:]"
   ]
  },
  {
   "cell_type": "code",
   "execution_count": 77,
   "id": "45ee1eee",
   "metadata": {},
   "outputs": [
    {
     "data": {
      "text/plain": [
       "array([], shape=(0, 3), dtype=int32)"
      ]
     },
     "execution_count": 77,
     "metadata": {},
     "output_type": "execute_result"
    }
   ],
   "source": [
    "matrix_a[2:] # 0-D output"
   ]
  },
  {
   "cell_type": "code",
   "execution_count": 78,
   "id": "e02ddd9d",
   "metadata": {},
   "outputs": [
    {
     "data": {
      "text/plain": [
       "array([1, 2, 3])"
      ]
     },
     "execution_count": 78,
     "metadata": {},
     "output_type": "execute_result"
    }
   ],
   "source": [
    "matrix_a[0] # has only one square bracket - 1D array"
   ]
  },
  {
   "cell_type": "code",
   "execution_count": 79,
   "id": "49370675",
   "metadata": {},
   "outputs": [
    {
     "data": {
      "text/plain": [
       "array([[1, 2, 3]])"
      ]
     },
     "execution_count": 79,
     "metadata": {},
     "output_type": "execute_result"
    }
   ],
   "source": [
    "matrix_a[:1] # has two square brackets due to slicing"
   ]
  },
  {
   "cell_type": "code",
   "execution_count": 80,
   "id": "6bfff2aa",
   "metadata": {},
   "outputs": [
    {
     "data": {
      "text/plain": [
       "array([3, 6])"
      ]
     },
     "execution_count": 80,
     "metadata": {},
     "output_type": "execute_result"
    }
   ],
   "source": [
    "# all rows, the last column\n",
    "matrix_a[:,-1]"
   ]
  },
  {
   "cell_type": "code",
   "execution_count": 81,
   "id": "f564d221",
   "metadata": {},
   "outputs": [
    {
     "data": {
      "text/plain": [
       "array([[2, 3],\n",
       "       [5, 6]])"
      ]
     },
     "execution_count": 81,
     "metadata": {},
     "output_type": "execute_result"
    }
   ],
   "source": [
    "# all rows, the second column and all after\n",
    "matrix_a[:, 1:]"
   ]
  },
  {
   "cell_type": "code",
   "execution_count": 82,
   "id": "b63a071e",
   "metadata": {},
   "outputs": [
    {
     "data": {
      "text/plain": [
       "array([[5, 6]])"
      ]
     },
     "execution_count": 82,
     "metadata": {},
     "output_type": "execute_result"
    }
   ],
   "source": [
    "matrix_a[1:, 1:] # from second row and second col"
   ]
  },
  {
   "cell_type": "markdown",
   "id": "4356193a",
   "metadata": {},
   "source": [
    "### Stepwise slicing"
   ]
  },
  {
   "cell_type": "code",
   "execution_count": 83,
   "id": "9483264e",
   "metadata": {},
   "outputs": [
    {
     "data": {
      "text/plain": [
       "array([[1, 1, 1, 2, 0],\n",
       "       [3, 6, 6, 7, 4],\n",
       "       [4, 5, 3, 8, 6]])"
      ]
     },
     "execution_count": 83,
     "metadata": {},
     "output_type": "execute_result"
    }
   ],
   "source": [
    "matrix_b = np.array([[1,1,1,2,0], [3,6,6,7,4], [4,5,3,8,6]])\n",
    "matrix_b "
   ]
  },
  {
   "cell_type": "code",
   "execution_count": 84,
   "id": "4a4d5c75",
   "metadata": {},
   "outputs": [
    {
     "data": {
      "text/plain": [
       "array([[1, 1, 1, 2, 0],\n",
       "       [3, 6, 6, 7, 4],\n",
       "       [4, 5, 3, 8, 6]])"
      ]
     },
     "execution_count": 84,
     "metadata": {},
     "output_type": "execute_result"
    }
   ],
   "source": [
    "matrix_b[::, ::]"
   ]
  },
  {
   "cell_type": "code",
   "execution_count": 85,
   "id": "a5fa5580",
   "metadata": {},
   "outputs": [
    {
     "data": {
      "text/plain": [
       "array([[1, 1, 1, 2, 0],\n",
       "       [4, 5, 3, 8, 6]])"
      ]
     },
     "execution_count": 85,
     "metadata": {},
     "output_type": "execute_result"
    }
   ],
   "source": [
    "# every two rows and all cols\n",
    "matrix_b[::2, ::]"
   ]
  },
  {
   "cell_type": "code",
   "execution_count": 86,
   "id": "2078df01",
   "metadata": {},
   "outputs": [
    {
     "data": {
      "text/plain": [
       "array([[1, 1, 0],\n",
       "       [3, 6, 4],\n",
       "       [4, 3, 6]])"
      ]
     },
     "execution_count": 86,
     "metadata": {},
     "output_type": "execute_result"
    }
   ],
   "source": [
    "# every rows and every two columns\n",
    "matrix_b[::, ::2]"
   ]
  },
  {
   "cell_type": "code",
   "execution_count": 87,
   "id": "22dd6d64",
   "metadata": {},
   "outputs": [
    {
     "data": {
      "text/plain": [
       "array([[1, 1, 0],\n",
       "       [4, 3, 6]])"
      ]
     },
     "execution_count": 87,
     "metadata": {},
     "output_type": "execute_result"
    }
   ],
   "source": [
    "# every two rows, and every two cols\n",
    "matrix_b[::2, ::2]"
   ]
  },
  {
   "cell_type": "code",
   "execution_count": 88,
   "id": "7b55e3c0",
   "metadata": {},
   "outputs": [
    {
     "data": {
      "text/plain": [
       "array([[6, 3, 4],\n",
       "       [0, 1, 1]])"
      ]
     },
     "execution_count": 88,
     "metadata": {},
     "output_type": "execute_result"
    }
   ],
   "source": [
    "# start from the last row, every two rows\n",
    "# start from the last col, every two cols\n",
    "matrix_b[::-2, ::-2]"
   ]
  },
  {
   "cell_type": "markdown",
   "id": "49c02a58",
   "metadata": {},
   "source": [
    "### Conditional slicing"
   ]
  },
  {
   "cell_type": "code",
   "execution_count": 89,
   "id": "0fb39720",
   "metadata": {},
   "outputs": [
    {
     "data": {
      "text/plain": [
       "array([[1, 1, 1, 2, 0],\n",
       "       [3, 6, 6, 7, 4],\n",
       "       [4, 5, 3, 8, 6]])"
      ]
     },
     "execution_count": 89,
     "metadata": {},
     "output_type": "execute_result"
    }
   ],
   "source": [
    "matrix_b"
   ]
  },
  {
   "cell_type": "code",
   "execution_count": 90,
   "id": "8fc4364f",
   "metadata": {},
   "outputs": [
    {
     "data": {
      "text/plain": [
       "array([False,  True,  True])"
      ]
     },
     "execution_count": 90,
     "metadata": {},
     "output_type": "execute_result"
    }
   ],
   "source": [
    "matrix_b[:, 0]>2"
   ]
  },
  {
   "cell_type": "code",
   "execution_count": 91,
   "id": "de205d8f",
   "metadata": {},
   "outputs": [
    {
     "data": {
      "text/plain": [
       "array([[False, False, False, False, False],\n",
       "       [ True,  True,  True,  True,  True],\n",
       "       [ True,  True,  True,  True,  True]])"
      ]
     },
     "execution_count": 91,
     "metadata": {},
     "output_type": "execute_result"
    }
   ],
   "source": [
    "matrix_b[:, :]>2"
   ]
  },
  {
   "cell_type": "code",
   "execution_count": 92,
   "id": "9e217617",
   "metadata": {},
   "outputs": [
    {
     "data": {
      "text/plain": [
       "array([2, 3, 6, 6, 7, 4, 4, 5, 3, 8, 6])"
      ]
     },
     "execution_count": 92,
     "metadata": {},
     "output_type": "execute_result"
    }
   ],
   "source": [
    "# numpy does not know how many elements would fit the condition, thus it takes the flatten array and apply the condition\n",
    "matrix_b[matrix_b[:, :]>=2]"
   ]
  },
  {
   "cell_type": "code",
   "execution_count": 93,
   "id": "79ad5977",
   "metadata": {},
   "outputs": [
    {
     "data": {
      "text/plain": [
       "array([2, 0, 6, 6, 4, 4, 8, 6])"
      ]
     },
     "execution_count": 93,
     "metadata": {},
     "output_type": "execute_result"
    }
   ],
   "source": [
    "matrix_b[matrix_b%2==0]"
   ]
  },
  {
   "cell_type": "code",
   "execution_count": 94,
   "id": "7d8c30d5",
   "metadata": {},
   "outputs": [
    {
     "data": {
      "text/plain": [
       "array([2, 0])"
      ]
     },
     "execution_count": 94,
     "metadata": {},
     "output_type": "execute_result"
    }
   ],
   "source": [
    "matrix_b[(matrix_b[:,:]%2==0) & (matrix_b[:,:]<4)] # must place inside the bracket"
   ]
  },
  {
   "cell_type": "code",
   "execution_count": 95,
   "id": "1c36a149",
   "metadata": {},
   "outputs": [
    {
     "data": {
      "text/plain": [
       "array([1, 1, 1, 2, 0, 3, 6, 6, 4, 4, 3, 8, 6])"
      ]
     },
     "execution_count": 95,
     "metadata": {},
     "output_type": "execute_result"
    }
   ],
   "source": [
    "matrix_b[(matrix_b[:,:]%2==0) | (matrix_b[:,:]<4)] # must place inside the bracket"
   ]
  },
  {
   "cell_type": "markdown",
   "id": "f3e493ab",
   "metadata": {},
   "source": [
    "### Dimensions and squeeze function"
   ]
  },
  {
   "cell_type": "code",
   "execution_count": 96,
   "id": "fe58a29e",
   "metadata": {},
   "outputs": [
    {
     "data": {
      "text/plain": [
       "array([[1, 1, 1, 2, 0],\n",
       "       [3, 6, 6, 7, 4],\n",
       "       [4, 5, 3, 8, 6]])"
      ]
     },
     "execution_count": 96,
     "metadata": {},
     "output_type": "execute_result"
    }
   ],
   "source": [
    "matrix_b"
   ]
  },
  {
   "cell_type": "code",
   "execution_count": 97,
   "id": "3168958e",
   "metadata": {},
   "outputs": [
    {
     "data": {
      "text/plain": [
       "numpy.int32"
      ]
     },
     "execution_count": 97,
     "metadata": {},
     "output_type": "execute_result"
    }
   ],
   "source": [
    "type(matrix_b[0,0])  # DIFFERENT DIM"
   ]
  },
  {
   "cell_type": "code",
   "execution_count": 98,
   "id": "619f9c15",
   "metadata": {},
   "outputs": [
    {
     "data": {
      "text/plain": [
       "1"
      ]
     },
     "execution_count": 98,
     "metadata": {},
     "output_type": "execute_result"
    }
   ],
   "source": [
    "matrix_b[0,0] "
   ]
  },
  {
   "cell_type": "code",
   "execution_count": 99,
   "id": "8553429a",
   "metadata": {},
   "outputs": [
    {
     "data": {
      "text/plain": [
       "numpy.ndarray"
      ]
     },
     "execution_count": 99,
     "metadata": {},
     "output_type": "execute_result"
    }
   ],
   "source": [
    "type(matrix_b[0,:1]) # DIFFERENT DIM"
   ]
  },
  {
   "cell_type": "code",
   "execution_count": 100,
   "id": "41c93bb2",
   "metadata": {},
   "outputs": [
    {
     "data": {
      "text/plain": [
       "array([1])"
      ]
     },
     "execution_count": 100,
     "metadata": {},
     "output_type": "execute_result"
    }
   ],
   "source": [
    "# the first row, and the first element of the row\n",
    "matrix_b[0,:1]"
   ]
  },
  {
   "cell_type": "code",
   "execution_count": 101,
   "id": "73d8f194",
   "metadata": {},
   "outputs": [
    {
     "data": {
      "text/plain": [
       "numpy.ndarray"
      ]
     },
     "execution_count": 101,
     "metadata": {},
     "output_type": "execute_result"
    }
   ],
   "source": [
    "type (matrix_b[:1, :1]) # DIFFERENT DIM"
   ]
  },
  {
   "cell_type": "code",
   "execution_count": 102,
   "id": "1496652f",
   "metadata": {},
   "outputs": [
    {
     "data": {
      "text/plain": [
       "array([[1]])"
      ]
     },
     "execution_count": 102,
     "metadata": {},
     "output_type": "execute_result"
    }
   ],
   "source": [
    "matrix_b[:1, :1]"
   ]
  },
  {
   "cell_type": "code",
   "execution_count": 103,
   "id": "30261643",
   "metadata": {},
   "outputs": [
    {
     "data": {
      "text/plain": [
       "()"
      ]
     },
     "execution_count": 103,
     "metadata": {},
     "output_type": "execute_result"
    }
   ],
   "source": [
    "matrix_b[0, 0].shape"
   ]
  },
  {
   "cell_type": "code",
   "execution_count": 104,
   "id": "aeb53c02",
   "metadata": {},
   "outputs": [
    {
     "data": {
      "text/plain": [
       "(1,)"
      ]
     },
     "execution_count": 104,
     "metadata": {},
     "output_type": "execute_result"
    }
   ],
   "source": [
    "matrix_b[0, :1].shape"
   ]
  },
  {
   "cell_type": "code",
   "execution_count": 105,
   "id": "fa878f19",
   "metadata": {},
   "outputs": [
    {
     "data": {
      "text/plain": [
       "(1, 1)"
      ]
     },
     "execution_count": 105,
     "metadata": {},
     "output_type": "execute_result"
    }
   ],
   "source": [
    "matrix_b[:1,:1].shape"
   ]
  },
  {
   "cell_type": "markdown",
   "id": "e5ad407b",
   "metadata": {},
   "source": [
    "<strong style=\"color:red\">!The number of slicing determines the dimension</strong>"
   ]
  },
  {
   "cell_type": "code",
   "execution_count": 106,
   "id": "e1429d64",
   "metadata": {},
   "outputs": [
    {
     "data": {
      "text/plain": [
       "array(1)"
      ]
     },
     "execution_count": 106,
     "metadata": {},
     "output_type": "execute_result"
    }
   ],
   "source": [
    "# squeeze removes all unneccessary dimention\n",
    "matrix_b[:1, :1].squeeze()"
   ]
  },
  {
   "cell_type": "code",
   "execution_count": 107,
   "id": "8e0d56c5",
   "metadata": {},
   "outputs": [
    {
     "data": {
      "text/plain": [
       "()"
      ]
     },
     "execution_count": 107,
     "metadata": {},
     "output_type": "execute_result"
    }
   ],
   "source": [
    "matrix_b[:1, :1].squeeze().shape"
   ]
  },
  {
   "cell_type": "code",
   "execution_count": 108,
   "id": "217c5f07",
   "metadata": {},
   "outputs": [
    {
     "data": {
      "text/plain": [
       "()"
      ]
     },
     "execution_count": 108,
     "metadata": {},
     "output_type": "execute_result"
    }
   ],
   "source": [
    "matrix_b[0, :1].squeeze().shape"
   ]
  },
  {
   "cell_type": "markdown",
   "id": "107982a1",
   "metadata": {},
   "source": [
    "## Generate data with numpy array"
   ]
  },
  {
   "cell_type": "markdown",
   "id": "24d60433",
   "metadata": {},
   "source": [
    "### Array of 0s and 1s"
   ]
  },
  {
   "cell_type": "code",
   "execution_count": 109,
   "id": "7aa5793f",
   "metadata": {},
   "outputs": [
    {
     "data": {
      "text/plain": [
       "array([[2., 4., 6.],\n",
       "       [5., 7., 9.]])"
      ]
     },
     "execution_count": 109,
     "metadata": {},
     "output_type": "execute_result"
    }
   ],
   "source": [
    "# np.empty(): return an empty nd array without initializing entries\n",
    "array_empty = np.empty(shape=(2,3))\n",
    "array_empty"
   ]
  },
  {
   "cell_type": "code",
   "execution_count": 110,
   "id": "3476ee7a",
   "metadata": {},
   "outputs": [
    {
     "data": {
      "text/plain": [
       "array([[0, 0, 0],\n",
       "       [0, 0, 0]], dtype=int8)"
      ]
     },
     "execution_count": 110,
     "metadata": {},
     "output_type": "execute_result"
    }
   ],
   "source": [
    "# np.zeros():\n",
    "array_0s = np.zeros(shape=(2,3), dtype=\"int8\")\n",
    "array_0s"
   ]
  },
  {
   "cell_type": "code",
   "execution_count": 111,
   "id": "c3def21e",
   "metadata": {},
   "outputs": [
    {
     "data": {
      "text/plain": [
       "array([['1', '1', '1'],\n",
       "       ['1', '1', '1']], dtype='<U1')"
      ]
     },
     "execution_count": 111,
     "metadata": {},
     "output_type": "execute_result"
    }
   ],
   "source": [
    "# np.ones()\n",
    "array_1s = np.ones(shape=(2,3), dtype=\"str\")\n",
    "array_1s"
   ]
  },
  {
   "cell_type": "code",
   "execution_count": 112,
   "id": "293f1dfe",
   "metadata": {},
   "outputs": [
    {
     "data": {
      "text/plain": [
       "array([[2, 2, 2],\n",
       "       [2, 2, 2]])"
      ]
     },
     "execution_count": 112,
     "metadata": {},
     "output_type": "execute_result"
    }
   ],
   "source": [
    "# np.full()\n",
    "array_full = np.full(shape=(2,3), fill_value=2)\n",
    "array_full"
   ]
  },
  {
   "cell_type": "markdown",
   "id": "0d0a7240",
   "metadata": {},
   "source": [
    "### \"_like\" function in numpy: dont need to specify a shape or type, but provide another array (whose shape and type we take)"
   ]
  },
  {
   "cell_type": "code",
   "execution_count": 113,
   "id": "f2299023",
   "metadata": {},
   "outputs": [
    {
     "data": {
      "text/plain": [
       "array([[ 1,  4,  2,  5,  6],\n",
       "       [ 2,  4, 61,  4,  5],\n",
       "       [ 2,  5,  7,  2,  5]])"
      ]
     },
     "execution_count": 113,
     "metadata": {},
     "output_type": "execute_result"
    }
   ],
   "source": [
    "matrix_A = np.array([[1,4,2,5,6], [2,4,61,4,5], [2,5,7,2,5]])\n",
    "matrix_A"
   ]
  },
  {
   "cell_type": "code",
   "execution_count": 114,
   "id": "4041b904",
   "metadata": {},
   "outputs": [
    {
     "data": {
      "text/plain": [
       "array([[4128860, 6029375, 3801155, 5570652, 6619251],\n",
       "       [7536754, 5505116, 7929973, 7209061, 4259932],\n",
       "       [7340144, 6357060, 6357108, 4980828, 6488175]])"
      ]
     },
     "execution_count": 114,
     "metadata": {},
     "output_type": "execute_result"
    }
   ],
   "source": [
    "array_empty_like = np.empty_like(matrix_A)\n",
    "array_empty_like # the shape resemble the shape of matrix A"
   ]
  },
  {
   "cell_type": "code",
   "execution_count": 115,
   "id": "f446cb4e",
   "metadata": {},
   "outputs": [
    {
     "data": {
      "text/plain": [
       "array([[0, 0, 0, 0, 0],\n",
       "       [0, 0, 0, 0, 0],\n",
       "       [0, 0, 0, 0, 0]])"
      ]
     },
     "execution_count": 115,
     "metadata": {},
     "output_type": "execute_result"
    }
   ],
   "source": [
    "array_zeros_like = np.zeros_like(matrix_A) # keep track how many times we update/ switch 1 or 0 of equivalent array\n",
    "array_zeros_like"
   ]
  },
  {
   "cell_type": "markdown",
   "id": "0256361c",
   "metadata": {},
   "source": [
    "### A non-random sequence of numbers"
   ]
  },
  {
   "cell_type": "code",
   "execution_count": 116,
   "id": "771d2e94",
   "metadata": {},
   "outputs": [
    {
     "data": {
      "text/plain": [
       "[0, 1, 2, 3, 4, 5, 6]"
      ]
     },
     "execution_count": 116,
     "metadata": {},
     "output_type": "execute_result"
    }
   ],
   "source": [
    "# np.arange(): a sequence of consesutive array\n",
    "list(range(7))"
   ]
  },
  {
   "cell_type": "code",
   "execution_count": 117,
   "id": "a427020f",
   "metadata": {},
   "outputs": [
    {
     "data": {
      "text/plain": [
       "array([ 0,  1,  2,  3,  4,  5,  6,  7,  8,  9, 10, 11, 12, 13, 14, 15, 16,\n",
       "       17, 18, 19, 20, 21, 22, 23, 24, 25, 26, 27, 28, 29])"
      ]
     },
     "execution_count": 117,
     "metadata": {},
     "output_type": "execute_result"
    }
   ],
   "source": [
    "array_rng = np.arange(30)\n",
    "array_rng"
   ]
  },
  {
   "cell_type": "code",
   "execution_count": 118,
   "id": "342ed43e",
   "metadata": {
    "scrolled": true
   },
   "outputs": [
    {
     "data": {
      "text/plain": [
       "array([ 0,  1,  2,  3,  4,  5,  6,  7,  8,  9, 10, 11, 12, 13, 14, 15, 16,\n",
       "       17, 18, 19, 20, 21, 22, 23, 24, 25, 26, 27, 28, 29])"
      ]
     },
     "execution_count": 118,
     "metadata": {},
     "output_type": "execute_result"
    }
   ],
   "source": [
    "np.arange(start=0, stop=30)"
   ]
  },
  {
   "cell_type": "code",
   "execution_count": 119,
   "id": "fe11ff12",
   "metadata": {},
   "outputs": [
    {
     "data": {
      "text/plain": [
       "array([ 0. ,  2.5,  5. ,  7.5, 10. , 12.5, 15. , 17.5, 20. , 22.5, 25. ,\n",
       "       27.5])"
      ]
     },
     "execution_count": 119,
     "metadata": {},
     "output_type": "execute_result"
    }
   ],
   "source": [
    "np.arange(start=0, stop=30, step=2.5) #12 elements"
   ]
  },
  {
   "cell_type": "code",
   "execution_count": 120,
   "id": "60597470",
   "metadata": {},
   "outputs": [
    {
     "data": {
      "text/plain": [
       "array([ 0,  2,  4,  6,  8, 10, 12, 14, 16, 18, 20, 22])"
      ]
     },
     "execution_count": 120,
     "metadata": {},
     "output_type": "execute_result"
    }
   ],
   "source": [
    "np.arange(start=0, stop=30, step=2.5, dtype=\"int32\") # 12 elements"
   ]
  },
  {
   "cell_type": "markdown",
   "id": "5f581ddf",
   "metadata": {},
   "source": [
    "### Random generator and seeds"
   ]
  },
  {
   "cell_type": "code",
   "execution_count": 121,
   "id": "b28301a7",
   "metadata": {},
   "outputs": [],
   "source": [
    "from numpy.random import Generator as gen # takes  a bit generator as an input and creates generator objects\n",
    "from numpy.random import PCG64 as pcg"
   ]
  },
  {
   "cell_type": "code",
   "execution_count": 122,
   "id": "4556d0ce",
   "metadata": {},
   "outputs": [
    {
     "data": {
      "text/plain": [
       "array([[-0.7391472 ,  0.07758583,  0.03864236,  0.37751356,  1.12591614],\n",
       "       [ 1.1132554 , -0.29874242,  0.24869323,  0.7283185 , -0.82130473],\n",
       "       [ 0.35450809,  0.91520161,  0.73434329,  0.86061338, -0.91972959],\n",
       "       [ 0.39337331, -0.95602268,  0.61350587, -0.26865081,  0.39376428],\n",
       "       [ 2.0628772 ,  0.18363525,  1.01225254,  0.12748892,  0.16928891]])"
      ]
     },
     "execution_count": 122,
     "metadata": {},
     "output_type": "execute_result"
    }
   ],
   "source": [
    "array_RG = gen(pcg())\n",
    "array_RG.normal(loc=0, scale=1, size=(5,5)) # a random number generated from a normal distribution\n",
    "# whenever we call the method, the generator random selects a seed\n",
    "# Seed is a set of starting parameters for the algorithm"
   ]
  },
  {
   "cell_type": "code",
   "execution_count": 123,
   "id": "54f90108",
   "metadata": {},
   "outputs": [
    {
     "data": {
      "text/plain": [
       "array([[-0.13640899,  0.09414431, -0.06300442,  1.05391641, -0.6866818 ],\n",
       "       [-0.50922173, -0.7999526 ,  0.73041825,  0.08825439, -2.1177576 ],\n",
       "       [ 0.65526774, -0.48095012, -0.5519114 , -0.58578662, -0.98257896],\n",
       "       [ 1.12378166, -1.30984316, -0.04703774,  0.955272  ,  0.26071745],\n",
       "       [-0.20023668, -1.50172484, -1.4929163 ,  0.96535084,  1.18694633]])"
      ]
     },
     "execution_count": 123,
     "metadata": {},
     "output_type": "execute_result"
    }
   ],
   "source": [
    "# specify a seed for the Generator, if we rerun this cell, the output is the same\n",
    "array_RG = gen(pcg(seed=365))\n",
    "array_RG.normal(size=(5,5))"
   ]
  },
  {
   "cell_type": "code",
   "execution_count": 124,
   "id": "3f66fc69",
   "metadata": {},
   "outputs": [
    {
     "data": {
      "text/plain": [
       "array([[-0.76065577,  1.48158358,  0.01200258, -0.06846959,  0.25301664],\n",
       "       [-0.52640788,  0.79613109,  0.28203421,  1.80238008,  0.93932117],\n",
       "       [-0.53693283, -0.26317689, -1.77723035,  1.14900013, -2.20733915],\n",
       "       [ 1.54116775, -0.5124932 , -2.14564563,  1.98878673,  0.32208907],\n",
       "       [-1.2651495 ,  3.2714633 ,  1.78650493, -0.20233675,  0.20427467]])"
      ]
     },
     "execution_count": 124,
     "metadata": {},
     "output_type": "execute_result"
    }
   ],
   "source": [
    "# a seed only last for one execution of a method or funtion before it resets\n",
    "array_RG.normal(size=(5,5))"
   ]
  },
  {
   "cell_type": "code",
   "execution_count": null,
   "id": "d7b91868",
   "metadata": {},
   "outputs": [],
   "source": []
  },
  {
   "cell_type": "markdown",
   "id": "32623fb2",
   "metadata": {},
   "source": [
    "### Basic Random Functions in Numpy"
   ]
  },
  {
   "cell_type": "code",
   "execution_count": 125,
   "id": "0d131099",
   "metadata": {},
   "outputs": [],
   "source": [
    "array_RG = gen(pcg(seed=365))"
   ]
  },
  {
   "cell_type": "code",
   "execution_count": 126,
   "id": "1481a4dc",
   "metadata": {},
   "outputs": [
    {
     "data": {
      "text/plain": [
       "array([[0, 7, 6, 7, 8, 6, 6, 2, 0, 6],\n",
       "       [3, 0, 3, 7, 9, 1, 1, 8, 7, 4],\n",
       "       [4, 8, 6, 4, 9, 0, 7, 6, 1, 3],\n",
       "       [1, 2, 4, 4, 7, 4, 2, 6, 3, 5],\n",
       "       [0, 6, 2, 0, 5, 7, 7, 8, 3, 1],\n",
       "       [8, 7, 9, 3, 6, 4, 2, 6, 9, 2],\n",
       "       [3, 2, 1, 5, 4, 4, 1, 3, 4, 8],\n",
       "       [1, 6, 5, 0, 5, 7, 7, 3, 4, 1],\n",
       "       [2, 8, 3, 3, 4, 2, 9, 3, 3, 9],\n",
       "       [9, 6, 3, 3, 5, 6, 4, 3, 9, 0]], dtype=int64)"
      ]
     },
     "execution_count": 126,
     "metadata": {},
     "output_type": "execute_result"
    }
   ],
   "source": [
    "# array_RG.integers: require definig a fixed range of value to choose from\n",
    "array_RG.integers(10, size=(10,10))"
   ]
  },
  {
   "cell_type": "code",
   "execution_count": 127,
   "id": "e748a593",
   "metadata": {},
   "outputs": [
    {
     "data": {
      "text/plain": [
       "array([[72, 91, 42, 63, 34, 12, 86, 86, 16, 92],\n",
       "       [23, 84, 72, 78, 93, 15, 91, 41, 90, 21],\n",
       "       [57, 39, 52, 22, 85, 29, 80, 58, 91, 43],\n",
       "       [48, 58, 22, 83, 67, 16, 34, 94, 13, 53],\n",
       "       [60, 93, 11, 30, 35, 68, 70, 12, 51, 97],\n",
       "       [83, 41, 96, 16, 24, 57, 12, 11, 73, 30],\n",
       "       [17, 90, 72, 90, 80, 59, 90, 92, 10, 33],\n",
       "       [56, 94, 10, 35, 89, 76, 42, 73, 76, 36],\n",
       "       [72, 73, 21, 77, 83, 18, 18, 85, 31, 69],\n",
       "       [74, 14, 45, 40, 93, 10, 40, 82, 35, 42]], dtype=int64)"
      ]
     },
     "execution_count": 127,
     "metadata": {},
     "output_type": "execute_result"
    }
   ],
   "source": [
    "array_RG.integers(low=10, high=100, size=(10,10))"
   ]
  },
  {
   "cell_type": "code",
   "execution_count": 128,
   "id": "fdbafcd4",
   "metadata": {},
   "outputs": [
    {
     "data": {
      "text/plain": [
       "array([[0.01801856, 0.05707939, 0.89919347, 0.03595123, 0.6561056 ],\n",
       "       [0.71768666, 0.02869496, 0.01408967, 0.39830591, 0.45560299],\n",
       "       [0.02844401, 0.18681135, 0.17949772, 0.03414217, 0.8640346 ],\n",
       "       [0.98046548, 0.83852196, 0.29321272, 0.52843655, 0.66034121],\n",
       "       [0.00978716, 0.12703279, 0.93426282, 0.21598962, 0.67927266]])"
      ]
     },
     "execution_count": 128,
     "metadata": {},
     "output_type": "execute_result"
    }
   ],
   "source": [
    "array_RG.random(size=(5,5)) # from 0 and 1"
   ]
  },
  {
   "cell_type": "code",
   "execution_count": 129,
   "id": "f232624f",
   "metadata": {},
   "outputs": [
    {
     "data": {
      "text/plain": [
       "array([[5, 4, 3, 3, 3],\n",
       "       [1, 3, 1, 4, 3],\n",
       "       [5, 3, 3, 5, 1],\n",
       "       [5, 1, 5, 5, 3],\n",
       "       [3, 4, 1, 5, 1]])"
      ]
     },
     "execution_count": 129,
     "metadata": {},
     "output_type": "execute_result"
    }
   ],
   "source": [
    "# making an arbitrary choice out of a given sequence\n",
    "array_RG.choice([1,3,4,5], size=(5,5))"
   ]
  },
  {
   "cell_type": "code",
   "execution_count": 130,
   "id": "fc33c7df",
   "metadata": {},
   "outputs": [
    {
     "data": {
      "text/plain": [
       "array([[3, 4, 3, 4, 3],\n",
       "       [5, 3, 4, 3, 3],\n",
       "       [3, 3, 5, 1, 4],\n",
       "       [4, 4, 3, 1, 4],\n",
       "       [4, 4, 3, 3, 5]])"
      ]
     },
     "execution_count": 130,
     "metadata": {},
     "output_type": "execute_result"
    }
   ],
   "source": [
    "array_RG.choice([1,3,4,5], p=[0.1,0.4,0.3,0.2],size=(5,5))"
   ]
  },
  {
   "cell_type": "code",
   "execution_count": null,
   "id": "5ca6938c",
   "metadata": {},
   "outputs": [],
   "source": []
  },
  {
   "cell_type": "markdown",
   "id": "1748da41",
   "metadata": {},
   "source": [
    "### Probability Distributions in Numpy: simulate dataset to resemble a process that follows a specific probability distribution"
   ]
  },
  {
   "cell_type": "code",
   "execution_count": 131,
   "id": "2e1171fb",
   "metadata": {},
   "outputs": [
    {
     "data": {
      "text/plain": [
       "array([[2, 0, 1, 1, 2],\n",
       "       [1, 1, 0, 1, 1],\n",
       "       [1, 2, 1, 1, 0],\n",
       "       [0, 1, 0, 2, 1],\n",
       "       [0, 1, 0, 0, 2]], dtype=int64)"
      ]
     },
     "execution_count": 131,
     "metadata": {},
     "output_type": "execute_result"
    }
   ],
   "source": [
    "# poisson \n",
    "array_RG = gen(pcg(seed=365))\n",
    "array_RG.poisson(size=(5,5)) # by default lambda=1 - the rate an event occurs=> over a fixed  interval  of time, distance, we expect an event to occur once"
   ]
  },
  {
   "cell_type": "code",
   "execution_count": 132,
   "id": "799c704c",
   "metadata": {},
   "outputs": [
    {
     "data": {
      "text/plain": [
       "array([[11, 12, 12, 14, 13],\n",
       "       [ 9, 10, 11, 11,  8],\n",
       "       [11,  8, 10,  9, 14],\n",
       "       [ 7,  8,  9, 15, 15],\n",
       "       [13,  8,  8,  7,  9]], dtype=int64)"
      ]
     },
     "execution_count": 132,
     "metadata": {},
     "output_type": "execute_result"
    }
   ],
   "source": [
    "array_RG = gen(pcg(seed=365))\n",
    "array_RG.poisson(size=(5,5), lam=10) # expected number of times an event occur is 10\n"
   ]
  },
  {
   "cell_type": "code",
   "execution_count": 133,
   "id": "6c48fcf6",
   "metadata": {},
   "outputs": [
    {
     "data": {
      "text/plain": [
       "array([[42, 44, 30, 36, 45],\n",
       "       [36, 41, 38, 42, 41],\n",
       "       [35, 31, 35, 46, 29],\n",
       "       [41, 41, 46, 34, 48],\n",
       "       [45, 45, 45, 40, 43]], dtype=int64)"
      ]
     },
     "execution_count": 133,
     "metadata": {},
     "output_type": "execute_result"
    }
   ],
   "source": [
    "# binomial distribution: measures how many times a certain outcome can appear over a series of trials, \n",
    "# where there are only two possible outcomes\n",
    "\n",
    "array_RG = gen(pcg(seed=365))\n",
    "array_RG.binomial(n=100, p=0.4, size=(5,5)) \n",
    "# n is the number of trials, and p  is the probability of getting our desired outcome\n",
    "# om average, the number of desired outcomes are 40\n"
   ]
  },
  {
   "cell_type": "code",
   "execution_count": 134,
   "id": "dd594f99",
   "metadata": {},
   "outputs": [
    {
     "data": {
      "text/plain": [
       "array([[10.37767822, 10.42451863,  9.63404367,  7.36153427,  9.82286787],\n",
       "       [ 5.81223125, 10.09354231,  6.46790532, 11.38740256,  8.97147918],\n",
       "       [10.85844698,  8.79081317,  5.962079  ,  9.99560681,  8.34539118],\n",
       "       [ 7.97105522,  8.9981544 ,  8.93530194,  9.6253307 ,  9.23850869],\n",
       "       [ 9.73729284,  5.3090678 , 10.13723528, 11.04372782,  7.11078651]])"
      ]
     },
     "execution_count": 134,
     "metadata": {},
     "output_type": "execute_result"
    }
   ],
   "source": [
    "# logistic distributions\n",
    "array_RG = gen(pcg(seed=365))\n",
    "array_RG.logistic(loc=9, scale=1.2, size=(5,5))"
   ]
  },
  {
   "cell_type": "markdown",
   "id": "96581e59",
   "metadata": {},
   "source": [
    "### Applications of Random data in Numpy"
   ]
  },
  {
   "cell_type": "markdown",
   "id": "af88c659",
   "metadata": {},
   "source": [
    "Test creation: when real data is not available, we sometimes need pseudo random data to test how well our program perform"
   ]
  },
  {
   "cell_type": "code",
   "execution_count": 135,
   "id": "f412c630",
   "metadata": {},
   "outputs": [],
   "source": [
    "array_RG = gen(pcg(seed=365))\n",
    "\n",
    "array_col_1 = array_RG.normal(loc=2, scale=3, size=(1000))\n",
    "array_col_2 = array_RG.normal(loc=7, scale=2, size=(1000))\n",
    "array_col_3 = array_RG.logistic(loc=11, scale=3, size=(1000))\n",
    "array_col_4 =  array_RG.exponential(scale=4, size=(1000))\n",
    "array_col_5 = array_RG.geometric(p=0.7, size=(1000))"
   ]
  },
  {
   "cell_type": "code",
   "execution_count": 136,
   "id": "ce2a954f",
   "metadata": {},
   "outputs": [],
   "source": [
    "random_test_data = np.array([array_col_1, array_col_2, array_col_3, array_col_4, array_col_5]).transpose()\n"
   ]
  },
  {
   "cell_type": "code",
   "execution_count": 137,
   "id": "85b91a63",
   "metadata": {},
   "outputs": [
    {
     "data": {
      "text/plain": [
       "array([[ 1.59077303,  6.42174295, 10.14698427,  6.91500737,  1.        ],\n",
       "       [ 2.28243293,  8.57902322, 15.93309953,  6.243605  ,  1.        ],\n",
       "       [ 1.81098674,  5.17270135, -0.46878789,  2.44997251,  1.        ],\n",
       "       ...,\n",
       "       [ 0.1973629 ,  4.3465854 ,  2.66485989,  0.80935387,  1.        ],\n",
       "       [-2.21015722,  8.2176402 , 12.69328115,  0.50644607,  2.        ],\n",
       "       [ 2.91161235,  7.90337695, 11.79840961,  4.86816939,  1.        ]])"
      ]
     },
     "execution_count": 137,
     "metadata": {},
     "output_type": "execute_result"
    }
   ],
   "source": [
    "random_test_data"
   ]
  },
  {
   "cell_type": "code",
   "execution_count": 138,
   "id": "8fc7c234",
   "metadata": {},
   "outputs": [
    {
     "data": {
      "text/plain": [
       "(1000, 5)"
      ]
     },
     "execution_count": 138,
     "metadata": {},
     "output_type": "execute_result"
    }
   ],
   "source": [
    "random_test_data.shape"
   ]
  },
  {
   "cell_type": "code",
   "execution_count": 139,
   "id": "52a1fe3f",
   "metadata": {},
   "outputs": [],
   "source": [
    "np.savetxt(\"Random-Test-from-Numpy.csv\", random_test_data, fmt=\"%s\", delimiter=',')"
   ]
  },
  {
   "cell_type": "code",
   "execution_count": 140,
   "id": "2955301a",
   "metadata": {},
   "outputs": [
    {
     "data": {
      "text/plain": [
       "array([[ 1.59077303,  6.42174295, 10.14698427,  6.91500737,  1.        ],\n",
       "       [ 2.28243293,  8.57902322, 15.93309953,  6.243605  ,  1.        ],\n",
       "       [ 1.81098674,  5.17270135, -0.46878789,  2.44997251,  1.        ],\n",
       "       ...,\n",
       "       [ 0.1973629 ,  4.3465854 ,  2.66485989,  0.80935387,  1.        ],\n",
       "       [-2.21015722,  8.2176402 , 12.69328115,  0.50644607,  2.        ],\n",
       "       [ 2.91161235,  7.90337695, 11.79840961,  4.86816939,  1.        ]])"
      ]
     },
     "execution_count": 140,
     "metadata": {},
     "output_type": "execute_result"
    }
   ],
   "source": [
    "np.genfromtxt(\"Random-Test-from-Numpy.csv\", delimiter=\",\")"
   ]
  },
  {
   "cell_type": "markdown",
   "id": "1eb9d6c9",
   "metadata": {},
   "source": [
    "# Importing and Saving data with numpy"
   ]
  },
  {
   "cell_type": "markdown",
   "id": "4f53b9d7",
   "metadata": {},
   "source": [
    "### np.loadtxt() vs np.genfromtxt()\n",
    "Load -  implies that that data is ready to be directly imported and used.\n",
    "<p>generate - indicates that the function creates the dataset from the text file (allows us to take certain rows and columns - more flexible) </p>"
   ]
  },
  {
   "cell_type": "code",
   "execution_count": 141,
   "id": "2899b476",
   "metadata": {},
   "outputs": [
    {
     "data": {
      "text/plain": [
       "array([[ 2000.,    40.,   365.,  3121.,  4241., 13621.],\n",
       "       [ 2000.,    40.,   365.,  3061.,  4171., 15041.],\n",
       "       [ 1000.,    40.,   365.,  2160.,  3280., 15340.],\n",
       "       ...,\n",
       "       [ 2000.,    40.,   365.,  4201.,  5001., 16600.],\n",
       "       [ 1000.,    40.,   365.,  2080.,  3320., 15600.],\n",
       "       [ 2000.,    40.,   365.,  4601.,  4601., 16600.]])"
      ]
     },
     "execution_count": 141,
     "metadata": {},
     "output_type": "execute_result"
    }
   ],
   "source": [
    "lending_co_data_numeric_1 = np.loadtxt(\"Lending-Company-Numeric-Data.csv\", delimiter=',')\n",
    "lending_co_data_numeric_1"
   ]
  },
  {
   "cell_type": "code",
   "execution_count": 142,
   "id": "d86b9846",
   "metadata": {},
   "outputs": [
    {
     "data": {
      "text/plain": [
       "(1043, 6)"
      ]
     },
     "execution_count": 142,
     "metadata": {},
     "output_type": "execute_result"
    }
   ],
   "source": [
    "lending_co_data_numeric_1.shape"
   ]
  },
  {
   "cell_type": "code",
   "execution_count": 143,
   "id": "ac1bfa08",
   "metadata": {},
   "outputs": [
    {
     "data": {
      "text/plain": [
       "array([[ 2000.,    40.,   365.,  3121.,  4241., 13621.],\n",
       "       [ 2000.,    40.,   365.,  3061.,  4171., 15041.],\n",
       "       [ 1000.,    40.,   365.,  2160.,  3280., 15340.],\n",
       "       ...,\n",
       "       [ 2000.,    40.,   365.,  4201.,  5001., 16600.],\n",
       "       [ 1000.,    40.,   365.,  2080.,  3320., 15600.],\n",
       "       [ 2000.,    40.,   365.,  4601.,  4601., 16600.]])"
      ]
     },
     "execution_count": 143,
     "metadata": {},
     "output_type": "execute_result"
    }
   ],
   "source": [
    "lending_co_data_numeric_2 = np.genfromtxt(\"Lending-Company-Numeric-Data.csv\", delimiter=\",\")\n",
    "lending_co_data_numeric_2\n"
   ]
  },
  {
   "cell_type": "code",
   "execution_count": 144,
   "id": "3305ed25",
   "metadata": {},
   "outputs": [
    {
     "data": {
      "text/plain": [
       "True"
      ]
     },
     "execution_count": 144,
     "metadata": {},
     "output_type": "execute_result"
    }
   ],
   "source": [
    "np.array_equal(lending_co_data_numeric_1, lending_co_data_numeric_2) \n",
    "#the loadtxt is faster \n",
    "#but it breaks when we feed it incomplete or ill-formated daatsets\n"
   ]
  },
  {
   "cell_type": "code",
   "execution_count": 145,
   "id": "5182f9ee",
   "metadata": {},
   "outputs": [
    {
     "ename": "ValueError",
     "evalue": "could not convert string '' to float64 at row 11, column 4.",
     "output_type": "error",
     "traceback": [
      "\u001b[1;31m---------------------------------------------------------------------------\u001b[0m",
      "\u001b[1;31mValueError\u001b[0m                                Traceback (most recent call last)",
      "Input \u001b[1;32mIn [145]\u001b[0m, in \u001b[0;36m<cell line: 1>\u001b[1;34m()\u001b[0m\n\u001b[1;32m----> 1\u001b[0m lending_co_data_numeric_NAN \u001b[38;5;241m=\u001b[39m \u001b[43mnp\u001b[49m\u001b[38;5;241;43m.\u001b[39;49m\u001b[43mloadtxt\u001b[49m\u001b[43m(\u001b[49m\u001b[38;5;124;43m\"\u001b[39;49m\u001b[38;5;124;43mLending-Company-Numeric-Data-NAN.csv\u001b[39;49m\u001b[38;5;124;43m\"\u001b[39;49m\u001b[43m,\u001b[49m\u001b[43m \u001b[49m\u001b[43mdelimiter\u001b[49m\u001b[38;5;241;43m=\u001b[39;49m\u001b[38;5;124;43m\"\u001b[39;49m\u001b[38;5;124;43m;\u001b[39;49m\u001b[38;5;124;43m\"\u001b[39;49m\u001b[43m)\u001b[49m\n\u001b[0;32m      2\u001b[0m lending_co_data_numeric_NAN\n",
      "File \u001b[1;32m~\\anaconda3\\lib\\site-packages\\numpy\\lib\\npyio.py:1301\u001b[0m, in \u001b[0;36mloadtxt\u001b[1;34m(fname, dtype, comments, delimiter, converters, skiprows, usecols, unpack, ndmin, encoding, max_rows, quotechar, like)\u001b[0m\n\u001b[0;32m   1298\u001b[0m \u001b[38;5;28;01mif\u001b[39;00m \u001b[38;5;28misinstance\u001b[39m(delimiter, \u001b[38;5;28mbytes\u001b[39m):\n\u001b[0;32m   1299\u001b[0m     delimiter \u001b[38;5;241m=\u001b[39m delimiter\u001b[38;5;241m.\u001b[39mdecode(\u001b[38;5;124m'\u001b[39m\u001b[38;5;124mlatin1\u001b[39m\u001b[38;5;124m'\u001b[39m)\n\u001b[1;32m-> 1301\u001b[0m arr \u001b[38;5;241m=\u001b[39m \u001b[43m_read\u001b[49m\u001b[43m(\u001b[49m\u001b[43mfname\u001b[49m\u001b[43m,\u001b[49m\u001b[43m \u001b[49m\u001b[43mdtype\u001b[49m\u001b[38;5;241;43m=\u001b[39;49m\u001b[43mdtype\u001b[49m\u001b[43m,\u001b[49m\u001b[43m \u001b[49m\u001b[43mcomment\u001b[49m\u001b[38;5;241;43m=\u001b[39;49m\u001b[43mcomment\u001b[49m\u001b[43m,\u001b[49m\u001b[43m \u001b[49m\u001b[43mdelimiter\u001b[49m\u001b[38;5;241;43m=\u001b[39;49m\u001b[43mdelimiter\u001b[49m\u001b[43m,\u001b[49m\n\u001b[0;32m   1302\u001b[0m \u001b[43m            \u001b[49m\u001b[43mconverters\u001b[49m\u001b[38;5;241;43m=\u001b[39;49m\u001b[43mconverters\u001b[49m\u001b[43m,\u001b[49m\u001b[43m \u001b[49m\u001b[43mskiplines\u001b[49m\u001b[38;5;241;43m=\u001b[39;49m\u001b[43mskiprows\u001b[49m\u001b[43m,\u001b[49m\u001b[43m \u001b[49m\u001b[43musecols\u001b[49m\u001b[38;5;241;43m=\u001b[39;49m\u001b[43musecols\u001b[49m\u001b[43m,\u001b[49m\n\u001b[0;32m   1303\u001b[0m \u001b[43m            \u001b[49m\u001b[43munpack\u001b[49m\u001b[38;5;241;43m=\u001b[39;49m\u001b[43munpack\u001b[49m\u001b[43m,\u001b[49m\u001b[43m \u001b[49m\u001b[43mndmin\u001b[49m\u001b[38;5;241;43m=\u001b[39;49m\u001b[43mndmin\u001b[49m\u001b[43m,\u001b[49m\u001b[43m \u001b[49m\u001b[43mencoding\u001b[49m\u001b[38;5;241;43m=\u001b[39;49m\u001b[43mencoding\u001b[49m\u001b[43m,\u001b[49m\n\u001b[0;32m   1304\u001b[0m \u001b[43m            \u001b[49m\u001b[43mmax_rows\u001b[49m\u001b[38;5;241;43m=\u001b[39;49m\u001b[43mmax_rows\u001b[49m\u001b[43m,\u001b[49m\u001b[43m \u001b[49m\u001b[43mquote\u001b[49m\u001b[38;5;241;43m=\u001b[39;49m\u001b[43mquotechar\u001b[49m\u001b[43m)\u001b[49m\n\u001b[0;32m   1306\u001b[0m \u001b[38;5;28;01mreturn\u001b[39;00m arr\n",
      "File \u001b[1;32m~\\anaconda3\\lib\\site-packages\\numpy\\lib\\npyio.py:979\u001b[0m, in \u001b[0;36m_read\u001b[1;34m(fname, delimiter, comment, quote, imaginary_unit, usecols, skiplines, max_rows, converters, ndmin, unpack, dtype, encoding)\u001b[0m\n\u001b[0;32m    976\u001b[0m     data \u001b[38;5;241m=\u001b[39m _preprocess_comments(data, comments, encoding)\n\u001b[0;32m    978\u001b[0m \u001b[38;5;28;01mif\u001b[39;00m read_dtype_via_object_chunks \u001b[38;5;129;01mis\u001b[39;00m \u001b[38;5;28;01mNone\u001b[39;00m:\n\u001b[1;32m--> 979\u001b[0m     arr \u001b[38;5;241m=\u001b[39m \u001b[43m_load_from_filelike\u001b[49m\u001b[43m(\u001b[49m\n\u001b[0;32m    980\u001b[0m \u001b[43m        \u001b[49m\u001b[43mdata\u001b[49m\u001b[43m,\u001b[49m\u001b[43m \u001b[49m\u001b[43mdelimiter\u001b[49m\u001b[38;5;241;43m=\u001b[39;49m\u001b[43mdelimiter\u001b[49m\u001b[43m,\u001b[49m\u001b[43m \u001b[49m\u001b[43mcomment\u001b[49m\u001b[38;5;241;43m=\u001b[39;49m\u001b[43mcomment\u001b[49m\u001b[43m,\u001b[49m\u001b[43m \u001b[49m\u001b[43mquote\u001b[49m\u001b[38;5;241;43m=\u001b[39;49m\u001b[43mquote\u001b[49m\u001b[43m,\u001b[49m\n\u001b[0;32m    981\u001b[0m \u001b[43m        \u001b[49m\u001b[43mimaginary_unit\u001b[49m\u001b[38;5;241;43m=\u001b[39;49m\u001b[43mimaginary_unit\u001b[49m\u001b[43m,\u001b[49m\n\u001b[0;32m    982\u001b[0m \u001b[43m        \u001b[49m\u001b[43musecols\u001b[49m\u001b[38;5;241;43m=\u001b[39;49m\u001b[43musecols\u001b[49m\u001b[43m,\u001b[49m\u001b[43m \u001b[49m\u001b[43mskiplines\u001b[49m\u001b[38;5;241;43m=\u001b[39;49m\u001b[43mskiplines\u001b[49m\u001b[43m,\u001b[49m\u001b[43m \u001b[49m\u001b[43mmax_rows\u001b[49m\u001b[38;5;241;43m=\u001b[39;49m\u001b[43mmax_rows\u001b[49m\u001b[43m,\u001b[49m\n\u001b[0;32m    983\u001b[0m \u001b[43m        \u001b[49m\u001b[43mconverters\u001b[49m\u001b[38;5;241;43m=\u001b[39;49m\u001b[43mconverters\u001b[49m\u001b[43m,\u001b[49m\u001b[43m \u001b[49m\u001b[43mdtype\u001b[49m\u001b[38;5;241;43m=\u001b[39;49m\u001b[43mdtype\u001b[49m\u001b[43m,\u001b[49m\n\u001b[0;32m    984\u001b[0m \u001b[43m        \u001b[49m\u001b[43mencoding\u001b[49m\u001b[38;5;241;43m=\u001b[39;49m\u001b[43mencoding\u001b[49m\u001b[43m,\u001b[49m\u001b[43m \u001b[49m\u001b[43mfilelike\u001b[49m\u001b[38;5;241;43m=\u001b[39;49m\u001b[43mfilelike\u001b[49m\u001b[43m,\u001b[49m\n\u001b[0;32m    985\u001b[0m \u001b[43m        \u001b[49m\u001b[43mbyte_converters\u001b[49m\u001b[38;5;241;43m=\u001b[39;49m\u001b[43mbyte_converters\u001b[49m\u001b[43m)\u001b[49m\n\u001b[0;32m    987\u001b[0m \u001b[38;5;28;01melse\u001b[39;00m:\n\u001b[0;32m    988\u001b[0m     \u001b[38;5;66;03m# This branch reads the file into chunks of object arrays and then\u001b[39;00m\n\u001b[0;32m    989\u001b[0m     \u001b[38;5;66;03m# casts them to the desired actual dtype.  This ensures correct\u001b[39;00m\n\u001b[0;32m    990\u001b[0m     \u001b[38;5;66;03m# string-length and datetime-unit discovery (like `arr.astype()`).\u001b[39;00m\n\u001b[0;32m    991\u001b[0m     \u001b[38;5;66;03m# Due to chunking, certain error reports are less clear, currently.\u001b[39;00m\n\u001b[0;32m    992\u001b[0m     \u001b[38;5;28;01mif\u001b[39;00m filelike:\n",
      "\u001b[1;31mValueError\u001b[0m: could not convert string '' to float64 at row 11, column 4."
     ]
    }
   ],
   "source": [
    "lending_co_data_numeric_NAN = np.loadtxt(\"Lending-Company-Numeric-Data-NAN.csv\", delimiter=\";\")\n",
    "lending_co_data_numeric_NAN"
   ]
  },
  {
   "cell_type": "code",
   "execution_count": 146,
   "id": "b1bfba44",
   "metadata": {},
   "outputs": [
    {
     "data": {
      "text/plain": [
       "array([[ 2000.,    40.,   365.,  3121.,  4241., 13621.],\n",
       "       [ 2000.,    40.,   365.,  3061.,  4171., 15041.],\n",
       "       [ 1000.,    40.,   365.,  2160.,  3280., 15340.],\n",
       "       ...,\n",
       "       [   nan,    40.,   365.,  4201.,  5001., 16600.],\n",
       "       [ 1000.,    40.,   365.,  2080.,  3320., 15600.],\n",
       "       [ 2000.,    40.,   365.,  4601.,  4601., 16600.]])"
      ]
     },
     "execution_count": 146,
     "metadata": {},
     "output_type": "execute_result"
    }
   ],
   "source": [
    "lending_co_data_numeric_NAN = np.genfromtxt(\"Lending-Company-Numeric-Data-NAN.csv\", delimiter=\";\")\n",
    "lending_co_data_numeric_NAN\n"
   ]
  },
  {
   "cell_type": "code",
   "execution_count": 147,
   "id": "b5ab0f6b",
   "metadata": {},
   "outputs": [
    {
     "data": {
      "text/plain": [
       "array([['2000', '40', '365', '3121', '4241', '13621'],\n",
       "       ['2000', '40', '365', '3061', '4171', '15041'],\n",
       "       ['1000', '40', '365', '2160', '3280', '15340'],\n",
       "       ...,\n",
       "       ['', '40', '365', '4201', '5001', '16600'],\n",
       "       ['1000', '40', '365', '2080', '3320', '15600'],\n",
       "       ['2000', '40', '365', '4601', '4601', '16600']], dtype='<U5')"
      ]
     },
     "execution_count": 147,
     "metadata": {},
     "output_type": "execute_result"
    }
   ],
   "source": [
    "lending_co_data_numeric_NAN = np.loadtxt(\"Lending-Company-Numeric-Data-NAN.csv\", delimiter=\";\", dtype=\"str\")\n",
    "lending_co_data_numeric_NAN\n"
   ]
  },
  {
   "cell_type": "code",
   "execution_count": null,
   "id": "f784b175",
   "metadata": {},
   "outputs": [],
   "source": []
  },
  {
   "cell_type": "markdown",
   "id": "9ca188dc",
   "metadata": {},
   "source": [
    "### Partial Cleaning While importing"
   ]
  },
  {
   "cell_type": "code",
   "execution_count": 148,
   "id": "0e127f4c",
   "metadata": {},
   "outputs": [
    {
     "data": {
      "text/plain": [
       "array([[ 1000.,    40.,   365.,  2160.,  3280., 15340.],\n",
       "       [ 2000.,    40.,   365.,  3041.,  4241., 15321.],\n",
       "       [ 2000.,    50.,   365.,  3470.,  4820., 13720.],\n",
       "       ...,\n",
       "       [   nan,    40.,   365.,  4201.,  5001., 16600.],\n",
       "       [ 1000.,    40.,   365.,  2080.,  3320., 15600.],\n",
       "       [ 2000.,    40.,   365.,  4601.,  4601., 16600.]])"
      ]
     },
     "execution_count": 148,
     "metadata": {},
     "output_type": "execute_result"
    }
   ],
   "source": [
    "lending_co_data_numeric_NAN = np.genfromtxt(\"Lending-Company-Numeric-Data-NAN.csv\", \n",
    "                                            delimiter=\";\", \n",
    "                                            skip_header=2)\n",
    "lending_co_data_numeric_NAN"
   ]
  },
  {
   "cell_type": "code",
   "execution_count": 149,
   "id": "d8c3f264",
   "metadata": {},
   "outputs": [
    {
     "data": {
      "text/plain": [
       "array([[ 2000.,    40.,   365.,  3121.,  4241., 13621.],\n",
       "       [ 2000.,    40.,   365.,  3061.,  4171., 15041.],\n",
       "       [ 1000.,    40.,   365.,  2160.,  3280., 15340.],\n",
       "       ...,\n",
       "       [ 2000.,    40.,   365.,  3401.,    nan, 16600.],\n",
       "       [ 2000.,    40.,   365.,    nan,  5440., 16600.],\n",
       "       [   nan,    40.,   365.,  4201.,  5001., 16600.]])"
      ]
     },
     "execution_count": 149,
     "metadata": {},
     "output_type": "execute_result"
    }
   ],
   "source": [
    "lending_co_data_numeric_NAN = np.genfromtxt(\"Lending-Company-Numeric-Data-NAN.csv\", \n",
    "                                            delimiter=\";\", \n",
    "                                            skip_footer=2)\n",
    "lending_co_data_numeric_NAN"
   ]
  },
  {
   "cell_type": "code",
   "execution_count": 150,
   "id": "4d0308cb",
   "metadata": {},
   "outputs": [
    {
     "data": {
      "text/plain": [
       "array([[ 2000.,    40., 13621.],\n",
       "       [ 2000.,    40., 15041.],\n",
       "       [ 1000.,    40., 15340.],\n",
       "       ...,\n",
       "       [   nan,    40., 16600.],\n",
       "       [ 1000.,    40., 15600.],\n",
       "       [ 2000.,    40., 16600.]])"
      ]
     },
     "execution_count": 150,
     "metadata": {},
     "output_type": "execute_result"
    }
   ],
   "source": [
    "lending_co_data_numeric_NAN = np.genfromtxt(\"Lending-Company-Numeric-Data-NAN.csv\", \n",
    "                                            delimiter=\";\", \n",
    "                                            usecols=(0,1,5))\n",
    "lending_co_data_numeric_NAN"
   ]
  },
  {
   "cell_type": "code",
   "execution_count": 151,
   "id": "2effe6cb",
   "metadata": {},
   "outputs": [
    {
     "data": {
      "text/plain": [
       "array([[   40.,  2000., 13621.],\n",
       "       [   40.,  2000., 15041.],\n",
       "       [   40.,  1000., 15340.],\n",
       "       ...,\n",
       "       [   40.,    nan, 16600.],\n",
       "       [   40.,  1000., 15600.],\n",
       "       [   40.,  2000., 16600.]])"
      ]
     },
     "execution_count": 151,
     "metadata": {},
     "output_type": "execute_result"
    }
   ],
   "source": [
    "lending_co_data_numeric_NAN = np.genfromtxt(\"Lending-Company-Numeric-Data-NAN.csv\", \n",
    "                                            delimiter=\";\", \n",
    "                                            usecols=(1,0,5))\n",
    "lending_co_data_numeric_NAN"
   ]
  },
  {
   "cell_type": "code",
   "execution_count": 152,
   "id": "873f753c",
   "metadata": {},
   "outputs": [
    {
     "name": "stdout",
     "output_type": "stream",
     "text": [
      "col1 [40. 40. 40. ... 40. 40. 40.]\n",
      "col2 [2000. 2000. 1000. ...   nan 1000. 2000.]\n",
      "col3 [13621. 15041. 15340. ... 16600. 15600. 16600.]\n"
     ]
    }
   ],
   "source": [
    "# split into different variables\n",
    "col1, col2, col3 = np.genfromtxt(\"Lending-Company-Numeric-Data-NAN.csv\", \n",
    "                                            delimiter=\";\", \n",
    "                                            usecols=(1,0,5),\n",
    "                                            unpack=True)\n",
    "print(\"col1\", col1)\n",
    "print(\"col2\", col2)\n",
    "print(\"col3\", col3)"
   ]
  },
  {
   "cell_type": "markdown",
   "id": "e4751821",
   "metadata": {},
   "source": [
    "### String vs Objects vs Numbers"
   ]
  },
  {
   "cell_type": "code",
   "execution_count": 153,
   "id": "bc02efdd",
   "metadata": {},
   "outputs": [
    {
     "name": "stdout",
     "output_type": "stream",
     "text": [
      "[[   -1    -1    -1 ...    -1    -1    -1]\n",
      " [    1    -1    -1 ...    -1    -1 16600]\n",
      " [    2    -1    -1 ...    -1    -1 16600]\n",
      " ...\n",
      " [ 1041    -1    -1 ...    -1    -1 16600]\n",
      " [ 1042    -1    -1 ...    -1    -1 15600]\n",
      " [ 1043    -1    -1 ...    -1    -1 16600]]\n"
     ]
    }
   ],
   "source": [
    "lending_co_lt = np.genfromtxt(\"lending-co-LT.csv\", delimiter=',', dtype=\"int32\") \n",
    "print(lending_co_lt)\n",
    "# by specifying the input data to be of a specific type, the functions generate the missing values and NAN differently (-1 for missing data)\n",
    "# carefult casting the data to int when the datasets potentially have missing or NAN values"
   ]
  },
  {
   "cell_type": "code",
   "execution_count": 154,
   "id": "3e62226c",
   "metadata": {},
   "outputs": [
    {
     "name": "stdout",
     "output_type": "stream",
     "text": [
      "[['LoanID' 'StringID' 'Product' ... 'Location' 'Region' 'TotalPrice']\n",
      " ['1' 'id_1' 'Product B' ... 'Location 2' 'Region 2' '16600.0']\n",
      " ['2' 'id_2' 'Product B' ... 'Location 3' '' '16600.0']\n",
      " ...\n",
      " ['1041' 'id_1041' 'Product B' ... 'Location 23' 'Region 4' '16600.0']\n",
      " ['1042' 'id_1042' 'Product C' ... 'Location 52' 'Region 6' '15600.0']\n",
      " ['1043' 'id_1043' 'Product B' ... 'Location 142' 'Region 6' '16600.0']]\n"
     ]
    }
   ],
   "source": [
    "lending_co_lt = np.genfromtxt(\"lending-co-LT.csv\", delimiter=',', dtype=\"str\") \n",
    "print(lending_co_lt)"
   ]
  },
  {
   "cell_type": "code",
   "execution_count": 155,
   "id": "7c5ed8ea",
   "metadata": {},
   "outputs": [
    {
     "name": "stdout",
     "output_type": "stream",
     "text": [
      "[[b'LoanID' b'StringID' b'Product' ... b'Location' b'Region'\n",
      "  b'TotalPrice']\n",
      " [b'1' b'id_1' b'Product B' ... b'Location 2' b'Region 2' b'16600.0']\n",
      " [b'2' b'id_2' b'Product B' ... b'Location 3' b'' b'16600.0']\n",
      " ...\n",
      " [b'1041' b'id_1041' b'Product B' ... b'Location 23' b'Region 4'\n",
      "  b'16600.0']\n",
      " [b'1042' b'id_1042' b'Product C' ... b'Location 52' b'Region 6'\n",
      "  b'15600.0']\n",
      " [b'1043' b'id_1043' b'Product B' ... b'Location 142' b'Region 6'\n",
      "  b'16600.0']]\n"
     ]
    }
   ],
   "source": [
    "lending_co_lt = np.genfromtxt(\"lending-co-LT.csv\", delimiter=',', dtype=\"object\") \n",
    "print(lending_co_lt)"
   ]
  },
  {
   "cell_type": "code",
   "execution_count": 156,
   "id": "9a256ccb",
   "metadata": {},
   "outputs": [
    {
     "name": "stdout",
     "output_type": "stream",
     "text": [
      "[(  -1, '', '', '', '', '',    -1) (   1, '', '', '', '', '', 16600)\n",
      " (   2, '', '', '', '', '', 16600) ... (1041, '', '', '', '', '', 16600)\n",
      " (1042, '', '', '', '', '', 15600) (1043, '', '', '', '', '', 16600)]\n"
     ]
    }
   ],
   "source": [
    "lending_co_lt = np.genfromtxt(\"lending-co-LT.csv\", delimiter=',', dtype=[\"int32\", \"str\", \"str\", \"str\", \"str\", \"str\", \"int32\"]) \n",
    "print(lending_co_lt)\n",
    "# different data types for different columns: avoid this"
   ]
  },
  {
   "cell_type": "markdown",
   "id": "da016994",
   "metadata": {},
   "source": [
    "### np.save()"
   ]
  },
  {
   "cell_type": "code",
   "execution_count": 157,
   "id": "e7017260",
   "metadata": {},
   "outputs": [
    {
     "data": {
      "text/plain": [
       "array([['2000', '40', '365', '3121', '4241', '13621'],\n",
       "       ['2000', '40', '365', '3061', '4171', '15041'],\n",
       "       ['1000', '40', '365', '2160', '3280', '15340'],\n",
       "       ...,\n",
       "       ['2000', '40', '365', '4201', '5001', '16600'],\n",
       "       ['1000', '40', '365', '2080', '3320', '15600'],\n",
       "       ['2000', '40', '365', '4601', '4601', '16600']], dtype='<U5')"
      ]
     },
     "execution_count": 157,
     "metadata": {},
     "output_type": "execute_result"
    }
   ],
   "source": [
    "lending_co_data = np.loadtxt(\"Lending-Company-Numeric-Data.csv\", delimiter=',', dtype=\"str\")\n",
    "lending_co_data"
   ]
  },
  {
   "cell_type": "code",
   "execution_count": 158,
   "id": "a47f331d",
   "metadata": {},
   "outputs": [],
   "source": [
    "np.save(\"Lending-Company-Saving\", lending_co_data)\n",
    "# produce npy file, , special type of text file native to Numpy\n",
    "# NPY is much faster\n",
    "# NPY files take up way less memory space\n",
    "# the most convenience: since .npy native to numpy,  the entire dataset keeps its format, we dont need to worry about specifying and reorganizing from the external data"
   ]
  },
  {
   "cell_type": "code",
   "execution_count": 159,
   "id": "cc3edc52",
   "metadata": {},
   "outputs": [],
   "source": [
    "lending_data_save = np.load(\"Lending-Company-Saving.npy\")"
   ]
  },
  {
   "cell_type": "code",
   "execution_count": 160,
   "id": "7f1c2140",
   "metadata": {},
   "outputs": [
    {
     "name": "stdout",
     "output_type": "stream",
     "text": [
      "[['2000' '40' '365' '3121' '4241' '13621']\n",
      " ['2000' '40' '365' '3061' '4171' '15041']\n",
      " ['1000' '40' '365' '2160' '3280' '15340']\n",
      " ...\n",
      " ['2000' '40' '365' '4201' '5001' '16600']\n",
      " ['1000' '40' '365' '2080' '3320' '15600']\n",
      " ['2000' '40' '365' '4601' '4601' '16600']]\n"
     ]
    }
   ],
   "source": [
    "print(lending_data_save)"
   ]
  },
  {
   "cell_type": "code",
   "execution_count": 161,
   "id": "d9367a21",
   "metadata": {},
   "outputs": [
    {
     "data": {
      "text/plain": [
       "True"
      ]
     },
     "execution_count": 161,
     "metadata": {},
     "output_type": "execute_result"
    }
   ],
   "source": [
    "np.array_equal(lending_data_save, lending_co_data)"
   ]
  },
  {
   "cell_type": "markdown",
   "id": "c918bd67",
   "metadata": {},
   "source": [
    "### np.savez()"
   ]
  },
  {
   "cell_type": "code",
   "execution_count": 162,
   "id": "70c7a9f3",
   "metadata": {},
   "outputs": [],
   "source": [
    "lending_co = np.genfromtxt(\"Lending-Company-Numeric-Data.csv\", delimiter=\",\", dtype=\"str\")"
   ]
  },
  {
   "cell_type": "code",
   "execution_count": 163,
   "id": "13058499",
   "metadata": {},
   "outputs": [],
   "source": [
    "np.savez(\"Lending-Company-Saving\", lending_co, lending_data_save)\n",
    "# produce an npz file, is like an archive of NPYs can store multiple arrays\n",
    "# instead of storing different datasets in seperate NPY files, we store all of them in a single NPZ\n"
   ]
  },
  {
   "cell_type": "code",
   "execution_count": 164,
   "id": "8dca30e4",
   "metadata": {},
   "outputs": [],
   "source": [
    "lending_data_savez = np.load('Lending-Company-Saving.npz')"
   ]
  },
  {
   "cell_type": "code",
   "execution_count": 165,
   "id": "ff6aa0f1",
   "metadata": {},
   "outputs": [
    {
     "data": {
      "text/plain": [
       "<numpy.lib.npyio.NpzFile at 0x23355f129d0>"
      ]
     },
     "execution_count": 165,
     "metadata": {},
     "output_type": "execute_result"
    }
   ],
   "source": [
    "lending_data_savez"
   ]
  },
  {
   "cell_type": "code",
   "execution_count": 166,
   "id": "e1ee8674",
   "metadata": {},
   "outputs": [
    {
     "data": {
      "text/plain": [
       "array([['2000', '40', '365', '3121', '4241', '13621'],\n",
       "       ['2000', '40', '365', '3061', '4171', '15041'],\n",
       "       ['1000', '40', '365', '2160', '3280', '15340'],\n",
       "       ...,\n",
       "       ['2000', '40', '365', '4201', '5001', '16600'],\n",
       "       ['1000', '40', '365', '2080', '3320', '15600'],\n",
       "       ['2000', '40', '365', '4601', '4601', '16600']], dtype='<U5')"
      ]
     },
     "execution_count": 166,
     "metadata": {},
     "output_type": "execute_result"
    }
   ],
   "source": [
    "lending_data_savez[\"arr_0\"]"
   ]
  },
  {
   "cell_type": "code",
   "execution_count": 167,
   "id": "7edb20b0",
   "metadata": {},
   "outputs": [
    {
     "data": {
      "text/plain": [
       "array([['2000', '40', '365', '3121', '4241', '13621'],\n",
       "       ['2000', '40', '365', '3061', '4171', '15041'],\n",
       "       ['1000', '40', '365', '2160', '3280', '15340'],\n",
       "       ...,\n",
       "       ['2000', '40', '365', '4201', '5001', '16600'],\n",
       "       ['1000', '40', '365', '2080', '3320', '15600'],\n",
       "       ['2000', '40', '365', '4601', '4601', '16600']], dtype='<U5')"
      ]
     },
     "execution_count": 167,
     "metadata": {},
     "output_type": "execute_result"
    }
   ],
   "source": [
    "lending_data_savez[\"arr_1\"]\n",
    "# by default, the NPZ files stores each dataset as a seperate array with a generic name"
   ]
  },
  {
   "cell_type": "code",
   "execution_count": 168,
   "id": "fd5d49aa",
   "metadata": {},
   "outputs": [],
   "source": [
    "np.savez(\"Lending-Company-Saving\", company = lending_co, data_save = lending_data_save)\n"
   ]
  },
  {
   "cell_type": "code",
   "execution_count": 169,
   "id": "14c90d02",
   "metadata": {},
   "outputs": [],
   "source": [
    "lending_data_savez = np.load(\"Lending-Company-Saving.npz\")"
   ]
  },
  {
   "cell_type": "code",
   "execution_count": 170,
   "id": "a48dca57",
   "metadata": {},
   "outputs": [
    {
     "data": {
      "text/plain": [
       "array([['2000', '40', '365', '3121', '4241', '13621'],\n",
       "       ['2000', '40', '365', '3061', '4171', '15041'],\n",
       "       ['1000', '40', '365', '2160', '3280', '15340'],\n",
       "       ...,\n",
       "       ['2000', '40', '365', '4201', '5001', '16600'],\n",
       "       ['1000', '40', '365', '2080', '3320', '15600'],\n",
       "       ['2000', '40', '365', '4601', '4601', '16600']], dtype='<U5')"
      ]
     },
     "execution_count": 170,
     "metadata": {},
     "output_type": "execute_result"
    }
   ],
   "source": [
    "lending_data_savez[\"company\"]"
   ]
  },
  {
   "cell_type": "code",
   "execution_count": 171,
   "id": "72872117",
   "metadata": {},
   "outputs": [
    {
     "data": {
      "text/plain": [
       "array([['2000', '40', '365', '3121', '4241', '13621'],\n",
       "       ['2000', '40', '365', '3061', '4171', '15041'],\n",
       "       ['1000', '40', '365', '2160', '3280', '15340'],\n",
       "       ...,\n",
       "       ['2000', '40', '365', '4201', '5001', '16600'],\n",
       "       ['1000', '40', '365', '2080', '3320', '15600'],\n",
       "       ['2000', '40', '365', '4601', '4601', '16600']], dtype='<U5')"
      ]
     },
     "execution_count": 171,
     "metadata": {},
     "output_type": "execute_result"
    }
   ],
   "source": [
    "lending_data_savez[\"data_save\"]"
   ]
  },
  {
   "cell_type": "code",
   "execution_count": 172,
   "id": "9da576af",
   "metadata": {},
   "outputs": [
    {
     "data": {
      "text/plain": [
       "['company', 'data_save']"
      ]
     },
     "execution_count": 172,
     "metadata": {},
     "output_type": "execute_result"
    }
   ],
   "source": [
    "lending_data_savez.files"
   ]
  },
  {
   "cell_type": "markdown",
   "id": "7441a5a7",
   "metadata": {},
   "source": [
    "### np.savetxt()"
   ]
  },
  {
   "cell_type": "code",
   "execution_count": 173,
   "id": "1fa74300",
   "metadata": {},
   "outputs": [],
   "source": [
    "lending_co =  np.genfromtxt(\"Lending-Company-Numeric-Data.csv\", delimiter=\",\", dtype=\"str\")"
   ]
  },
  {
   "cell_type": "code",
   "execution_count": 174,
   "id": "e5fce210",
   "metadata": {},
   "outputs": [],
   "source": [
    "np.savetxt(\"Lending-Company-Saving.txt\", lending_co, \n",
    "           fmt=\"%s\", delimiter=\",\")"
   ]
  },
  {
   "cell_type": "code",
   "execution_count": 175,
   "id": "450e14a0",
   "metadata": {},
   "outputs": [],
   "source": [
    "lending_data_savetxt = np.genfromtxt(\"Lending-Company-Saving.txt\", delimiter=\",\", dtype=\"str\")"
   ]
  },
  {
   "cell_type": "code",
   "execution_count": 176,
   "id": "a59cc63b",
   "metadata": {},
   "outputs": [
    {
     "data": {
      "text/plain": [
       "array([['2000', '40', '365', '3121', '4241', '13621'],\n",
       "       ['2000', '40', '365', '3061', '4171', '15041'],\n",
       "       ['1000', '40', '365', '2160', '3280', '15340'],\n",
       "       ...,\n",
       "       ['2000', '40', '365', '4201', '5001', '16600'],\n",
       "       ['1000', '40', '365', '2080', '3320', '15600'],\n",
       "       ['2000', '40', '365', '4601', '4601', '16600']], dtype='<U5')"
      ]
     },
     "execution_count": 176,
     "metadata": {},
     "output_type": "execute_result"
    }
   ],
   "source": [
    "lending_data_savetxt"
   ]
  },
  {
   "cell_type": "markdown",
   "id": "0200cd2b",
   "metadata": {},
   "source": [
    "# Statistics in Numpy\n"
   ]
  },
  {
   "cell_type": "markdown",
   "id": "4927943c",
   "metadata": {},
   "source": [
    "### Using statistics function in Numpy"
   ]
  },
  {
   "cell_type": "markdown",
   "id": "33cf121d",
   "metadata": {},
   "source": [
    "https://numpy.org/doc/stable/reference/routines.statistics.html?highlight=statistics"
   ]
  },
  {
   "cell_type": "code",
   "execution_count": 177,
   "id": "b76863fd",
   "metadata": {},
   "outputs": [],
   "source": [
    "import numpy as np"
   ]
  },
  {
   "cell_type": "markdown",
   "id": "809090b8",
   "metadata": {},
   "source": [
    "### np.mean()"
   ]
  },
  {
   "cell_type": "code",
   "execution_count": 178,
   "id": "c6cacd57",
   "metadata": {},
   "outputs": [
    {
     "data": {
      "text/plain": [
       "array([[1, 0, 0, 3, 1],\n",
       "       [3, 6, 6, 2, 9],\n",
       "       [4, 5, 3, 8, 0]])"
      ]
     },
     "execution_count": 178,
     "metadata": {},
     "output_type": "execute_result"
    }
   ],
   "source": [
    "matrix_A = np.array([[1,0,0,3,1], [3,6,6,2,9], [4,5,3,8,0]])\n",
    "matrix_A"
   ]
  },
  {
   "cell_type": "code",
   "execution_count": 179,
   "id": "acda1565",
   "metadata": {},
   "outputs": [
    {
     "data": {
      "text/plain": [
       "3.4"
      ]
     },
     "execution_count": 179,
     "metadata": {},
     "output_type": "execute_result"
    }
   ],
   "source": [
    "np.mean(matrix_A) # take mean of all values"
   ]
  },
  {
   "cell_type": "code",
   "execution_count": 180,
   "id": "b858aa07",
   "metadata": {},
   "outputs": [
    {
     "data": {
      "text/plain": [
       "1.0"
      ]
     },
     "execution_count": 180,
     "metadata": {},
     "output_type": "execute_result"
    }
   ],
   "source": [
    "np.mean(matrix_A[0]) # take mean of the first row, dtype default=1"
   ]
  },
  {
   "cell_type": "code",
   "execution_count": 181,
   "id": "99317a3b",
   "metadata": {},
   "outputs": [
    {
     "data": {
      "text/plain": [
       "2.6666666666666665"
      ]
     },
     "execution_count": 181,
     "metadata": {},
     "output_type": "execute_result"
    }
   ],
   "source": [
    "np.mean(matrix_A[:, 0])"
   ]
  },
  {
   "cell_type": "code",
   "execution_count": 182,
   "id": "8a92a09b",
   "metadata": {},
   "outputs": [
    {
     "data": {
      "text/plain": [
       "array([2.66666667, 3.66666667, 3.        , 4.33333333, 3.33333333])"
      ]
     },
     "execution_count": 182,
     "metadata": {},
     "output_type": "execute_result"
    }
   ],
   "source": [
    "np.mean(matrix_A, axis=0) # take mean for every col"
   ]
  },
  {
   "cell_type": "code",
   "execution_count": 183,
   "id": "cc0438dd",
   "metadata": {},
   "outputs": [
    {
     "data": {
      "text/plain": [
       "array([1. , 5.2, 4. ])"
      ]
     },
     "execution_count": 183,
     "metadata": {},
     "output_type": "execute_result"
    }
   ],
   "source": [
    "np.mean(matrix_A, axis=1) # take means for every row"
   ]
  },
  {
   "cell_type": "code",
   "execution_count": 184,
   "id": "ecf1b0ff",
   "metadata": {},
   "outputs": [
    {
     "data": {
      "text/plain": [
       "array([1, 5, 4])"
      ]
     },
     "execution_count": 184,
     "metadata": {},
     "output_type": "execute_result"
    }
   ],
   "source": [
    "np.mean(matrix_A, axis=1, dtype=\"int32\")"
   ]
  },
  {
   "cell_type": "markdown",
   "id": "277c944b",
   "metadata": {},
   "source": [
    "### Minimal and Maximal in Numpy"
   ]
  },
  {
   "cell_type": "code",
   "execution_count": 185,
   "id": "6f7366a2",
   "metadata": {},
   "outputs": [],
   "source": [
    "import numpy as np"
   ]
  },
  {
   "cell_type": "code",
   "execution_count": 186,
   "id": "5c111f7b",
   "metadata": {},
   "outputs": [
    {
     "data": {
      "text/plain": [
       "array([[1, 0, 0, 3, 1],\n",
       "       [3, 6, 6, 2, 9],\n",
       "       [4, 5, 3, 8, 0]])"
      ]
     },
     "execution_count": 186,
     "metadata": {},
     "output_type": "execute_result"
    }
   ],
   "source": [
    "matrix_A = np.array([[1,0,0,3,1], [3,6,6,2,9], [4,5,3,8,0]])\n",
    "matrix_A "
   ]
  },
  {
   "cell_type": "code",
   "execution_count": 187,
   "id": "5d80d187",
   "metadata": {},
   "outputs": [
    {
     "data": {
      "text/plain": [
       "0"
      ]
     },
     "execution_count": 187,
     "metadata": {},
     "output_type": "execute_result"
    }
   ],
   "source": [
    "np.min(matrix_A) # the smallest in the entire"
   ]
  },
  {
   "cell_type": "code",
   "execution_count": 188,
   "id": "e9165f87",
   "metadata": {},
   "outputs": [
    {
     "data": {
      "text/plain": [
       "array([1, 0, 0, 2, 0])"
      ]
     },
     "execution_count": 188,
     "metadata": {},
     "output_type": "execute_result"
    }
   ],
   "source": [
    "np.min(matrix_A, axis=0)"
   ]
  },
  {
   "cell_type": "code",
   "execution_count": 189,
   "id": "1768ff2a",
   "metadata": {},
   "outputs": [
    {
     "data": {
      "text/plain": [
       "0"
      ]
     },
     "execution_count": 189,
     "metadata": {},
     "output_type": "execute_result"
    }
   ],
   "source": [
    "np.amin(matrix_A) # amin and min are interchangable"
   ]
  },
  {
   "cell_type": "code",
   "execution_count": 190,
   "id": "bfa54bf3",
   "metadata": {},
   "outputs": [
    {
     "data": {
      "text/plain": [
       "array([1, 0, 0, 3, 0])"
      ]
     },
     "execution_count": 190,
     "metadata": {},
     "output_type": "execute_result"
    }
   ],
   "source": [
    "np.minimum(matrix_A[0], matrix_A[-1]) # takes minimum element wise, compare elements between two rows and select the smaller one"
   ]
  },
  {
   "cell_type": "code",
   "execution_count": 191,
   "id": "cbb71015",
   "metadata": {},
   "outputs": [
    {
     "data": {
      "text/plain": [
       "array([1, 0, 0, 2, 0])"
      ]
     },
     "execution_count": 191,
     "metadata": {},
     "output_type": "execute_result"
    }
   ],
   "source": [
    "np.minimum.reduce(matrix_A) # same as min axis=0, amin axis=0"
   ]
  },
  {
   "cell_type": "markdown",
   "id": "4ea948c6",
   "metadata": {},
   "source": [
    "### Statistical Order Functions in Numpy"
   ]
  },
  {
   "cell_type": "markdown",
   "id": "7465aa99",
   "metadata": {},
   "source": [
    "#### np.ptp() = peak to peak: \n",
    "returns the difference between the highest and the lowest values within an array"
   ]
  },
  {
   "cell_type": "code",
   "execution_count": 192,
   "id": "dd9e0c94",
   "metadata": {},
   "outputs": [
    {
     "data": {
      "text/plain": [
       "array([[1, 0, 0, 3, 1],\n",
       "       [3, 6, 6, 2, 9],\n",
       "       [4, 5, 3, 8, 0]])"
      ]
     },
     "execution_count": 192,
     "metadata": {},
     "output_type": "execute_result"
    }
   ],
   "source": [
    "matrix_A"
   ]
  },
  {
   "cell_type": "code",
   "execution_count": 193,
   "id": "5f120697",
   "metadata": {},
   "outputs": [
    {
     "data": {
      "text/plain": [
       "9"
      ]
     },
     "execution_count": 193,
     "metadata": {},
     "output_type": "execute_result"
    }
   ],
   "source": [
    "np.ptp(matrix_A)"
   ]
  },
  {
   "cell_type": "code",
   "execution_count": 194,
   "id": "aea54362",
   "metadata": {},
   "outputs": [
    {
     "data": {
      "text/plain": [
       "array([3, 6, 6, 6, 9])"
      ]
     },
     "execution_count": 194,
     "metadata": {},
     "output_type": "execute_result"
    }
   ],
   "source": [
    "np.ptp(matrix_A, axis=0)"
   ]
  },
  {
   "cell_type": "code",
   "execution_count": 195,
   "id": "e9f7f2a2",
   "metadata": {},
   "outputs": [
    {
     "data": {
      "text/plain": [
       "array([3, 7, 8])"
      ]
     },
     "execution_count": 195,
     "metadata": {},
     "output_type": "execute_result"
    }
   ],
   "source": [
    "np.ptp(matrix_A, axis=1)"
   ]
  },
  {
   "cell_type": "markdown",
   "id": "c4127b75",
   "metadata": {},
   "source": [
    "##### np.percentile() = percentile: return a specific percentile of a given set\n",
    "The 70 percentile is the value that is greater than the 70% of the data"
   ]
  },
  {
   "cell_type": "code",
   "execution_count": 196,
   "id": "63ca080c",
   "metadata": {},
   "outputs": [
    {
     "data": {
      "text/plain": [
       "array([0, 0, 0, 1, 1, 2, 3, 3, 3, 4, 5, 6, 6, 8, 9])"
      ]
     },
     "execution_count": 196,
     "metadata": {},
     "output_type": "execute_result"
    }
   ],
   "source": [
    "np.sort(matrix_A, axis=None)"
   ]
  },
  {
   "cell_type": "code",
   "execution_count": 197,
   "id": "d8f2f092",
   "metadata": {},
   "outputs": [
    {
     "data": {
      "text/plain": [
       "4.5"
      ]
     },
     "execution_count": 197,
     "metadata": {},
     "output_type": "execute_result"
    }
   ],
   "source": [
    "np.percentile(matrix_A, 70, method=\"midpoint\")"
   ]
  },
  {
   "cell_type": "code",
   "execution_count": 198,
   "id": "e5887bcd",
   "metadata": {},
   "outputs": [
    {
     "data": {
      "text/plain": [
       "4"
      ]
     },
     "execution_count": 198,
     "metadata": {},
     "output_type": "execute_result"
    }
   ],
   "source": [
    "np.percentile(matrix_A, 70, method=\"lower\")"
   ]
  },
  {
   "cell_type": "code",
   "execution_count": 199,
   "id": "a42cf949",
   "metadata": {},
   "outputs": [
    {
     "data": {
      "text/plain": [
       "5"
      ]
     },
     "execution_count": 199,
     "metadata": {},
     "output_type": "execute_result"
    }
   ],
   "source": [
    "np.percentile(matrix_A, 70, method=\"nearest\")"
   ]
  },
  {
   "cell_type": "code",
   "execution_count": 200,
   "id": "c367f7d6",
   "metadata": {},
   "outputs": [
    {
     "data": {
      "text/plain": [
       "3.0"
      ]
     },
     "execution_count": 200,
     "metadata": {},
     "output_type": "execute_result"
    }
   ],
   "source": [
    "np.percentile(matrix_A, 50) # get the median"
   ]
  },
  {
   "cell_type": "code",
   "execution_count": 201,
   "id": "1ad5470f",
   "metadata": {},
   "outputs": [
    {
     "data": {
      "text/plain": [
       "0.0"
      ]
     },
     "execution_count": 201,
     "metadata": {},
     "output_type": "execute_result"
    }
   ],
   "source": [
    "np.percentile(matrix_A, 0) # get the min\n"
   ]
  },
  {
   "cell_type": "code",
   "execution_count": 202,
   "id": "60c52e68",
   "metadata": {},
   "outputs": [
    {
     "data": {
      "text/plain": [
       "9.0"
      ]
     },
     "execution_count": 202,
     "metadata": {},
     "output_type": "execute_result"
    }
   ],
   "source": [
    "np.percentile(matrix_A, 100) # get max"
   ]
  },
  {
   "cell_type": "markdown",
   "id": "19975165",
   "metadata": {},
   "source": [
    "##### np.quantile()\n",
    "70-th percentile = 0.7 quantile"
   ]
  },
  {
   "cell_type": "code",
   "execution_count": 203,
   "id": "e15e3d02",
   "metadata": {},
   "outputs": [
    {
     "data": {
      "text/plain": [
       "4.799999999999999"
      ]
     },
     "execution_count": 203,
     "metadata": {},
     "output_type": "execute_result"
    }
   ],
   "source": [
    "np.quantile(matrix_A, 0.7)"
   ]
  },
  {
   "cell_type": "markdown",
   "id": "d0fb9d88",
   "metadata": {},
   "source": [
    "### Averages and Variance in Numpy"
   ]
  },
  {
   "cell_type": "code",
   "execution_count": 204,
   "id": "ea5c83fe",
   "metadata": {},
   "outputs": [
    {
     "data": {
      "text/plain": [
       "array([[1, 0, 0, 3, 1],\n",
       "       [3, 6, 6, 2, 9],\n",
       "       [4, 5, 3, 8, 0]])"
      ]
     },
     "execution_count": 204,
     "metadata": {},
     "output_type": "execute_result"
    }
   ],
   "source": [
    "matrix_A"
   ]
  },
  {
   "cell_type": "code",
   "execution_count": 205,
   "id": "42250767",
   "metadata": {},
   "outputs": [
    {
     "data": {
      "text/plain": [
       "array([0, 0, 0, 1, 1, 2, 3, 3, 3, 4, 5, 6, 6, 8, 9])"
      ]
     },
     "execution_count": 205,
     "metadata": {},
     "output_type": "execute_result"
    }
   ],
   "source": [
    "np.sort(matrix_A, axis = None)"
   ]
  },
  {
   "cell_type": "code",
   "execution_count": 206,
   "id": "9013d930",
   "metadata": {},
   "outputs": [
    {
     "data": {
      "text/plain": [
       "3.0"
      ]
     },
     "execution_count": 206,
     "metadata": {},
     "output_type": "execute_result"
    }
   ],
   "source": [
    "np.median(matrix_A) # middle value of a sorted dataset\n"
   ]
  },
  {
   "cell_type": "code",
   "execution_count": 207,
   "id": "7cf7e6fc",
   "metadata": {},
   "outputs": [
    {
     "data": {
      "text/plain": [
       "3.4"
      ]
     },
     "execution_count": 207,
     "metadata": {},
     "output_type": "execute_result"
    }
   ],
   "source": [
    "np.mean(matrix_A)"
   ]
  },
  {
   "cell_type": "code",
   "execution_count": 208,
   "id": "3a238d9a",
   "metadata": {},
   "outputs": [
    {
     "data": {
      "text/plain": [
       "3.4"
      ]
     },
     "execution_count": 208,
     "metadata": {},
     "output_type": "execute_result"
    }
   ],
   "source": [
    "np.average(matrix_A) # average can compute weighted average"
   ]
  },
  {
   "cell_type": "code",
   "execution_count": 209,
   "id": "2c16b08f",
   "metadata": {},
   "outputs": [
    {
     "data": {
      "text/plain": [
       "array([[0.75915734, 0.7662218 , 0.6291028 , 0.20336599, 0.66501486],\n",
       "       [0.06559111, 0.71326309, 0.10812106, 0.87969046, 0.49405844],\n",
       "       [0.82472673, 0.45652944, 0.07367232, 0.69628564, 0.36690736]])"
      ]
     },
     "execution_count": 209,
     "metadata": {},
     "output_type": "execute_result"
    }
   ],
   "source": [
    "array_RG = gen(pcg(365))\n",
    "\n",
    "array_weights = array_RG.random(size=(3,5))\n",
    "array_weights"
   ]
  },
  {
   "cell_type": "code",
   "execution_count": 210,
   "id": "6844c60d",
   "metadata": {},
   "outputs": [
    {
     "data": {
      "text/plain": [
       "3.2120290871899306"
      ]
     },
     "execution_count": 210,
     "metadata": {},
     "output_type": "execute_result"
    }
   ],
   "source": [
    "np.average(matrix_A, weights=array_weights)"
   ]
  },
  {
   "cell_type": "code",
   "execution_count": 211,
   "id": "2d11f9dd",
   "metadata": {},
   "outputs": [
    {
     "data": {
      "text/plain": [
       "7.84"
      ]
     },
     "execution_count": 211,
     "metadata": {},
     "output_type": "execute_result"
    }
   ],
   "source": [
    "np.var(matrix_A) # variance"
   ]
  },
  {
   "cell_type": "code",
   "execution_count": 212,
   "id": "b18b0e21",
   "metadata": {},
   "outputs": [
    {
     "data": {
      "text/plain": [
       "2.8"
      ]
     },
     "execution_count": 212,
     "metadata": {},
     "output_type": "execute_result"
    }
   ],
   "source": [
    "np.std(matrix_A) # standard deviation"
   ]
  },
  {
   "cell_type": "markdown",
   "id": "3c000732",
   "metadata": {},
   "source": [
    "## Covariance and correlation"
   ]
  },
  {
   "cell_type": "markdown",
   "id": "ae2cacf7",
   "metadata": {},
   "source": [
    "#### np.cov()"
   ]
  },
  {
   "cell_type": "code",
   "execution_count": 213,
   "id": "ab57fb0e",
   "metadata": {},
   "outputs": [
    {
     "data": {
      "text/plain": [
       "array([[ 1.5, -2. ,  2. ],\n",
       "       [-2. ,  7.7, -7. ],\n",
       "       [ 2. , -7. ,  8.5]])"
      ]
     },
     "execution_count": 213,
     "metadata": {},
     "output_type": "execute_result"
    }
   ],
   "source": [
    "np.cov(matrix_A) # covariance between difference rows"
   ]
  },
  {
   "cell_type": "markdown",
   "id": "4cc8e608",
   "metadata": {},
   "source": [
    "##### np.corrcoef()"
   ]
  },
  {
   "cell_type": "code",
   "execution_count": 214,
   "id": "b202a350",
   "metadata": {},
   "outputs": [
    {
     "data": {
      "text/plain": [
       "array([[ 1.        , -0.58848989,  0.56011203],\n",
       "       [-0.58848989,  1.        , -0.8652532 ],\n",
       "       [ 0.56011203, -0.8652532 ,  1.        ]])"
      ]
     },
     "execution_count": 214,
     "metadata": {},
     "output_type": "execute_result"
    }
   ],
   "source": [
    "np.corrcoef(matrix_A)"
   ]
  },
  {
   "cell_type": "markdown",
   "id": "8937a651",
   "metadata": {},
   "source": [
    "## Histogram in Numpy"
   ]
  },
  {
   "cell_type": "code",
   "execution_count": 215,
   "id": "a5be1d92",
   "metadata": {},
   "outputs": [
    {
     "data": {
      "text/plain": [
       "array([[1, 0, 0, 3, 1],\n",
       "       [3, 6, 6, 2, 9],\n",
       "       [4, 5, 3, 8, 0]])"
      ]
     },
     "execution_count": 215,
     "metadata": {},
     "output_type": "execute_result"
    }
   ],
   "source": [
    "matrix_A # a histogram is a way to examine a dataset by dissecting its density\n",
    "# how many values from a datset fall within some predetermined range\n",
    "# create bins\n",
    "# count how many values fall within the bin"
   ]
  },
  {
   "cell_type": "code",
   "execution_count": 216,
   "id": "3453808e",
   "metadata": {},
   "outputs": [
    {
     "data": {
      "text/plain": [
       "array([0, 0, 0, 1, 1, 2, 3, 3, 3, 4, 5, 6, 6, 8, 9])"
      ]
     },
     "execution_count": 216,
     "metadata": {},
     "output_type": "execute_result"
    }
   ],
   "source": [
    "np.sort(matrix_A, axis=None)"
   ]
  },
  {
   "cell_type": "code",
   "execution_count": 217,
   "id": "4505f733",
   "metadata": {},
   "outputs": [
    {
     "data": {
      "text/plain": [
       "(array([3, 2, 1, 3, 1, 1, 2, 0, 1, 1], dtype=int64),\n",
       " array([0. , 0.9, 1.8, 2.7, 3.6, 4.5, 5.4, 6.3, 7.2, 8.1, 9. ]))"
      ]
     },
     "execution_count": 217,
     "metadata": {},
     "output_type": "execute_result"
    }
   ],
   "source": [
    "np.histogram(matrix_A)\n",
    "# the first returned array represents how many times fall within a bin\n",
    "# [0,0.9], (0.9, 1.8], ..."
   ]
  },
  {
   "cell_type": "code",
   "execution_count": 218,
   "id": "e703657b",
   "metadata": {},
   "outputs": [
    {
     "data": {
      "text/plain": [
       "array([3, 2, 1, 3, 1, 1, 2, 0, 1, 1], dtype=int64)"
      ]
     },
     "execution_count": 218,
     "metadata": {},
     "output_type": "execute_result"
    }
   ],
   "source": [
    "np.histogram(matrix_A)[0]"
   ]
  },
  {
   "cell_type": "code",
   "execution_count": 219,
   "id": "fe63fb58",
   "metadata": {},
   "outputs": [
    {
     "data": {
      "text/plain": [
       "array([0. , 0.9, 1.8, 2.7, 3.6, 4.5, 5.4, 6.3, 7.2, 8.1, 9. ])"
      ]
     },
     "execution_count": 219,
     "metadata": {},
     "output_type": "execute_result"
    }
   ],
   "source": [
    "np.histogram(matrix_A)[1]"
   ]
  },
  {
   "cell_type": "code",
   "execution_count": 220,
   "id": "e253f83f",
   "metadata": {},
   "outputs": [
    {
     "data": {
      "text/plain": [
       "(array([6, 4, 3, 2], dtype=int64), array([0.  , 2.25, 4.5 , 6.75, 9.  ]))"
      ]
     },
     "execution_count": 220,
     "metadata": {},
     "output_type": "execute_result"
    }
   ],
   "source": [
    "np.histogram(matrix_A, bins=4) # specify the number of bins"
   ]
  },
  {
   "cell_type": "code",
   "execution_count": 221,
   "id": "a6d42a69",
   "metadata": {},
   "outputs": [
    {
     "data": {
      "text/plain": [
       "(array([3, 3, 2, 2], dtype=int64), array([1. , 2.5, 4. , 5.5, 7. ]))"
      ]
     },
     "execution_count": 221,
     "metadata": {},
     "output_type": "execute_result"
    }
   ],
   "source": [
    "np.histogram(matrix_A, bins=4, range=(1,7)) # ignore outliers"
   ]
  },
  {
   "cell_type": "code",
   "execution_count": 222,
   "id": "cbf51a92",
   "metadata": {},
   "outputs": [
    {
     "data": {
      "image/png": "[encoded data removed]",
      "text/plain": [
       "<Figure size 432x288 with 1 Axes>"
      ]
     },
     "metadata": {
      "needs_background": "light"
     },
     "output_type": "display_data"
    }
   ],
   "source": [
    "import matplotlib.pyplot as plt\n",
    "plt.hist(matrix_A.flat, bins=np.histogram(matrix_A)[1])\n",
    "plt.show()"
   ]
  },
  {
   "cell_type": "markdown",
   "id": "b2a4a629",
   "metadata": {},
   "source": [
    "### Multi- dimentional histogram\n",
    "* 2-D histograms\n",
    "* X\n",
    "* Y\n",
    "* How the values are spread out across the plain"
   ]
  },
  {
   "cell_type": "code",
   "execution_count": 223,
   "id": "11e7b76d",
   "metadata": {},
   "outputs": [
    {
     "data": {
      "text/plain": [
       "array([[1, 0, 0, 3, 1],\n",
       "       [3, 6, 6, 2, 9],\n",
       "       [4, 5, 3, 8, 0]])"
      ]
     },
     "execution_count": 223,
     "metadata": {},
     "output_type": "execute_result"
    }
   ],
   "source": [
    "matrix_A"
   ]
  },
  {
   "cell_type": "code",
   "execution_count": 224,
   "id": "3b2b9200",
   "metadata": {},
   "outputs": [
    {
     "data": {
      "text/plain": [
       "(array([[0., 0., 2., 0.],\n",
       "        [1., 0., 0., 1.],\n",
       "        [0., 0., 0., 0.],\n",
       "        [1., 0., 0., 0.]]),\n",
       " array([0.  , 0.75, 1.5 , 2.25, 3.  ]),\n",
       " array([2.  , 3.75, 5.5 , 7.25, 9.  ]))"
      ]
     },
     "execution_count": 224,
     "metadata": {},
     "output_type": "execute_result"
    }
   ],
   "source": [
    "np.histogram2d(matrix_A[0], matrix_A[1], bins=4)\n",
    "# the 2D array is the density array\n",
    "# the 1D arrays are the bin edges\n",
    "# bin edges for x coordinates\n",
    "# bin edges for y coordinates\n",
    "# e.g. two in the first bin of the x axis and the third bin of the y axis"
   ]
  },
  {
   "cell_type": "code",
   "execution_count": 225,
   "id": "944e9372",
   "metadata": {},
   "outputs": [
    {
     "data": {
      "text/plain": [
       "(array([[[0., 0., 0., 0.],\n",
       "         [0., 0., 0., 0.],\n",
       "         [0., 1., 1., 0.],\n",
       "         [0., 0., 0., 0.]],\n",
       " \n",
       "        [[0., 0., 1., 0.],\n",
       "         [0., 0., 0., 0.],\n",
       "         [0., 0., 0., 0.],\n",
       "         [1., 0., 0., 0.]],\n",
       " \n",
       "        [[0., 0., 0., 0.],\n",
       "         [0., 0., 0., 0.],\n",
       "         [0., 0., 0., 0.],\n",
       "         [0., 0., 0., 0.]],\n",
       " \n",
       "        [[0., 0., 0., 1.],\n",
       "         [0., 0., 0., 0.],\n",
       "         [0., 0., 0., 0.],\n",
       "         [0., 0., 0., 0.]]]),\n",
       " [array([0.  , 0.75, 1.5 , 2.25, 3.  ]),\n",
       "  array([2.  , 3.75, 5.5 , 7.25, 9.  ]),\n",
       "  array([0., 2., 4., 6., 8.])])"
      ]
     },
     "execution_count": 225,
     "metadata": {},
     "output_type": "execute_result"
    }
   ],
   "source": [
    "np.histogramdd(matrix_A.transpose(), bins=4)"
   ]
  },
  {
   "cell_type": "markdown",
   "id": "08e23775",
   "metadata": {},
   "source": [
    "### NaN-Equivalents\n",
    "* Functions that work on arrays with missing values on them"
   ]
  },
  {
   "cell_type": "code",
   "execution_count": 226,
   "id": "f4e90aef",
   "metadata": {},
   "outputs": [],
   "source": [
    "import numpy as np"
   ]
  },
  {
   "cell_type": "code",
   "execution_count": 227,
   "id": "1ca7a2f4",
   "metadata": {},
   "outputs": [
    {
     "data": {
      "text/plain": [
       "array([[1, 0, 0, 3, 1],\n",
       "       [3, 6, 6, 2, 9],\n",
       "       [4, 5, 3, 8, 0]])"
      ]
     },
     "execution_count": 227,
     "metadata": {},
     "output_type": "execute_result"
    }
   ],
   "source": [
    "matrix_A"
   ]
  },
  {
   "cell_type": "code",
   "execution_count": 228,
   "id": "d6b26dd0",
   "metadata": {},
   "outputs": [
    {
     "data": {
      "text/plain": [
       "3.4"
      ]
     },
     "execution_count": 228,
     "metadata": {},
     "output_type": "execute_result"
    }
   ],
   "source": [
    "np.nanmean(matrix_A)"
   ]
  },
  {
   "cell_type": "code",
   "execution_count": 229,
   "id": "9af0aeb3",
   "metadata": {},
   "outputs": [
    {
     "data": {
      "text/plain": [
       "3.4"
      ]
     },
     "execution_count": 229,
     "metadata": {},
     "output_type": "execute_result"
    }
   ],
   "source": [
    "np.mean(matrix_A)"
   ]
  },
  {
   "cell_type": "code",
   "execution_count": 230,
   "id": "823c78b5",
   "metadata": {},
   "outputs": [
    {
     "data": {
      "text/plain": [
       "array([[ 1.,  0.,  0.,  3.,  1.],\n",
       "       [ 3.,  6., nan,  2.,  9.],\n",
       "       [ 4.,  5.,  3.,  8.,  0.]])"
      ]
     },
     "execution_count": 230,
     "metadata": {},
     "output_type": "execute_result"
    }
   ],
   "source": [
    "matrix_B = np.array([[1,0,0,3,1], [3,6,np.nan,2,9], [4,5,3,8,0]])\n",
    "matrix_B"
   ]
  },
  {
   "cell_type": "code",
   "execution_count": 231,
   "id": "dac879a9",
   "metadata": {},
   "outputs": [
    {
     "data": {
      "text/plain": [
       "3.2142857142857144"
      ]
     },
     "execution_count": 231,
     "metadata": {},
     "output_type": "execute_result"
    }
   ],
   "source": [
    "np.nanmean(matrix_B)"
   ]
  },
  {
   "cell_type": "code",
   "execution_count": 232,
   "id": "aaebb9a5",
   "metadata": {},
   "outputs": [
    {
     "data": {
      "text/plain": [
       "nan"
      ]
     },
     "execution_count": 232,
     "metadata": {},
     "output_type": "execute_result"
    }
   ],
   "source": [
    "np.mean(matrix_B)"
   ]
  },
  {
   "cell_type": "code",
   "execution_count": 233,
   "id": "dd29f27c",
   "metadata": {},
   "outputs": [
    {
     "data": {
      "text/plain": [
       "7.882653061224489"
      ]
     },
     "execution_count": 233,
     "metadata": {},
     "output_type": "execute_result"
    }
   ],
   "source": [
    "np.nanvar(matrix_B)"
   ]
  },
  {
   "cell_type": "markdown",
   "id": "5ee4a67d",
   "metadata": {},
   "source": [
    "# Data manipulation with Numpy"
   ]
  },
  {
   "cell_type": "markdown",
   "id": "c438a144",
   "metadata": {},
   "source": [
    "### Checking for missing values in Ndarrays"
   ]
  },
  {
   "cell_type": "markdown",
   "id": "07be15da",
   "metadata": {},
   "source": [
    "loadtxt() throws an error if input dataset with missing values"
   ]
  },
  {
   "cell_type": "code",
   "execution_count": 234,
   "id": "71e51dd9",
   "metadata": {},
   "outputs": [
    {
     "data": {
      "text/plain": [
       "array([[ 2000.,    40.,   365.,  3121.,  4241., 13621.],\n",
       "       [ 2000.,    40.,   365.,  3061.,  4171., 15041.],\n",
       "       [ 1000.,    40.,   365.,  2160.,  3280., 15340.],\n",
       "       ...,\n",
       "       [ 2000.,    40.,   365.,  4201.,  5001., 16600.],\n",
       "       [ 1000.,    40.,   365.,  2080.,  3320., 15600.],\n",
       "       [ 2000.,    40.,   365.,  4601.,  4601., 16600.]])"
      ]
     },
     "execution_count": 234,
     "metadata": {},
     "output_type": "execute_result"
    }
   ],
   "source": [
    "lending_co_numeric_data = np.loadtxt(\"Lending-Company-Numeric-Data.csv\", delimiter=\",\")\n",
    "lending_co_numeric_data"
   ]
  },
  {
   "cell_type": "markdown",
   "id": "bdf7a27a",
   "metadata": {},
   "source": [
    "np.isnan()"
   ]
  },
  {
   "cell_type": "code",
   "execution_count": 235,
   "id": "139550d8",
   "metadata": {},
   "outputs": [
    {
     "data": {
      "text/plain": [
       "0"
      ]
     },
     "execution_count": 235,
     "metadata": {},
     "output_type": "execute_result"
    }
   ],
   "source": [
    "np.isnan(lending_co_numeric_data).sum()"
   ]
  },
  {
   "cell_type": "code",
   "execution_count": 236,
   "id": "9450a428",
   "metadata": {},
   "outputs": [],
   "source": [
    "lending_co_numeric_data_NAN = np.genfromtxt(\"Lending-Company-Numeric-Data-NAN.csv\", delimiter=\";\")"
   ]
  },
  {
   "cell_type": "code",
   "execution_count": 237,
   "id": "1233e272",
   "metadata": {},
   "outputs": [
    {
     "data": {
      "text/plain": [
       "260"
      ]
     },
     "execution_count": 237,
     "metadata": {},
     "output_type": "execute_result"
    }
   ],
   "source": [
    "np.isnan(lending_co_numeric_data_NAN).sum()"
   ]
  },
  {
   "cell_type": "code",
   "execution_count": 238,
   "id": "aecc69fe",
   "metadata": {},
   "outputs": [],
   "source": [
    "lending_co_numeric_data_NAN = np.genfromtxt(\"Lending-Company-Numeric-Data-NAN.csv\", delimiter=\";\", filling_values=0)\n",
    "# 0 may not be a great idea because it can represent something meaningful in our dataset"
   ]
  },
  {
   "cell_type": "code",
   "execution_count": 239,
   "id": "335d075e",
   "metadata": {},
   "outputs": [
    {
     "data": {
      "text/plain": [
       "0"
      ]
     },
     "execution_count": 239,
     "metadata": {},
     "output_type": "execute_result"
    }
   ],
   "source": [
    "np.isnan(lending_co_numeric_data).sum()"
   ]
  },
  {
   "cell_type": "code",
   "execution_count": 240,
   "id": "0d4a1726",
   "metadata": {},
   "outputs": [],
   "source": [
    "# we can substitute with the values higher than the highest value in the dataset\n",
    "lending_co_numeric_data_NAN = np.genfromtxt(\"Lending-Company-Numeric-Data-NAN.csv\", delimiter=\";\")\n",
    "temporary_fill = np.nanmax(lending_co_numeric_data).round(2)+1"
   ]
  },
  {
   "cell_type": "code",
   "execution_count": 241,
   "id": "297e716f",
   "metadata": {},
   "outputs": [
    {
     "data": {
      "text/plain": [
       "64002.0"
      ]
     },
     "execution_count": 241,
     "metadata": {},
     "output_type": "execute_result"
    }
   ],
   "source": [
    "temporary_fill"
   ]
  },
  {
   "cell_type": "code",
   "execution_count": 242,
   "id": "239ca065",
   "metadata": {},
   "outputs": [],
   "source": [
    "lending_co_numeric_data_NAN = np.genfromtxt(\"Lending-Company-Numeric-Data-NAN.csv\", \n",
    "                                            delimiter=\";\", \n",
    "                                           filling_values=temporary_fill)\n"
   ]
  },
  {
   "cell_type": "code",
   "execution_count": 243,
   "id": "a1ce20b7",
   "metadata": {},
   "outputs": [
    {
     "data": {
      "text/plain": [
       "0"
      ]
     },
     "execution_count": 243,
     "metadata": {},
     "output_type": "execute_result"
    }
   ],
   "source": [
    "np.isnan(lending_co_numeric_data_NAN).sum()"
   ]
  },
  {
   "cell_type": "markdown",
   "id": "6d27ed61",
   "metadata": {},
   "source": [
    "### Substituing Missing values\n",
    "Normally, filling all missing values with the mean. \n",
    "This won't change the overall interpretation of the dataset"
   ]
  },
  {
   "cell_type": "code",
   "execution_count": 244,
   "id": "8b57365b",
   "metadata": {},
   "outputs": [
    {
     "data": {
      "text/plain": [
       "array([[ 2000.,    40.,   365.,  3121.,  4241., 13621.],\n",
       "       [ 2000.,    40.,   365.,  3061.,  4171., 15041.],\n",
       "       [ 1000.,    40.,   365.,  2160.,  3280., 15340.],\n",
       "       ...,\n",
       "       [   nan,    40.,   365.,  4201.,  5001., 16600.],\n",
       "       [ 1000.,    40.,   365.,  2080.,  3320., 15600.],\n",
       "       [ 2000.,    40.,   365.,  4601.,  4601., 16600.]])"
      ]
     },
     "execution_count": 244,
     "metadata": {},
     "output_type": "execute_result"
    }
   ],
   "source": [
    "lending_co_numeric_data_NAN = np.genfromtxt(\"Lending-Company-Numeric-Data-NAN.csv\", delimiter=\";\")\n",
    "lending_co_numeric_data_NAN"
   ]
  },
  {
   "cell_type": "code",
   "execution_count": 245,
   "id": "22eca2f3",
   "metadata": {},
   "outputs": [],
   "source": [
    "temporary_mean = np.nanmean(lending_co_numeric_data_NAN, axis=0).round(2)\n",
    "# takes mean of each col"
   ]
  },
  {
   "cell_type": "code",
   "execution_count": 246,
   "id": "5c851c3a",
   "metadata": {},
   "outputs": [
    {
     "data": {
      "text/plain": [
       "array([ 2250.25,    46.11,   365.  ,  3895.99,  5160.75, 16571.44])"
      ]
     },
     "execution_count": 246,
     "metadata": {},
     "output_type": "execute_result"
    }
   ],
   "source": [
    "temporary_mean\n"
   ]
  },
  {
   "cell_type": "code",
   "execution_count": 247,
   "id": "0afd5170",
   "metadata": {},
   "outputs": [],
   "source": [
    "temporary_fill = np.nanmax(lending_co_numeric_data).round(2)+1\n",
    "lending_co_numeric_data_NAN = np.genfromtxt(\"Lending-Company-Numeric-Data-NAN.csv\", \n",
    "                                            delimiter=\";\", \n",
    "                                           filling_values=temporary_fill)\n"
   ]
  },
  {
   "cell_type": "code",
   "execution_count": 248,
   "id": "90de6d03",
   "metadata": {},
   "outputs": [
    {
     "data": {
      "text/plain": [
       "64002.0"
      ]
     },
     "execution_count": 248,
     "metadata": {},
     "output_type": "execute_result"
    }
   ],
   "source": [
    "temporary_fill\n",
    "# previously, we substitute each nan value with 64002"
   ]
  },
  {
   "cell_type": "code",
   "execution_count": 249,
   "id": "fc9e9b47",
   "metadata": {},
   "outputs": [
    {
     "data": {
      "text/plain": [
       "4263.25"
      ]
     },
     "execution_count": 249,
     "metadata": {},
     "output_type": "execute_result"
    }
   ],
   "source": [
    "np.mean(lending_co_numeric_data_NAN[:, 0]).round(2)\n",
    "# mean of the first col after filling missing values with temporary fill"
   ]
  },
  {
   "cell_type": "code",
   "execution_count": 250,
   "id": "100430f2",
   "metadata": {},
   "outputs": [],
   "source": [
    "# first col: substitue the place has missing value with the mean of the first col\n",
    "lending_co_numeric_data_NAN[:, 0] = np.where(lending_co_numeric_data_NAN[:,0]==temporary_fill,\n",
    "                                            temporary_mean[0],\n",
    "                                            lending_co_numeric_data_NAN[:,0])"
   ]
  },
  {
   "cell_type": "code",
   "execution_count": 251,
   "id": "1bad8c54",
   "metadata": {},
   "outputs": [
    {
     "data": {
      "text/plain": [
       "2250.25"
      ]
     },
     "execution_count": 251,
     "metadata": {},
     "output_type": "execute_result"
    }
   ],
   "source": [
    "np.mean(lending_co_numeric_data_NAN[:, 0]).round(2)"
   ]
  },
  {
   "cell_type": "code",
   "execution_count": 252,
   "id": "2870e1bd",
   "metadata": {},
   "outputs": [],
   "source": [
    "# substitue all col\n",
    "for i in range(lending_co_numeric_data_NAN.shape[1]):\n",
    "    lending_co_numeric_data_NAN[:, i] = np.where(lending_co_numeric_data_NAN[:, i]==temporary_fill,\n",
    "                                                temporary_mean[i], \n",
    "                                                lending_co_numeric_data_NAN[:, i])"
   ]
  },
  {
   "cell_type": "code",
   "execution_count": 253,
   "id": "d46e9c3f",
   "metadata": {},
   "outputs": [
    {
     "data": {
      "text/plain": [
       "array([[ 2000.  ,    40.  ,   365.  ,  3121.  ,  4241.  , 13621.  ],\n",
       "       [ 2000.  ,    40.  ,   365.  ,  3061.  ,  4171.  , 15041.  ],\n",
       "       [ 1000.  ,    40.  ,   365.  ,  2160.  ,  3280.  , 15340.  ],\n",
       "       ...,\n",
       "       [ 2250.25,    40.  ,   365.  ,  4201.  ,  5001.  , 16600.  ],\n",
       "       [ 1000.  ,    40.  ,   365.  ,  2080.  ,  3320.  , 15600.  ],\n",
       "       [ 2000.  ,    40.  ,   365.  ,  4601.  ,  4601.  , 16600.  ]])"
      ]
     },
     "execution_count": 253,
     "metadata": {},
     "output_type": "execute_result"
    }
   ],
   "source": [
    " lending_co_numeric_data_NAN"
   ]
  },
  {
   "cell_type": "markdown",
   "id": "62461ad1",
   "metadata": {},
   "source": [
    "## Reshaping arrays\n",
    "Certain conditions about shapes and sizes need to be met"
   ]
  },
  {
   "cell_type": "code",
   "execution_count": 254,
   "id": "f823ec33",
   "metadata": {},
   "outputs": [
    {
     "data": {
      "text/plain": [
       "array([[ 2000.,    40.,   365.,  3121.,  4241., 13621.],\n",
       "       [ 2000.,    40.,   365.,  3061.,  4171., 15041.],\n",
       "       [ 1000.,    40.,   365.,  2160.,  3280., 15340.],\n",
       "       ...,\n",
       "       [ 2000.,    40.,   365.,  4201.,  5001., 16600.],\n",
       "       [ 1000.,    40.,   365.,  2080.,  3320., 15600.],\n",
       "       [ 2000.,    40.,   365.,  4601.,  4601., 16600.]])"
      ]
     },
     "execution_count": 254,
     "metadata": {},
     "output_type": "execute_result"
    }
   ],
   "source": [
    "lending_co_data_numeric = np.loadtxt(\"Lending-Company-Numeric-Data.csv\", delimiter=\",\")\n",
    "lending_co_data_numeric"
   ]
  },
  {
   "cell_type": "code",
   "execution_count": 255,
   "id": "652fd26b",
   "metadata": {},
   "outputs": [
    {
     "data": {
      "text/plain": [
       "(1043, 6)"
      ]
     },
     "execution_count": 255,
     "metadata": {},
     "output_type": "execute_result"
    }
   ],
   "source": [
    "lending_co_data_numeric.shape"
   ]
  },
  {
   "cell_type": "code",
   "execution_count": 256,
   "id": "4ef4a626",
   "metadata": {},
   "outputs": [
    {
     "data": {
      "text/plain": [
       "array([[ 2000.,    40.,   365., ...,   365.,  1581.,  3041.],\n",
       "       [12277.,  2000.,    40., ...,    50.,   365.,  5350.],\n",
       "       [ 6850., 15150.,  1000., ...,  2000.,    40.,   365.],\n",
       "       [ 3101.,  4351., 16600., ..., 16600.,  2000.,    40.],\n",
       "       [  365.,  3441.,  4661., ...,  8450., 22250.,  2000.],\n",
       "       [   40.,   365.,  3701., ...,  4601.,  4601., 16600.]])"
      ]
     },
     "execution_count": 256,
     "metadata": {},
     "output_type": "execute_result"
    }
   ],
   "source": [
    "np.reshape(lending_co_data_numeric, (6,1043))\n",
    "# it has 6 rows and 1043 cols bue not the sideway flipped version of the original\n",
    "# the first row takes 1043 first values from the flatten array"
   ]
  },
  {
   "cell_type": "code",
   "execution_count": 257,
   "id": "e1962262",
   "metadata": {},
   "outputs": [
    {
     "data": {
      "text/plain": [
       "array([[ 2000.,  2000.,  1000., ...,  2000.,  1000.,  2000.],\n",
       "       [   40.,    40.,    40., ...,    40.,    40.,    40.],\n",
       "       [  365.,   365.,   365., ...,   365.,   365.,   365.],\n",
       "       [ 3121.,  3061.,  2160., ...,  4201.,  2080.,  4601.],\n",
       "       [ 4241.,  4171.,  3280., ...,  5001.,  3320.,  4601.],\n",
       "       [13621., 15041., 15340., ..., 16600., 15600., 16600.]])"
      ]
     },
     "execution_count": 257,
     "metadata": {},
     "output_type": "execute_result"
    }
   ],
   "source": [
    "np.transpose(lending_co_data_numeric)"
   ]
  },
  {
   "cell_type": "code",
   "execution_count": 258,
   "id": "672c4a98",
   "metadata": {},
   "outputs": [
    {
     "data": {
      "text/plain": [
       "array([[[ 2000.,    40.,   365., ...,   365.,  1581.,  3041.],\n",
       "        [12277.,  2000.,    40., ...,    50.,   365.,  5350.],\n",
       "        [ 6850., 15150.,  1000., ...,  2000.,    40.,   365.]],\n",
       "\n",
       "       [[ 3101.,  4351., 16600., ..., 16600.,  2000.,    40.],\n",
       "        [  365.,  3441.,  4661., ...,  8450., 22250.,  2000.],\n",
       "        [   40.,   365.,  3701., ...,  4601.,  4601., 16600.]]])"
      ]
     },
     "execution_count": 258,
     "metadata": {},
     "output_type": "execute_result"
    }
   ],
   "source": [
    "np.reshape(lending_co_data_numeric, (2, 3, 1043))\n",
    "# 3-dimentional arrays: 2 2D arrays: each contain 3rows, and 1043 cols"
   ]
  },
  {
   "cell_type": "code",
   "execution_count": 259,
   "id": "417de37e",
   "metadata": {},
   "outputs": [
    {
     "data": {
      "text/plain": [
       "array([[[ 2000.,    40.,   365., ...,   365.,  1581.,  3041.],\n",
       "        [12277.,  2000.,    40., ...,    50.,   365.,  5350.],\n",
       "        [ 6850., 15150.,  1000., ...,  2000.,    40.,   365.]],\n",
       "\n",
       "       [[ 3101.,  4351., 16600., ..., 16600.,  2000.,    40.],\n",
       "        [  365.,  3441.,  4661., ...,  8450., 22250.,  2000.],\n",
       "        [   40.,   365.,  3701., ...,  4601.,  4601., 16600.]]])"
      ]
     },
     "execution_count": 259,
     "metadata": {},
     "output_type": "execute_result"
    }
   ],
   "source": [
    "lending_co_data_numeric.reshape((2,3,1043))"
   ]
  },
  {
   "cell_type": "markdown",
   "id": "40a14d15",
   "metadata": {},
   "source": [
    "## Removing values from nd array"
   ]
  },
  {
   "cell_type": "code",
   "execution_count": 260,
   "id": "18f953c2",
   "metadata": {},
   "outputs": [
    {
     "data": {
      "text/plain": [
       "array([[ 2000.,    40.,   365.,  3121.,  4241., 13621.],\n",
       "       [ 2000.,    40.,   365.,  3061.,  4171., 15041.],\n",
       "       [ 1000.,    40.,   365.,  2160.,  3280., 15340.],\n",
       "       ...,\n",
       "       [ 2000.,    40.,   365.,  4201.,  5001., 16600.],\n",
       "       [ 1000.,    40.,   365.,  2080.,  3320., 15600.],\n",
       "       [ 2000.,    40.,   365.,  4601.,  4601., 16600.]])"
      ]
     },
     "execution_count": 260,
     "metadata": {},
     "output_type": "execute_result"
    }
   ],
   "source": [
    "lending_co_data_numeric"
   ]
  },
  {
   "cell_type": "code",
   "execution_count": 261,
   "id": "ef1ef127",
   "metadata": {},
   "outputs": [
    {
     "data": {
      "text/plain": [
       "array([   40.,   365.,  3121., ...,  4601.,  4601., 16600.])"
      ]
     },
     "execution_count": 261,
     "metadata": {},
     "output_type": "execute_result"
    }
   ],
   "source": [
    "np.delete(lending_co_data_numeric, 0)\n",
    "# delete the first value of the flatten array"
   ]
  },
  {
   "cell_type": "code",
   "execution_count": 262,
   "id": "f3375c87",
   "metadata": {},
   "outputs": [
    {
     "data": {
      "text/plain": [
       "(6257,)"
      ]
     },
     "execution_count": 262,
     "metadata": {},
     "output_type": "execute_result"
    }
   ],
   "source": [
    "np.delete(lending_co_data_numeric, 0).shape\n"
   ]
  },
  {
   "cell_type": "code",
   "execution_count": 263,
   "id": "fc2c2866",
   "metadata": {},
   "outputs": [
    {
     "data": {
      "text/plain": [
       "6258"
      ]
     },
     "execution_count": 263,
     "metadata": {},
     "output_type": "execute_result"
    }
   ],
   "source": [
    "lending_co_data_numeric.size"
   ]
  },
  {
   "cell_type": "code",
   "execution_count": 264,
   "id": "702b6455",
   "metadata": {},
   "outputs": [
    {
     "data": {
      "text/plain": [
       "array([[ 2000.,    40.,   365.,  3061.,  4171., 15041.],\n",
       "       [ 1000.,    40.,   365.,  2160.,  3280., 15340.],\n",
       "       [ 2000.,    40.,   365.,  3041.,  4241., 15321.],\n",
       "       ...,\n",
       "       [ 2000.,    40.,   365.,  4201.,  5001., 16600.],\n",
       "       [ 1000.,    40.,   365.,  2080.,  3320., 15600.],\n",
       "       [ 2000.,    40.,   365.,  4601.,  4601., 16600.]])"
      ]
     },
     "execution_count": 264,
     "metadata": {},
     "output_type": "execute_result"
    }
   ],
   "source": [
    "np.delete(lending_co_data_numeric, 0, axis=0)\n",
    "# remove the first row of the matrix"
   ]
  },
  {
   "cell_type": "code",
   "execution_count": 265,
   "id": "50bb58a8",
   "metadata": {},
   "outputs": [
    {
     "data": {
      "text/plain": [
       "array([[   40.,  3121., 13621.],\n",
       "       [   40.,  3061., 15041.],\n",
       "       [   40.,  2160., 15340.],\n",
       "       ...,\n",
       "       [   40.,  4201., 16600.],\n",
       "       [   40.,  2080., 15600.],\n",
       "       [   40.,  4601., 16600.]])"
      ]
     },
     "execution_count": 265,
     "metadata": {},
     "output_type": "execute_result"
    }
   ],
   "source": [
    "np.delete(lending_co_data_numeric, (0,2,4), axis=1)\n",
    "# delete the first, third, and fifth col"
   ]
  },
  {
   "cell_type": "markdown",
   "id": "7692f169",
   "metadata": {},
   "source": [
    "### Sorting nd arrays"
   ]
  },
  {
   "cell_type": "code",
   "execution_count": 266,
   "id": "a7d744ef",
   "metadata": {},
   "outputs": [
    {
     "data": {
      "text/plain": [
       "array([[ 2000.,    40.,   365.,  3121.,  4241., 13621.],\n",
       "       [ 2000.,    40.,   365.,  3061.,  4171., 15041.],\n",
       "       [ 1000.,    40.,   365.,  2160.,  3280., 15340.],\n",
       "       ...,\n",
       "       [ 2000.,    40.,   365.,  4201.,  5001., 16600.],\n",
       "       [ 1000.,    40.,   365.,  2080.,  3320., 15600.],\n",
       "       [ 2000.,    40.,   365.,  4601.,  4601., 16600.]])"
      ]
     },
     "execution_count": 266,
     "metadata": {},
     "output_type": "execute_result"
    }
   ],
   "source": [
    "lending_co_data_numeric"
   ]
  },
  {
   "cell_type": "code",
   "execution_count": 267,
   "id": "08db2707",
   "metadata": {},
   "outputs": [
    {
     "data": {
      "text/plain": [
       "array([[   40.,   365.,  2000.,  3121.,  4241., 13621.],\n",
       "       [   40.,   365.,  2000.,  3061.,  4171., 15041.],\n",
       "       [   40.,   365.,  1000.,  2160.,  3280., 15340.],\n",
       "       ...,\n",
       "       [   40.,   365.,  2000.,  4201.,  5001., 16600.],\n",
       "       [   40.,   365.,  1000.,  2080.,  3320., 15600.],\n",
       "       [   40.,   365.,  2000.,  4601.,  4601., 16600.]])"
      ]
     },
     "execution_count": 267,
     "metadata": {},
     "output_type": "execute_result"
    }
   ],
   "source": [
    "np.sort(lending_co_data_numeric) # default is the last axis, the second axis in this case - sort row"
   ]
  },
  {
   "cell_type": "code",
   "execution_count": 268,
   "id": "cc315e9c",
   "metadata": {},
   "outputs": [
    {
     "data": {
      "text/plain": [
       "(1043, 6)"
      ]
     },
     "execution_count": 268,
     "metadata": {},
     "output_type": "execute_result"
    }
   ],
   "source": [
    "lending_co_data_numeric.shape"
   ]
  },
  {
   "cell_type": "code",
   "execution_count": 269,
   "id": "43ed1a51",
   "metadata": {},
   "outputs": [
    {
     "data": {
      "text/plain": [
       "array([[ 1.0000e+03,  3.5000e+01,  3.6500e+02, -2.8700e+03, -2.8700e+03,\n",
       "        -3.5000e+02],\n",
       "       [ 1.0000e+03,  3.5000e+01,  3.6500e+02, -2.5500e+03, -2.1000e+03,\n",
       "         1.5000e+02],\n",
       "       [ 1.0000e+03,  3.5000e+01,  3.6500e+02, -2.4500e+03, -2.0000e+03,\n",
       "         1.1000e+03],\n",
       "       ...,\n",
       "       [ 9.0000e+03,  1.2500e+02,  3.6500e+02,  1.6751e+04,  1.8751e+04,\n",
       "         5.4625e+04],\n",
       "       [ 9.0000e+03,  1.6500e+02,  3.6500e+02,  1.7650e+04,  2.0001e+04,\n",
       "         5.4625e+04],\n",
       "       [ 9.0000e+03,  1.6500e+02,  3.6500e+02,  1.9001e+04,  2.2001e+04,\n",
       "         6.4001e+04]])"
      ]
     },
     "execution_count": 269,
     "metadata": {},
     "output_type": "execute_result"
    }
   ],
   "source": [
    "np.sort(lending_co_data_numeric, axis=0)"
   ]
  },
  {
   "cell_type": "code",
   "execution_count": 270,
   "id": "03aa4994",
   "metadata": {},
   "outputs": [],
   "source": [
    "np.set_printoptions(suppress=True)\n",
    "# to restrict precision and favor  clarity"
   ]
  },
  {
   "cell_type": "code",
   "execution_count": 271,
   "id": "4bdfc8ab",
   "metadata": {},
   "outputs": [
    {
     "data": {
      "text/plain": [
       "array([[ 1000.,    35.,   365., -2870., -2870.,  -350.],\n",
       "       [ 1000.,    35.,   365., -2550., -2100.,   150.],\n",
       "       [ 1000.,    35.,   365., -2450., -2000.,  1100.],\n",
       "       ...,\n",
       "       [ 9000.,   125.,   365., 16751., 18751., 54625.],\n",
       "       [ 9000.,   165.,   365., 17650., 20001., 54625.],\n",
       "       [ 9000.,   165.,   365., 19001., 22001., 64001.]])"
      ]
     },
     "execution_count": 271,
     "metadata": {},
     "output_type": "execute_result"
    }
   ],
   "source": [
    "np.sort(lending_co_data_numeric, axis=0)"
   ]
  },
  {
   "cell_type": "code",
   "execution_count": 272,
   "id": "f94aa6f2",
   "metadata": {},
   "outputs": [
    {
     "data": {
      "text/plain": [
       "array([-2870., -2870., -2550., ..., 54625., 54625., 64001.])"
      ]
     },
     "execution_count": 272,
     "metadata": {},
     "output_type": "execute_result"
    }
   ],
   "source": [
    "np.sort(lending_co_data_numeric, axis=None)"
   ]
  },
  {
   "cell_type": "code",
   "execution_count": 273,
   "id": "7a2ea399",
   "metadata": {},
   "outputs": [
    {
     "data": {
      "text/plain": [
       "array([[   40.,   365.,  2000.,  3121.,  4241., 13621.],\n",
       "       [   40.,   365.,  2000.,  3061.,  4171., 15041.],\n",
       "       [   40.,   365.,  1000.,  2160.,  3280., 15340.],\n",
       "       ...,\n",
       "       [   40.,   365.,  2000.,  4201.,  5001., 16600.],\n",
       "       [   40.,   365.,  1000.,  2080.,  3320., 15600.],\n",
       "       [   40.,   365.,  2000.,  4601.,  4601., 16600.]])"
      ]
     },
     "execution_count": 273,
     "metadata": {},
     "output_type": "execute_result"
    }
   ],
   "source": [
    "np.sort(lending_co_data_numeric)"
   ]
  },
  {
   "cell_type": "code",
   "execution_count": 274,
   "id": "b22786e2",
   "metadata": {},
   "outputs": [
    {
     "data": {
      "text/plain": [
       "array([[13621.,  4241.,  3121.,  2000.,   365.,    40.],\n",
       "       [15041.,  4171.,  3061.,  2000.,   365.,    40.],\n",
       "       [15340.,  3280.,  2160.,  1000.,   365.,    40.],\n",
       "       ...,\n",
       "       [16600.,  5001.,  4201.,  2000.,   365.,    40.],\n",
       "       [15600.,  3320.,  2080.,  1000.,   365.,    40.],\n",
       "       [16600.,  4601.,  4601.,  2000.,   365.,    40.]])"
      ]
     },
     "execution_count": 274,
     "metadata": {},
     "output_type": "execute_result"
    }
   ],
   "source": [
    "-np.sort(-lending_co_data_numeric)"
   ]
  },
  {
   "cell_type": "code",
   "execution_count": 275,
   "id": "dc8ae32e",
   "metadata": {},
   "outputs": [
    {
     "data": {
      "text/plain": [
       "array([-2870., -2550., -2450., ..., 16751., 17650., 19001.])"
      ]
     },
     "execution_count": 275,
     "metadata": {},
     "output_type": "execute_result"
    }
   ],
   "source": [
    "np.sort(lending_co_data_numeric[:, 3])"
   ]
  },
  {
   "cell_type": "code",
   "execution_count": 276,
   "id": "64977def",
   "metadata": {},
   "outputs": [],
   "source": [
    "lending_co_data_numeric[:, 3].sort()\n",
    "# inplace sort"
   ]
  },
  {
   "cell_type": "code",
   "execution_count": 277,
   "id": "1fe6b366",
   "metadata": {},
   "outputs": [
    {
     "data": {
      "text/plain": [
       "array([[ 2000.,    40.,   365., -2870.,  4241., 13621.],\n",
       "       [ 2000.,    40.,   365., -2550.,  4171., 15041.],\n",
       "       [ 1000.,    40.,   365., -2450.,  3280., 15340.],\n",
       "       ...,\n",
       "       [ 2000.,    40.,   365., 16751.,  5001., 16600.],\n",
       "       [ 1000.,    40.,   365., 17650.,  3320., 15600.],\n",
       "       [ 2000.,    40.,   365., 19001.,  4601., 16600.]])"
      ]
     },
     "execution_count": 277,
     "metadata": {},
     "output_type": "execute_result"
    }
   ],
   "source": [
    "lending_co_data_numeric"
   ]
  },
  {
   "cell_type": "markdown",
   "id": "67ae79b9",
   "metadata": {},
   "source": [
    "## argsort"
   ]
  },
  {
   "cell_type": "code",
   "execution_count": 278,
   "id": "c43996ae",
   "metadata": {},
   "outputs": [],
   "source": [
    "lending_co_data_numeric = np.loadtxt(\"Lending-Company-Numeric-Data.csv\", delimiter=\",\")"
   ]
  },
  {
   "cell_type": "code",
   "execution_count": 279,
   "id": "03a4f6d3",
   "metadata": {},
   "outputs": [
    {
     "data": {
      "text/plain": [
       "array([[1, 2, 0, 3, 4, 5],\n",
       "       [1, 2, 0, 3, 4, 5],\n",
       "       [1, 2, 0, 3, 4, 5],\n",
       "       ...,\n",
       "       [1, 2, 0, 3, 4, 5],\n",
       "       [1, 2, 0, 3, 4, 5],\n",
       "       [1, 2, 0, 3, 4, 5]], dtype=int64)"
      ]
     },
     "execution_count": 279,
     "metadata": {},
     "output_type": "execute_result"
    }
   ],
   "source": [
    "lending_co_data_numeric\n",
    "np.argsort(lending_co_data_numeric) # return the indices that would sort the array\n",
    "# e.g. in the first row, the second index is the smallest one and soon"
   ]
  },
  {
   "cell_type": "code",
   "execution_count": 280,
   "id": "e86dac36",
   "metadata": {},
   "outputs": [
    {
     "data": {
      "text/plain": [
       "array([[   40.,   365.,  2000.,  3121.,  4241., 13621.],\n",
       "       [   40.,   365.,  2000.,  3061.,  4171., 15041.],\n",
       "       [   40.,   365.,  1000.,  2160.,  3280., 15340.],\n",
       "       ...,\n",
       "       [   40.,   365.,  2000.,  4201.,  5001., 16600.],\n",
       "       [   40.,   365.,  1000.,  2080.,  3320., 15600.],\n",
       "       [   40.,   365.,  2000.,  4601.,  4601., 16600.]])"
      ]
     },
     "execution_count": 280,
     "metadata": {},
     "output_type": "execute_result"
    }
   ],
   "source": [
    "np.sort(lending_co_data_numeric)"
   ]
  },
  {
   "cell_type": "code",
   "execution_count": 281,
   "id": "da5a7afa",
   "metadata": {},
   "outputs": [
    {
     "data": {
      "text/plain": [
       "array([[ 537,  443,    0,   32,   32,  482],\n",
       "       [ 639,  327,  687,  166,  166,  493],\n",
       "       [ 849,  432,  688,   85,   85,  166],\n",
       "       ...,\n",
       "       [  27,  326,  355,  568, 1019,  568],\n",
       "       [ 277,   27,  357,  718, 1033,  534],\n",
       "       [ 420,  408, 1042,  912,  912,   27]], dtype=int64)"
      ]
     },
     "execution_count": 281,
     "metadata": {},
     "output_type": "execute_result"
    }
   ],
   "source": [
    "np.argsort(lending_co_data_numeric,axis=0)\n",
    "# each column contains the indices that would sort the column"
   ]
  },
  {
   "cell_type": "code",
   "execution_count": 282,
   "id": "619c56f3",
   "metadata": {},
   "outputs": [
    {
     "data": {
      "text/plain": [
       "482"
      ]
     },
     "execution_count": 282,
     "metadata": {},
     "output_type": "execute_result"
    }
   ],
   "source": [
    "lending_co_data_numeric[:, -1].argmin()"
   ]
  },
  {
   "cell_type": "code",
   "execution_count": 283,
   "id": "2e829891",
   "metadata": {},
   "outputs": [
    {
     "data": {
      "text/plain": [
       "array([[ 1000.,    35.,   365., -2870., -2870.,  -350.],\n",
       "       [ 1000.,    35.,   365., -2550., -2100.,   150.],\n",
       "       [ 1000.,    35.,   365., -2450., -2000.,  1100.],\n",
       "       ...,\n",
       "       [ 9000.,   125.,   365., 16751., 18751., 54625.],\n",
       "       [ 9000.,   165.,   365., 17650., 20001., 54625.],\n",
       "       [ 9000.,   165.,   365., 19001., 22001., 64001.]])"
      ]
     },
     "execution_count": 283,
     "metadata": {},
     "output_type": "execute_result"
    }
   ],
   "source": [
    "np.sort(lending_co_data_numeric, axis=0)"
   ]
  },
  {
   "cell_type": "code",
   "execution_count": 284,
   "id": "5fd5b5c2",
   "metadata": {},
   "outputs": [
    {
     "data": {
      "text/plain": [
       "-350.0"
      ]
     },
     "execution_count": 284,
     "metadata": {},
     "output_type": "execute_result"
    }
   ],
   "source": [
    "lending_co_data_numeric[482, -1]"
   ]
  },
  {
   "cell_type": "code",
   "execution_count": 285,
   "id": "419ee7b5",
   "metadata": {},
   "outputs": [
    {
     "data": {
      "text/plain": [
       "array([537, 639, 849, ...,  27, 277, 420], dtype=int64)"
      ]
     },
     "execution_count": 285,
     "metadata": {},
     "output_type": "execute_result"
    }
   ],
   "source": [
    "np.argsort(lending_co_data_numeric[:, 0])\n",
    "# take this order and rearrange the columns"
   ]
  },
  {
   "cell_type": "code",
   "execution_count": 286,
   "id": "77525ac9",
   "metadata": {},
   "outputs": [],
   "source": [
    "lending_co_data_numeric = lending_co_data_numeric[np.argsort(lending_co_data_numeric[:, 0])]"
   ]
  },
  {
   "cell_type": "code",
   "execution_count": 287,
   "id": "4cd5dc64",
   "metadata": {},
   "outputs": [
    {
     "data": {
      "text/plain": [
       "array([[ 1000.,    40.,   365.,  2200.,  3400., 15600.],\n",
       "       [ 1000.,    40.,   365.,  2200.,  3800., 15600.],\n",
       "       [ 1000.,    40.,   365.,  2000.,  3950., 15600.],\n",
       "       ...,\n",
       "       [ 9000.,   165.,   365., 14501., 16846., 64001.],\n",
       "       [ 9000.,   125.,   365., 12001., 15751., 38626.],\n",
       "       [ 9000.,   125.,   365., 12251., 14251., 25626.]])"
      ]
     },
     "execution_count": 287,
     "metadata": {},
     "output_type": "execute_result"
    }
   ],
   "source": [
    "lending_co_data_numeric\n",
    "# sort all rows depends the order of the first column"
   ]
  },
  {
   "cell_type": "code",
   "execution_count": 288,
   "id": "4f01f907",
   "metadata": {},
   "outputs": [
    {
     "data": {
      "text/plain": [
       "array([[   0,   22,    0,  199,  199,  172],\n",
       "       [ 155,   62,  687,   53,   53,  160],\n",
       "       [ 156,   38,  688,  169,  169,   53],\n",
       "       ...,\n",
       "       [1022, 1042,  355, 1024, 1037, 1023],\n",
       "       [1031, 1039,  357,  941, 1029, 1024],\n",
       "       [1042, 1040, 1042, 1027, 1027, 1040]], dtype=int64)"
      ]
     },
     "execution_count": 288,
     "metadata": {},
     "output_type": "execute_result"
    }
   ],
   "source": [
    "lending_co_data_numeric.argsort(axis=0)"
   ]
  },
  {
   "cell_type": "markdown",
   "id": "55891c6e",
   "metadata": {},
   "source": [
    "## Argment Where in Numpy\n",
    "Function that returns coordinates within array is called an argument function"
   ]
  },
  {
   "cell_type": "code",
   "execution_count": 289,
   "id": "878e6f65",
   "metadata": {},
   "outputs": [],
   "source": [
    "lending_co_data_numeric = np.loadtxt(\"Lending-Company-Numeric-Data.csv\", delimiter=\",\")"
   ]
  },
  {
   "cell_type": "code",
   "execution_count": 290,
   "id": "50ac6d9f",
   "metadata": {},
   "outputs": [
    {
     "data": {
      "text/plain": [
       "array([[ 2000.,    40.,   365.,  3121.,  4241., 13621.],\n",
       "       [ 2000.,    40.,   365.,  3061.,  4171., 15041.],\n",
       "       [ 1000.,    40.,   365.,  2160.,  3280., 15340.],\n",
       "       ...,\n",
       "       [ 2000.,    40.,   365.,  4201.,  5001., 16600.],\n",
       "       [ 1000.,    40.,   365.,  2080.,  3320., 15600.],\n",
       "       [ 2000.,    40.,   365.,  4601.,  4601., 16600.]])"
      ]
     },
     "execution_count": 290,
     "metadata": {},
     "output_type": "execute_result"
    }
   ],
   "source": [
    "lending_co_data_numeric"
   ]
  },
  {
   "cell_type": "code",
   "execution_count": 291,
   "id": "8478c808",
   "metadata": {},
   "outputs": [
    {
     "data": {
      "text/plain": [
       "array([[   0,    0],\n",
       "       [   0,    1],\n",
       "       [   0,    2],\n",
       "       ...,\n",
       "       [1042,    3],\n",
       "       [1042,    4],\n",
       "       [1042,    5]], dtype=int64)"
      ]
     },
     "execution_count": 291,
     "metadata": {},
     "output_type": "execute_result"
    }
   ],
   "source": [
    "np.argwhere(lending_co_data_numeric) # by default check if the element is not\n",
    "# go overs the entire nd array and check whether the individual element satisfy the specified condition, \n",
    "# return the indices for all individual elements where the condition is met (first col - row index, and second col - col index)"
   ]
  },
  {
   "cell_type": "code",
   "execution_count": 292,
   "id": "8c80b4cb",
   "metadata": {},
   "outputs": [
    {
     "data": {
      "text/plain": [
       "array([[116,   4],\n",
       "       [430,   3]], dtype=int64)"
      ]
     },
     "execution_count": 292,
     "metadata": {},
     "output_type": "execute_result"
    }
   ],
   "source": [
    "np.argwhere(lending_co_data_numeric==0) "
   ]
  },
  {
   "cell_type": "code",
   "execution_count": 293,
   "id": "dff55767",
   "metadata": {},
   "outputs": [
    {
     "data": {
      "text/plain": [
       "0.0"
      ]
     },
     "execution_count": 293,
     "metadata": {},
     "output_type": "execute_result"
    }
   ],
   "source": [
    "lending_co_data_numeric[116,4]"
   ]
  },
  {
   "cell_type": "code",
   "execution_count": 294,
   "id": "9167472b",
   "metadata": {},
   "outputs": [
    {
     "data": {
      "text/plain": [
       "array([[   0,    0],\n",
       "       [   0,    1],\n",
       "       [   1,    0],\n",
       "       ...,\n",
       "       [1042,    0],\n",
       "       [1042,    1],\n",
       "       [1042,    5]], dtype=int64)"
      ]
     },
     "execution_count": 294,
     "metadata": {},
     "output_type": "execute_result"
    }
   ],
   "source": [
    "np.argwhere(lending_co_data_numeric%2==0) \n",
    "# similar to filtering, however if only need the indices then use argwhere"
   ]
  },
  {
   "cell_type": "code",
   "execution_count": 295,
   "id": "2e34ccc8",
   "metadata": {},
   "outputs": [
    {
     "data": {
      "text/plain": [
       "0"
      ]
     },
     "execution_count": 295,
     "metadata": {},
     "output_type": "execute_result"
    }
   ],
   "source": [
    "np.isnan(lending_co_data_numeric).sum()"
   ]
  },
  {
   "cell_type": "code",
   "execution_count": 296,
   "id": "940a3a79",
   "metadata": {},
   "outputs": [
    {
     "data": {
      "text/plain": [
       "array([[ 2000.,    40.,   365.,  3121.,  4241., 13621.],\n",
       "       [ 2000.,    40.,   365.,  3061.,  4171., 15041.],\n",
       "       [ 1000.,    40.,   365.,  2160.,  3280., 15340.],\n",
       "       ...,\n",
       "       [   nan,    40.,   365.,  4201.,  5001., 16600.],\n",
       "       [ 1000.,    40.,   365.,  2080.,  3320., 15600.],\n",
       "       [ 2000.,    40.,   365.,  4601.,  4601., 16600.]])"
      ]
     },
     "execution_count": 296,
     "metadata": {},
     "output_type": "execute_result"
    }
   ],
   "source": [
    "lending_co_data_numeric_NAN = np.genfromtxt(\"Lending-Company-Numeric-Data-NAN.csv\", delimiter=\";\")\n",
    "lending_co_data_numeric_NAN"
   ]
  },
  {
   "cell_type": "code",
   "execution_count": 297,
   "id": "f9412a36",
   "metadata": {},
   "outputs": [
    {
     "data": {
      "text/plain": [
       "array([[False, False, False, False, False, False],\n",
       "       [False, False, False, False, False, False],\n",
       "       [False, False, False, False, False, False],\n",
       "       ...,\n",
       "       [ True, False, False, False, False, False],\n",
       "       [False, False, False, False, False, False],\n",
       "       [False, False, False, False, False, False]])"
      ]
     },
     "execution_count": 297,
     "metadata": {},
     "output_type": "execute_result"
    }
   ],
   "source": [
    "np.isnan(lending_co_data_numeric_NAN)"
   ]
  },
  {
   "cell_type": "code",
   "execution_count": 298,
   "id": "4422ef47",
   "metadata": {},
   "outputs": [
    {
     "data": {
      "text/plain": [
       "array([[  11,    3],\n",
       "       [  15,    3],\n",
       "       [  27,    3],\n",
       "       [  58,    3],\n",
       "       [  60,    4],\n",
       "       [  85,    4],\n",
       "       [ 117,    5],\n",
       "       [ 152,    1],\n",
       "       [ 152,    2],\n",
       "       [ 152,    4],\n",
       "       [ 172,    1],\n",
       "       [ 175,    1],\n",
       "       [ 175,    2],\n",
       "       [ 176,    3],\n",
       "       [ 177,    4],\n",
       "       [ 178,    5],\n",
       "       [ 211,    3],\n",
       "       [ 229,    0],\n",
       "       [ 230,    1],\n",
       "       [ 237,    1],\n",
       "       [ 247,    3],\n",
       "       [ 251,    5],\n",
       "       [ 252,    4],\n",
       "       [ 258,    1],\n",
       "       [ 260,    3],\n",
       "       [ 262,    4],\n",
       "       [ 271,    5],\n",
       "       [ 272,    4],\n",
       "       [ 284,    2],\n",
       "       [ 284,    3],\n",
       "       [ 297,    1],\n",
       "       [ 297,    2],\n",
       "       [ 300,    3],\n",
       "       [ 315,    3],\n",
       "       [ 315,    5],\n",
       "       [ 327,    4],\n",
       "       [ 336,    4],\n",
       "       [ 343,    0],\n",
       "       [ 344,    2],\n",
       "       [ 346,    2],\n",
       "       [ 363,    3],\n",
       "       [ 375,    3],\n",
       "       [ 377,    2],\n",
       "       [ 398,    5],\n",
       "       [ 416,    4],\n",
       "       [ 428,    0],\n",
       "       [ 432,    1],\n",
       "       [ 433,    3],\n",
       "       [ 434,    2],\n",
       "       [ 440,    3],\n",
       "       [ 441,    1],\n",
       "       [ 446,    2],\n",
       "       [ 455,    1],\n",
       "       [ 456,    2],\n",
       "       [ 458,    2],\n",
       "       [ 461,    3],\n",
       "       [ 467,    4],\n",
       "       [ 468,    0],\n",
       "       [ 469,    3],\n",
       "       [ 470,    0],\n",
       "       [ 481,    1],\n",
       "       [ 482,    3],\n",
       "       [ 484,    4],\n",
       "       [ 489,    0],\n",
       "       [ 493,    5],\n",
       "       [ 499,    0],\n",
       "       [ 504,    3],\n",
       "       [ 506,    1],\n",
       "       [ 517,    4],\n",
       "       [ 518,    0],\n",
       "       [ 521,    2],\n",
       "       [ 530,    5],\n",
       "       [ 532,    3],\n",
       "       [ 534,    5],\n",
       "       [ 547,    3],\n",
       "       [ 549,    5],\n",
       "       [ 553,    5],\n",
       "       [ 554,    5],\n",
       "       [ 559,    3],\n",
       "       [ 566,    0],\n",
       "       [ 566,    1],\n",
       "       [ 566,    2],\n",
       "       [ 567,    0],\n",
       "       [ 567,    1],\n",
       "       [ 567,    2],\n",
       "       [ 581,    1],\n",
       "       [ 581,    2],\n",
       "       [ 582,    1],\n",
       "       [ 582,    2],\n",
       "       [ 583,    1],\n",
       "       [ 583,    2],\n",
       "       [ 593,    3],\n",
       "       [ 594,    3],\n",
       "       [ 595,    3],\n",
       "       [ 596,    3],\n",
       "       [ 609,    4],\n",
       "       [ 609,    5],\n",
       "       [ 610,    4],\n",
       "       [ 610,    5],\n",
       "       [ 611,    4],\n",
       "       [ 611,    5],\n",
       "       [ 612,    4],\n",
       "       [ 612,    5],\n",
       "       [ 623,    2],\n",
       "       [ 623,    3],\n",
       "       [ 624,    2],\n",
       "       [ 624,    3],\n",
       "       [ 625,    2],\n",
       "       [ 625,    3],\n",
       "       [ 626,    2],\n",
       "       [ 626,    3],\n",
       "       [ 627,    2],\n",
       "       [ 627,    3],\n",
       "       [ 636,    0],\n",
       "       [ 637,    0],\n",
       "       [ 637,    4],\n",
       "       [ 637,    5],\n",
       "       [ 638,    0],\n",
       "       [ 638,    4],\n",
       "       [ 638,    5],\n",
       "       [ 639,    4],\n",
       "       [ 639,    5],\n",
       "       [ 640,    4],\n",
       "       [ 640,    5],\n",
       "       [ 641,    4],\n",
       "       [ 641,    5],\n",
       "       [ 653,    1],\n",
       "       [ 653,    2],\n",
       "       [ 653,    3],\n",
       "       [ 653,    4],\n",
       "       [ 654,    1],\n",
       "       [ 654,    2],\n",
       "       [ 654,    3],\n",
       "       [ 654,    4],\n",
       "       [ 655,    1],\n",
       "       [ 655,    2],\n",
       "       [ 655,    3],\n",
       "       [ 655,    4],\n",
       "       [ 685,    2],\n",
       "       [ 686,    0],\n",
       "       [ 701,    4],\n",
       "       [ 704,    2],\n",
       "       [ 724,    1],\n",
       "       [ 724,    2],\n",
       "       [ 730,    1],\n",
       "       [ 730,    2],\n",
       "       [ 730,    3],\n",
       "       [ 731,    1],\n",
       "       [ 731,    2],\n",
       "       [ 731,    3],\n",
       "       [ 732,    1],\n",
       "       [ 732,    2],\n",
       "       [ 732,    3],\n",
       "       [ 733,    1],\n",
       "       [ 733,    2],\n",
       "       [ 733,    3],\n",
       "       [ 742,    4],\n",
       "       [ 747,    3],\n",
       "       [ 755,    1],\n",
       "       [ 758,    1],\n",
       "       [ 760,    1],\n",
       "       [ 764,    0],\n",
       "       [ 764,    1],\n",
       "       [ 764,    2],\n",
       "       [ 764,    3],\n",
       "       [ 764,    4],\n",
       "       [ 764,    5],\n",
       "       [ 765,    3],\n",
       "       [ 775,    1],\n",
       "       [ 775,    2],\n",
       "       [ 775,    3],\n",
       "       [ 776,    1],\n",
       "       [ 776,    2],\n",
       "       [ 776,    3],\n",
       "       [ 777,    1],\n",
       "       [ 777,    2],\n",
       "       [ 777,    3],\n",
       "       [ 778,    1],\n",
       "       [ 778,    2],\n",
       "       [ 778,    3],\n",
       "       [ 787,    4],\n",
       "       [ 788,    1],\n",
       "       [ 790,    2],\n",
       "       [ 794,    3],\n",
       "       [ 795,    5],\n",
       "       [ 796,    1],\n",
       "       [ 796,    4],\n",
       "       [ 800,    0],\n",
       "       [ 801,    1],\n",
       "       [ 802,    1],\n",
       "       [ 803,    2],\n",
       "       [ 805,    0],\n",
       "       [ 809,    0],\n",
       "       [ 810,    0],\n",
       "       [ 811,    0],\n",
       "       [ 812,    1],\n",
       "       [ 820,    0],\n",
       "       [ 820,    3],\n",
       "       [ 820,    4],\n",
       "       [ 822,    2],\n",
       "       [ 823,    2],\n",
       "       [ 825,    0],\n",
       "       [ 830,    1],\n",
       "       [ 830,    2],\n",
       "       [ 836,    3],\n",
       "       [ 837,    3],\n",
       "       [ 838,    3],\n",
       "       [ 839,    4],\n",
       "       [ 843,    2],\n",
       "       [ 856,    0],\n",
       "       [ 856,    1],\n",
       "       [ 856,    3],\n",
       "       [ 856,    4],\n",
       "       [ 856,    5],\n",
       "       [ 857,    0],\n",
       "       [ 858,    1],\n",
       "       [ 870,    0],\n",
       "       [ 870,    2],\n",
       "       [ 870,    3],\n",
       "       [ 872,    0],\n",
       "       [ 873,    0],\n",
       "       [ 874,    1],\n",
       "       [ 890,    1],\n",
       "       [ 890,    2],\n",
       "       [ 890,    3],\n",
       "       [ 909,    1],\n",
       "       [ 910,    0],\n",
       "       [ 912,    0],\n",
       "       [ 912,    2],\n",
       "       [ 912,    3],\n",
       "       [ 912,    4],\n",
       "       [ 928,    1],\n",
       "       [ 928,    2],\n",
       "       [ 928,    3],\n",
       "       [ 929,    1],\n",
       "       [ 929,    2],\n",
       "       [ 929,    3],\n",
       "       [ 930,    3],\n",
       "       [ 958,    2],\n",
       "       [ 959,    3],\n",
       "       [ 960,    3],\n",
       "       [1024,    0],\n",
       "       [1024,    2],\n",
       "       [1026,    2],\n",
       "       [1026,    4],\n",
       "       [1028,    0],\n",
       "       [1028,    3],\n",
       "       [1028,    4],\n",
       "       [1029,    0],\n",
       "       [1030,    1],\n",
       "       [1030,    5],\n",
       "       [1032,    0],\n",
       "       [1032,    5],\n",
       "       [1034,    3],\n",
       "       [1035,    4],\n",
       "       [1036,    2],\n",
       "       [1037,    1],\n",
       "       [1038,    4],\n",
       "       [1039,    3],\n",
       "       [1040,    0]], dtype=int64)"
      ]
     },
     "execution_count": 298,
     "metadata": {},
     "output_type": "execute_result"
    }
   ],
   "source": [
    "np.argwhere(np.isnan(lending_co_data_numeric_NAN))"
   ]
  },
  {
   "cell_type": "code",
   "execution_count": 299,
   "id": "1934e023",
   "metadata": {},
   "outputs": [
    {
     "data": {
      "text/plain": [
       "array([ 9000.,    nan,    nan, 12251.,    nan, 34514.])"
      ]
     },
     "execution_count": 299,
     "metadata": {},
     "output_type": "execute_result"
    }
   ],
   "source": [
    "lending_co_data_numeric_NAN[152]"
   ]
  },
  {
   "cell_type": "code",
   "execution_count": 300,
   "id": "4e458063",
   "metadata": {},
   "outputs": [],
   "source": [
    "for array_index in np.argwhere(np.isnan(lending_co_data_numeric_NAN)):\n",
    "    lending_co_data_numeric_NAN[array_index[0], array_index[1]] = 0"
   ]
  },
  {
   "cell_type": "code",
   "execution_count": 301,
   "id": "5679ab01",
   "metadata": {},
   "outputs": [
    {
     "data": {
      "text/plain": [
       "array([ 9000.,     0.,     0., 12251.,     0., 34514.])"
      ]
     },
     "execution_count": 301,
     "metadata": {},
     "output_type": "execute_result"
    }
   ],
   "source": [
    "lending_co_data_numeric_NAN[152]"
   ]
  },
  {
   "cell_type": "markdown",
   "id": "e1b36b65",
   "metadata": {},
   "source": [
    "### Shuffling ndarrays"
   ]
  },
  {
   "cell_type": "code",
   "execution_count": 302,
   "id": "fec5469d",
   "metadata": {},
   "outputs": [],
   "source": [
    "lending_co_data_numeric= np.loadtxt(\"Lending-Company-Numeric-Data.csv\", delimiter=\",\")[:8]"
   ]
  },
  {
   "cell_type": "code",
   "execution_count": 303,
   "id": "f24b558b",
   "metadata": {},
   "outputs": [
    {
     "data": {
      "text/plain": [
       "array([[ 2000.,    40.,   365.,  3121.,  4241., 13621.],\n",
       "       [ 2000.,    40.,   365.,  3061.,  4171., 15041.],\n",
       "       [ 1000.,    40.,   365.,  2160.,  3280., 15340.],\n",
       "       [ 2000.,    40.,   365.,  3041.,  4241., 15321.],\n",
       "       [ 2000.,    50.,   365.,  3470.,  4820., 13720.],\n",
       "       [ 2000.,    40.,   365.,  3201.,  4141., 14141.],\n",
       "       [ 2000.,    50.,   365.,  1851.,  3251., 17701.],\n",
       "       [ 2000.,    40.,   365.,  3971.,  4131., 15351.]])"
      ]
     },
     "execution_count": 303,
     "metadata": {},
     "output_type": "execute_result"
    }
   ],
   "source": [
    "lending_co_data_numeric"
   ]
  },
  {
   "cell_type": "code",
   "execution_count": 304,
   "id": "84922ef8",
   "metadata": {},
   "outputs": [],
   "source": [
    "np.random.shuffle(lending_co_data_numeric)"
   ]
  },
  {
   "cell_type": "code",
   "execution_count": 305,
   "id": "a37353fa",
   "metadata": {},
   "outputs": [
    {
     "data": {
      "text/plain": [
       "array([[ 2000.,    50.,   365.,  1851.,  3251., 17701.],\n",
       "       [ 2000.,    40.,   365.,  3201.,  4141., 14141.],\n",
       "       [ 1000.,    40.,   365.,  2160.,  3280., 15340.],\n",
       "       [ 2000.,    50.,   365.,  3470.,  4820., 13720.],\n",
       "       [ 2000.,    40.,   365.,  3061.,  4171., 15041.],\n",
       "       [ 2000.,    40.,   365.,  3971.,  4131., 15351.],\n",
       "       [ 2000.,    40.,   365.,  3121.,  4241., 13621.],\n",
       "       [ 2000.,    40.,   365.,  3041.,  4241., 15321.]])"
      ]
     },
     "execution_count": 305,
     "metadata": {},
     "output_type": "execute_result"
    }
   ],
   "source": [
    "lending_co_data_numeric"
   ]
  },
  {
   "cell_type": "code",
   "execution_count": 306,
   "id": "16fdc547",
   "metadata": {},
   "outputs": [],
   "source": [
    "lending_co_data_numeric = np.loadtxt(\"Lending-Company-Numeric-Data.csv\", delimiter=\",\")"
   ]
  },
  {
   "cell_type": "code",
   "execution_count": 307,
   "id": "8564572e",
   "metadata": {},
   "outputs": [
    {
     "data": {
      "text/plain": [
       "array([[ 2000.,    50.,   365.,  3090.,  4190., 10790.],\n",
       "       [ 1000.,    40.,   365.,  3430.,  3430., 15600.],\n",
       "       [ 2000.,    40.,   365.,  3201.,  3201.,  9151.],\n",
       "       ...,\n",
       "       [ 2000.,    40.,   365.,  3681.,  6081., 16241.],\n",
       "       [ 1000.,    40.,   365.,  2080.,  3280., 12560.],\n",
       "       [ 2000.,    40.,   365.,  3920.,  4920., 16600.]])"
      ]
     },
     "execution_count": 307,
     "metadata": {},
     "output_type": "execute_result"
    }
   ],
   "source": [
    "from numpy.random import shuffle\n",
    "shuffle(lending_co_data_numeric)\n",
    "lending_co_data_numeric"
   ]
  },
  {
   "cell_type": "code",
   "execution_count": 308,
   "id": "c34f39fc",
   "metadata": {},
   "outputs": [],
   "source": [
    "from numpy.random import Generator as gen\n",
    "from numpy.random import PCG64 as pcg"
   ]
  },
  {
   "cell_type": "code",
   "execution_count": 309,
   "id": "22d340f1",
   "metadata": {},
   "outputs": [
    {
     "data": {
      "text/plain": [
       "array([[ 2000.,    40.,   365.,  3280.,  4480., 13520.],\n",
       "       [ 1000.,    40.,   365.,  3400.,  4600., 15600.],\n",
       "       [ 4000.,    50.,   365.,  5400.,  6800., 18550.],\n",
       "       ...,\n",
       "       [ 2000.,    50.,   365.,  6400.,  7900., 20250.],\n",
       "       [ 2000.,    40.,   365.,  6681.,  6681., 15491.],\n",
       "       [ 2000.,    40.,   365.,  3161.,  4301., 13181.]])"
      ]
     },
     "execution_count": 309,
     "metadata": {},
     "output_type": "execute_result"
    }
   ],
   "source": [
    "# shuffle prevails against the seed\n",
    "array_RG = gen(pcg())\n",
    "array_RG.shuffle(lending_co_data_numeric)\n",
    "lending_co_data_numeric"
   ]
  },
  {
   "cell_type": "markdown",
   "id": "e072c2ec",
   "metadata": {},
   "source": [
    "### Casting ndarrays"
   ]
  },
  {
   "cell_type": "code",
   "execution_count": 310,
   "id": "49528ec5",
   "metadata": {},
   "outputs": [
    {
     "data": {
      "text/plain": [
       "array([[ 2000.,    40.,   365.,  3121.,  4241., 13621.],\n",
       "       [ 2000.,    40.,   365.,  3061.,  4171., 15041.],\n",
       "       [ 1000.,    40.,   365.,  2160.,  3280., 15340.],\n",
       "       ...,\n",
       "       [ 2000.,    40.,   365.,  4201.,  5001., 16600.],\n",
       "       [ 1000.,    40.,   365.,  2080.,  3320., 15600.],\n",
       "       [ 2000.,    40.,   365.,  4601.,  4601., 16600.]])"
      ]
     },
     "execution_count": 310,
     "metadata": {},
     "output_type": "execute_result"
    }
   ],
   "source": [
    "lending_co_data_numeric = np.loadtxt(\"Lending-Company-Numeric-Data.csv\", delimiter=\",\")\n",
    "lending_co_data_numeric "
   ]
  },
  {
   "cell_type": "code",
   "execution_count": 311,
   "id": "b27fd360",
   "metadata": {},
   "outputs": [
    {
     "data": {
      "text/plain": [
       "array([[ 2000,    40,   365,  3121,  4241, 13621],\n",
       "       [ 2000,    40,   365,  3061,  4171, 15041],\n",
       "       [ 1000,    40,   365,  2160,  3280, 15340],\n",
       "       ...,\n",
       "       [ 2000,    40,   365,  4201,  5001, 16600],\n",
       "       [ 1000,    40,   365,  2080,  3320, 15600],\n",
       "       [ 2000,    40,   365,  4601,  4601, 16600]])"
      ]
     },
     "execution_count": 311,
     "metadata": {},
     "output_type": "execute_result"
    }
   ],
   "source": [
    "lending_co_data_numeric.astype(\"int32\")"
   ]
  },
  {
   "cell_type": "code",
   "execution_count": 312,
   "id": "c1d0b09d",
   "metadata": {},
   "outputs": [
    {
     "data": {
      "text/plain": [
       "array([['2000.0', '40.0', '365.0', '3121.0', '4241.0', '13621.0'],\n",
       "       ['2000.0', '40.0', '365.0', '3061.0', '4171.0', '15041.0'],\n",
       "       ['1000.0', '40.0', '365.0', '2160.0', '3280.0', '15340.0'],\n",
       "       ...,\n",
       "       ['2000.0', '40.0', '365.0', '4201.0', '5001.0', '16600.0'],\n",
       "       ['1000.0', '40.0', '365.0', '2080.0', '3320.0', '15600.0'],\n",
       "       ['2000.0', '40.0', '365.0', '4601.0', '4601.0', '16600.0']],\n",
       "      dtype='<U32')"
      ]
     },
     "execution_count": 312,
     "metadata": {},
     "output_type": "execute_result"
    }
   ],
   "source": [
    "lending_co_data_numeric.astype(\"str\")"
   ]
  },
  {
   "cell_type": "code",
   "execution_count": 313,
   "id": "f17f96ae",
   "metadata": {},
   "outputs": [
    {
     "data": {
      "text/plain": [
       "array([[ 2000.,    40.,   365.,  3121.,  4241., 13621.],\n",
       "       [ 2000.,    40.,   365.,  3061.,  4171., 15041.],\n",
       "       [ 1000.,    40.,   365.,  2160.,  3280., 15340.],\n",
       "       ...,\n",
       "       [ 2000.,    40.,   365.,  4201.,  5001., 16600.],\n",
       "       [ 1000.,    40.,   365.,  2080.,  3320., 15600.],\n",
       "       [ 2000.,    40.,   365.,  4601.,  4601., 16600.]])"
      ]
     },
     "execution_count": 313,
     "metadata": {},
     "output_type": "execute_result"
    }
   ],
   "source": [
    "lending_co_data_numeric.astype(\"float\")"
   ]
  },
  {
   "cell_type": "code",
   "execution_count": 314,
   "id": "87a68c8e",
   "metadata": {},
   "outputs": [
    {
     "data": {
      "text/plain": [
       "array([[ 2000,    40,   365,  3121,  4241, 13621],\n",
       "       [ 2000,    40,   365,  3061,  4171, 15041],\n",
       "       [ 1000,    40,   365,  2160,  3280, 15340],\n",
       "       ...,\n",
       "       [ 2000,    40,   365,  4201,  5001, 16600],\n",
       "       [ 1000,    40,   365,  2080,  3320, 15600],\n",
       "       [ 2000,    40,   365,  4601,  4601, 16600]])"
      ]
     },
     "execution_count": 314,
     "metadata": {},
     "output_type": "execute_result"
    }
   ],
   "source": [
    "lending_co_data_numeric.astype(\"int\")"
   ]
  },
  {
   "cell_type": "markdown",
   "id": "96f8b48b",
   "metadata": {},
   "source": [
    "### Striping values"
   ]
  },
  {
   "cell_type": "code",
   "execution_count": 315,
   "id": "479fbbe5",
   "metadata": {},
   "outputs": [],
   "source": [
    "lending_co_total_price = np.genfromtxt('Lending-Company-Total-Price.csv', \n",
    "                                       delimiter=',',\n",
    "                                      dtype=\"str\",\n",
    "                                      skip_header=1,\n",
    "                                      usecols=(1,2,4))"
   ]
  },
  {
   "cell_type": "code",
   "execution_count": 316,
   "id": "2a2a8adf",
   "metadata": {},
   "outputs": [
    {
     "data": {
      "text/plain": [
       "array([['id_1', 'Product B', 'Location 2'],\n",
       "       ['id_2', 'Product B', 'Location 3'],\n",
       "       ['id_3', 'Product C', 'Location 5'],\n",
       "       ...,\n",
       "       ['id_413', 'Product B', 'Location 135'],\n",
       "       ['id_414', 'Product C', 'Location 200'],\n",
       "       ['id_415', 'Product A', 'Location 8']], dtype='<U12')"
      ]
     },
     "execution_count": 316,
     "metadata": {},
     "output_type": "execute_result"
    }
   ],
   "source": [
    "lending_co_total_price"
   ]
  },
  {
   "cell_type": "code",
   "execution_count": 317,
   "id": "43cb8f34",
   "metadata": {},
   "outputs": [],
   "source": [
    "lending_co_total_price[:, 0] = np.chararray.strip(lending_co_total_price[:, 0], \"id_\")"
   ]
  },
  {
   "cell_type": "code",
   "execution_count": 318,
   "id": "aaa91694",
   "metadata": {},
   "outputs": [
    {
     "data": {
      "text/plain": [
       "array([['1', 'Product B', 'Location 2'],\n",
       "       ['2', 'Product B', 'Location 3'],\n",
       "       ['3', 'Product C', 'Location 5'],\n",
       "       ...,\n",
       "       ['413', 'Product B', 'Location 135'],\n",
       "       ['414', 'Product C', 'Location 200'],\n",
       "       ['415', 'Product A', 'Location 8']], dtype='<U12')"
      ]
     },
     "execution_count": 318,
     "metadata": {},
     "output_type": "execute_result"
    }
   ],
   "source": [
    "lending_co_total_price"
   ]
  },
  {
   "cell_type": "code",
   "execution_count": 319,
   "id": "453ece1e",
   "metadata": {},
   "outputs": [
    {
     "data": {
      "text/plain": [
       "array([['1', 'B', 'B'],\n",
       "       ['2', 'B', 'B'],\n",
       "       ['3', 'C', 'C'],\n",
       "       ...,\n",
       "       ['413', 'B', 'B'],\n",
       "       ['414', 'C', 'C'],\n",
       "       ['415', 'A', 'A']], dtype='<U12')"
      ]
     },
     "execution_count": 319,
     "metadata": {},
     "output_type": "execute_result"
    }
   ],
   "source": [
    "lending_co_total_price[:, 1] = np.chararray.strip(lending_co_total_price[:, 1], \"Product \")\n",
    "lending_co_total_price[:, 2] = np.chararray.strip(lending_co_total_price[:, 1], \"Location \")\n",
    "lending_co_total_price"
   ]
  },
  {
   "cell_type": "markdown",
   "id": "a59503fe",
   "metadata": {},
   "source": [
    "### Concatnating ndarrays\n",
    "The inputs and output of concatnate function always has the same dimensions"
   ]
  },
  {
   "cell_type": "code",
   "execution_count": 320,
   "id": "8dcfaabb",
   "metadata": {},
   "outputs": [
    {
     "data": {
      "text/plain": [
       "array([[ 2000.,    40.,   365.,  3121.,  4241., 13621.],\n",
       "       [ 2000.,    40.,   365.,  3061.,  4171., 15041.],\n",
       "       [ 1000.,    40.,   365.,  2160.,  3280., 15340.],\n",
       "       ...,\n",
       "       [ 2000.,    40.,   365.,  4201.,  5001., 16600.],\n",
       "       [ 1000.,    40.,   365.,  2080.,  3320., 15600.],\n",
       "       [ 2000.,    40.,   365.,  4601.,  4601., 16600.]])"
      ]
     },
     "execution_count": 320,
     "metadata": {},
     "output_type": "execute_result"
    }
   ],
   "source": [
    "lending_co_data_numeric = np.loadtxt(\"Lending-Company-Numeric-Data.csv\", delimiter=\",\")\n",
    "lending_co_data_numeric"
   ]
  },
  {
   "cell_type": "code",
   "execution_count": 321,
   "id": "3f3d5d9f",
   "metadata": {},
   "outputs": [
    {
     "data": {
      "text/plain": [
       "array([ 2000.,    40.,   365.,  3121.,  4241., 13621.,  2000.,    40.,\n",
       "         365.,  3061.,  4171., 15041.])"
      ]
     },
     "execution_count": 321,
     "metadata": {},
     "output_type": "execute_result"
    }
   ],
   "source": [
    "np.concatenate((lending_co_data_numeric[0, :], lending_co_data_numeric[1, :]))"
   ]
  },
  {
   "cell_type": "code",
   "execution_count": 322,
   "id": "7b587b3f",
   "metadata": {},
   "outputs": [
    {
     "data": {
      "text/plain": [
       "array([[ 2000.,    40.,   365.,  3121.,  4241., 13621.],\n",
       "       [ 2000.,    40.,   365.,  3061.,  4171., 15041.],\n",
       "       [ 1000.,    40.,   365.,  2160.,  3280., 15340.],\n",
       "       ...,\n",
       "       [    0.,    40.,   365.,  4201.,  5001., 16600.],\n",
       "       [ 1000.,    40.,   365.,  2080.,  3320., 15600.],\n",
       "       [ 2000.,    40.,   365.,  4601.,  4601., 16600.]])"
      ]
     },
     "execution_count": 322,
     "metadata": {},
     "output_type": "execute_result"
    }
   ],
   "source": [
    "lending_co_data_numeric_NAN"
   ]
  },
  {
   "cell_type": "code",
   "execution_count": 323,
   "id": "9060bd24",
   "metadata": {},
   "outputs": [
    {
     "data": {
      "text/plain": [
       "array([[ 2000.,    40.,   365.,  3121.,  4241., 13621.],\n",
       "       [ 2000.,    40.,   365.,  3061.,  4171., 15041.],\n",
       "       [ 1000.,    40.,   365.,  2160.,  3280., 15340.],\n",
       "       ...,\n",
       "       [    0.,    40.,   365.,  4201.,  5001., 16600.],\n",
       "       [ 1000.,    40.,   365.,  2080.,  3320., 15600.],\n",
       "       [ 2000.,    40.,   365.,  4601.,  4601., 16600.]])"
      ]
     },
     "execution_count": 323,
     "metadata": {},
     "output_type": "execute_result"
    }
   ],
   "source": [
    "# we have concatnated the second dataset at the bottom of the first\n",
    "np.concatenate((lending_co_data_numeric, lending_co_data_numeric_NAN))"
   ]
  },
  {
   "cell_type": "code",
   "execution_count": 324,
   "id": "eafa6aca",
   "metadata": {},
   "outputs": [
    {
     "data": {
      "text/plain": [
       "(2086, 6)"
      ]
     },
     "execution_count": 324,
     "metadata": {},
     "output_type": "execute_result"
    }
   ],
   "source": [
    "np.concatenate((lending_co_data_numeric, lending_co_data_numeric_NAN)).shape"
   ]
  },
  {
   "cell_type": "code",
   "execution_count": 325,
   "id": "32473a03",
   "metadata": {},
   "outputs": [
    {
     "data": {
      "text/plain": [
       "array([[ 2000.,    40.,   365., ...,  3121.,  4241., 13621.],\n",
       "       [ 2000.,    40.,   365., ...,  3061.,  4171., 15041.],\n",
       "       [ 1000.,    40.,   365., ...,  2160.,  3280., 15340.],\n",
       "       ...,\n",
       "       [ 2000.,    40.,   365., ...,  4201.,  5001., 16600.],\n",
       "       [ 1000.,    40.,   365., ...,  2080.,  3320., 15600.],\n",
       "       [ 2000.,    40.,   365., ...,  4601.,  4601., 16600.]])"
      ]
     },
     "execution_count": 325,
     "metadata": {},
     "output_type": "execute_result"
    }
   ],
   "source": [
    "np.concatenate((lending_co_data_numeric, lending_co_data_numeric_NAN), axis=1)"
   ]
  },
  {
   "cell_type": "code",
   "execution_count": 326,
   "id": "22682df8",
   "metadata": {},
   "outputs": [
    {
     "data": {
      "text/plain": [
       "(1043, 12)"
      ]
     },
     "execution_count": 326,
     "metadata": {},
     "output_type": "execute_result"
    }
   ],
   "source": [
    "np.concatenate((lending_co_data_numeric, lending_co_data_numeric_NAN), axis=1).shape"
   ]
  },
  {
   "cell_type": "code",
   "execution_count": 327,
   "id": "b92a038d",
   "metadata": {},
   "outputs": [
    {
     "data": {
      "text/plain": [
       "array([[[1, 2, 3],\n",
       "        [4, 5, 6]],\n",
       "\n",
       "       [[1, 1, 1],\n",
       "        [2, 2, 2]]])"
      ]
     },
     "execution_count": 327,
     "metadata": {},
     "output_type": "execute_result"
    }
   ],
   "source": [
    "array_example_1 = np.array([[[1,2,3], [4,5,6]], [[1,1,1], [2,2,2]]])\n",
    "array_example_1 "
   ]
  },
  {
   "cell_type": "code",
   "execution_count": 328,
   "id": "a506f28a",
   "metadata": {},
   "outputs": [
    {
     "data": {
      "text/plain": [
       "array([[[ 2,  4,  6],\n",
       "        [ 8, 10, 12]],\n",
       "\n",
       "       [[ 2,  2,  2],\n",
       "        [ 4,  4,  4]]])"
      ]
     },
     "execution_count": 328,
     "metadata": {},
     "output_type": "execute_result"
    }
   ],
   "source": [
    "array_example_2 = array_example_1*2\n",
    "array_example_2"
   ]
  },
  {
   "cell_type": "code",
   "execution_count": 329,
   "id": "04e7f010",
   "metadata": {},
   "outputs": [
    {
     "data": {
      "text/plain": [
       "array([[[ 1,  2,  3],\n",
       "        [ 4,  5,  6]],\n",
       "\n",
       "       [[ 1,  1,  1],\n",
       "        [ 2,  2,  2]],\n",
       "\n",
       "       [[ 2,  4,  6],\n",
       "        [ 8, 10, 12]],\n",
       "\n",
       "       [[ 2,  2,  2],\n",
       "        [ 4,  4,  4]]])"
      ]
     },
     "execution_count": 329,
     "metadata": {},
     "output_type": "execute_result"
    }
   ],
   "source": [
    "np.concatenate((array_example_1, array_example_2))"
   ]
  },
  {
   "cell_type": "code",
   "execution_count": 330,
   "id": "218ffbaf",
   "metadata": {},
   "outputs": [
    {
     "data": {
      "text/plain": [
       "array([[[ 1,  2,  3],\n",
       "        [ 4,  5,  6]],\n",
       "\n",
       "       [[ 1,  1,  1],\n",
       "        [ 2,  2,  2]],\n",
       "\n",
       "       [[ 2,  4,  6],\n",
       "        [ 8, 10, 12]],\n",
       "\n",
       "       [[ 2,  2,  2],\n",
       "        [ 4,  4,  4]]])"
      ]
     },
     "execution_count": 330,
     "metadata": {},
     "output_type": "execute_result"
    }
   ],
   "source": [
    "np.vstack((array_example_1, array_example_2))"
   ]
  },
  {
   "cell_type": "code",
   "execution_count": 331,
   "id": "cabdbd11",
   "metadata": {},
   "outputs": [
    {
     "data": {
      "text/plain": [
       "array([[[ 1,  2,  3],\n",
       "        [ 4,  5,  6],\n",
       "        [ 2,  4,  6],\n",
       "        [ 8, 10, 12]],\n",
       "\n",
       "       [[ 1,  1,  1],\n",
       "        [ 2,  2,  2],\n",
       "        [ 2,  2,  2],\n",
       "        [ 4,  4,  4]]])"
      ]
     },
     "execution_count": 331,
     "metadata": {},
     "output_type": "execute_result"
    }
   ],
   "source": [
    "np.concatenate((array_example_1, array_example_2), axis=1)"
   ]
  },
  {
   "cell_type": "code",
   "execution_count": 332,
   "id": "f128726b",
   "metadata": {},
   "outputs": [
    {
     "data": {
      "text/plain": [
       "array([[[ 1,  2,  3],\n",
       "        [ 4,  5,  6],\n",
       "        [ 2,  4,  6],\n",
       "        [ 8, 10, 12]],\n",
       "\n",
       "       [[ 1,  1,  1],\n",
       "        [ 2,  2,  2],\n",
       "        [ 2,  2,  2],\n",
       "        [ 4,  4,  4]]])"
      ]
     },
     "execution_count": 332,
     "metadata": {},
     "output_type": "execute_result"
    }
   ],
   "source": [
    "np.hstack((array_example_1, array_example_2))"
   ]
  },
  {
   "cell_type": "code",
   "execution_count": 333,
   "id": "a2cd9e44",
   "metadata": {},
   "outputs": [
    {
     "data": {
      "text/plain": [
       "array([[[ 1,  2,  3,  2,  4,  6],\n",
       "        [ 4,  5,  6,  8, 10, 12]],\n",
       "\n",
       "       [[ 1,  1,  1,  2,  2,  2],\n",
       "        [ 2,  2,  2,  4,  4,  4]]])"
      ]
     },
     "execution_count": 333,
     "metadata": {},
     "output_type": "execute_result"
    }
   ],
   "source": [
    "np.concatenate((array_example_1, array_example_2), axis=2)"
   ]
  },
  {
   "cell_type": "code",
   "execution_count": 334,
   "id": "466d0014",
   "metadata": {},
   "outputs": [
    {
     "data": {
      "text/plain": [
       "array([[[ 1,  2,  3,  2,  4,  6],\n",
       "        [ 4,  5,  6,  8, 10, 12]],\n",
       "\n",
       "       [[ 1,  1,  1,  2,  2,  2],\n",
       "        [ 2,  2,  2,  4,  4,  4]]])"
      ]
     },
     "execution_count": 334,
     "metadata": {},
     "output_type": "execute_result"
    }
   ],
   "source": [
    "np.dstack((array_example_1, array_example_2))"
   ]
  },
  {
   "cell_type": "code",
   "execution_count": 335,
   "id": "5cca23cf",
   "metadata": {},
   "outputs": [
    {
     "data": {
      "text/plain": [
       "array([2000.,   40.,  365., ..., 2000., 1000., 2000.])"
      ]
     },
     "execution_count": 335,
     "metadata": {},
     "output_type": "execute_result"
    }
   ],
   "source": [
    "# when concatenate two 1D arrays, they dont need to have the same shape\n",
    "np.concatenate((lending_co_data_numeric[0, :], lending_co_data_numeric[:, 0]))"
   ]
  },
  {
   "cell_type": "code",
   "execution_count": 336,
   "id": "6c3a6a3f",
   "metadata": {},
   "outputs": [
    {
     "data": {
      "text/plain": [
       "array([[ 2000.,    40.,   365.,  3121.,  4241., 13621.],\n",
       "       [ 2000.,    40.,   365.,  3061.,  4171., 15041.],\n",
       "       [ 1000.,    40.,   365.,  2160.,  3280., 15340.],\n",
       "       ...,\n",
       "       [ 2000.,    40.,   365.,  4201.,  5001., 16600.],\n",
       "       [ 1000.,    40.,   365.,  2080.,  3320., 15600.],\n",
       "       [ 2000.,    40.,   365.,  4601.,  4601., 16600.]])"
      ]
     },
     "execution_count": 336,
     "metadata": {},
     "output_type": "execute_result"
    }
   ],
   "source": [
    "np.concatenate((lending_co_data_numeric, lending_co_data_numeric[1:, :]))"
   ]
  },
  {
   "cell_type": "markdown",
   "id": "bfa70b51",
   "metadata": {},
   "source": [
    "### Finding unique values in Nd-arrays"
   ]
  },
  {
   "cell_type": "code",
   "execution_count": 337,
   "id": "8c02b74f",
   "metadata": {},
   "outputs": [
    {
     "data": {
      "text/plain": [
       "array([[ 2000.,    40.,   365.,  3121.,  4241., 13621.],\n",
       "       [ 2000.,    40.,   365.,  3061.,  4171., 15041.],\n",
       "       [ 1000.,    40.,   365.,  2160.,  3280., 15340.],\n",
       "       ...,\n",
       "       [ 2000.,    40.,   365.,  4201.,  5001., 16600.],\n",
       "       [ 1000.,    40.,   365.,  2080.,  3320., 15600.],\n",
       "       [ 2000.,    40.,   365.,  4601.,  4601., 16600.]])"
      ]
     },
     "execution_count": 337,
     "metadata": {},
     "output_type": "execute_result"
    }
   ],
   "source": [
    "lending_co_data_numeric = np.loadtxt(\"Lending-Company-Numeric-Data.csv\", delimiter=\",\")\n",
    "lending_co_data_numeric"
   ]
  },
  {
   "cell_type": "code",
   "execution_count": 338,
   "id": "cefb41c9",
   "metadata": {},
   "outputs": [
    {
     "data": {
      "text/plain": [
       "array([-2870., -2550., -2450., ..., 52751., 54625., 64001.])"
      ]
     },
     "execution_count": 338,
     "metadata": {},
     "output_type": "execute_result"
    }
   ],
   "source": [
    "np.unique(lending_co_data_numeric)"
   ]
  },
  {
   "cell_type": "code",
   "execution_count": 339,
   "id": "0fac6bf7",
   "metadata": {},
   "outputs": [
    {
     "data": {
      "text/plain": [
       "array([ 35.,  40.,  50., 125., 165.])"
      ]
     },
     "execution_count": 339,
     "metadata": {},
     "output_type": "execute_result"
    }
   ],
   "source": [
    "np.unique(lending_co_data_numeric[:,1]) # unique values in the first column\n",
    "# arranged in ASCII order"
   ]
  },
  {
   "cell_type": "code",
   "execution_count": 340,
   "id": "c1188126",
   "metadata": {},
   "outputs": [
    {
     "data": {
      "text/plain": [
       "(array([ 35.,  40.,  50., 125., 165.]),\n",
       " array([  4, 567, 451,  19,   2], dtype=int64))"
      ]
     },
     "execution_count": 340,
     "metadata": {},
     "output_type": "execute_result"
    }
   ],
   "source": [
    "np.unique(lending_co_data_numeric[:,1], return_counts=True) # return how frequent each appears\n",
    "# meaningful information for statistical analysis, \n",
    "# for instance when filling missing values, using 40 and 50 (those that appears more frequently) may be more appropriate \n",
    "# than filling with the mean value"
   ]
  },
  {
   "cell_type": "code",
   "execution_count": 341,
   "id": "fa39cff8",
   "metadata": {},
   "outputs": [
    {
     "data": {
      "text/plain": [
       "(array([ 35.,  40.,  50., 125., 165.]),\n",
       " array([327,   0,   4,  19,  27], dtype=int64),\n",
       " array([  4, 567, 451,  19,   2], dtype=int64))"
      ]
     },
     "execution_count": 341,
     "metadata": {},
     "output_type": "execute_result"
    }
   ],
   "source": [
    "np.unique(lending_co_data_numeric[:,1], return_counts=True, return_index=True)"
   ]
  },
  {
   "cell_type": "markdown",
   "id": "21a9a869",
   "metadata": {},
   "source": [
    "### Stacking ndarrays"
   ]
  },
  {
   "cell_type": "code",
   "execution_count": 342,
   "id": "4c2a6b03",
   "metadata": {},
   "outputs": [
    {
     "data": {
      "text/plain": [
       "array([[ 2000.,    40.,   365.,  3121.,  4241., 13621.],\n",
       "       [ 2000.,    40.,   365.,  3061.,  4171., 15041.],\n",
       "       [ 1000.,    40.,   365.,  2160.,  3280., 15340.],\n",
       "       ...,\n",
       "       [ 2000.,    40.,   365.,  4201.,  5001., 16600.],\n",
       "       [ 1000.,    40.,   365.,  2080.,  3320., 15600.],\n",
       "       [ 2000.,    40.,   365.,  4601.,  4601., 16600.]])"
      ]
     },
     "execution_count": 342,
     "metadata": {},
     "output_type": "execute_result"
    }
   ],
   "source": [
    "lending_co_data_numeric"
   ]
  },
  {
   "cell_type": "code",
   "execution_count": 343,
   "id": "b017edeb",
   "metadata": {},
   "outputs": [
    {
     "data": {
      "text/plain": [
       "array([[ 2000.,    40.,   365.,  3121.,  4241., 13621.],\n",
       "       [ 2000.,    40.,   365.,  3061.,  4171., 15041.],\n",
       "       [ 1000.,    40.,   365.,  2160.,  3280., 15340.],\n",
       "       ...,\n",
       "       [    0.,    40.,   365.,  4201.,  5001., 16600.],\n",
       "       [ 1000.,    40.,   365.,  2080.,  3320., 15600.],\n",
       "       [ 2000.,    40.,   365.,  4601.,  4601., 16600.]])"
      ]
     },
     "execution_count": 343,
     "metadata": {},
     "output_type": "execute_result"
    }
   ],
   "source": [
    "lending_co_data_numeric_NAN"
   ]
  },
  {
   "cell_type": "markdown",
   "id": "7a448203",
   "metadata": {},
   "source": [
    "#### np.stack():\n",
    "stack arrays of matching shapes to create a larger array\n",
    "return one more dimention than the original stack"
   ]
  },
  {
   "cell_type": "code",
   "execution_count": 344,
   "id": "b07e5d53",
   "metadata": {},
   "outputs": [
    {
     "data": {
      "text/plain": [
       "array([[2000., 2000., 1000., ..., 2000., 1000., 2000.],\n",
       "       [  40.,   40.,   40., ...,   40.,   40.,   40.]])"
      ]
     },
     "execution_count": 344,
     "metadata": {},
     "output_type": "execute_result"
    }
   ],
   "source": [
    "np.stack((lending_co_data_numeric[:,0], lending_co_data_numeric[:, 1]))"
   ]
  },
  {
   "cell_type": "code",
   "execution_count": 345,
   "id": "c975dbbf",
   "metadata": {},
   "outputs": [
    {
     "data": {
      "text/plain": [
       "array([2000., 2000., 1000., ...,   40.,   40.,   40.])"
      ]
     },
     "execution_count": 345,
     "metadata": {},
     "output_type": "execute_result"
    }
   ],
   "source": [
    "np.concatenate((lending_co_data_numeric[:,0], lending_co_data_numeric[:, 1]))"
   ]
  },
  {
   "cell_type": "code",
   "execution_count": 346,
   "id": "6179d337",
   "metadata": {},
   "outputs": [
    {
     "data": {
      "text/plain": [
       "array([[  40.,   40.,   40., ...,   40.,   40.,   40.],\n",
       "       [2000., 2000., 1000., ..., 2000., 1000., 2000.]])"
      ]
     },
     "execution_count": 346,
     "metadata": {},
     "output_type": "execute_result"
    }
   ],
   "source": [
    "np.stack((lending_co_data_numeric[:,1], lending_co_data_numeric[:, 0]))"
   ]
  },
  {
   "cell_type": "code",
   "execution_count": 347,
   "id": "4518048c",
   "metadata": {},
   "outputs": [
    {
     "data": {
      "text/plain": [
       "array([[2000.,   40.],\n",
       "       [2000.,   40.],\n",
       "       [1000.,   40.],\n",
       "       ...,\n",
       "       [2000.,   40.],\n",
       "       [1000.,   40.],\n",
       "       [2000.,   40.]])"
      ]
     },
     "execution_count": 347,
     "metadata": {},
     "output_type": "execute_result"
    }
   ],
   "source": [
    "np.stack((lending_co_data_numeric[:,0], lending_co_data_numeric[:, 1]), axis=1)"
   ]
  },
  {
   "cell_type": "code",
   "execution_count": 348,
   "id": "a3bd4386",
   "metadata": {},
   "outputs": [],
   "source": [
    "# stack, input arrays must have the same shape\n",
    "#np.stack((lending_co_data_numeric[:, 0], lending_co_data_numeric[:, 1], lending_co_data_numeric[:, 2:]), axis=1)"
   ]
  },
  {
   "cell_type": "markdown",
   "id": "3cd7c0e4",
   "metadata": {},
   "source": [
    "#### Vstack()\n",
    "stack two 2d arrays vertically"
   ]
  },
  {
   "cell_type": "code",
   "execution_count": 349,
   "id": "bc2484a3",
   "metadata": {},
   "outputs": [
    {
     "data": {
      "text/plain": [
       "(1043, 6)"
      ]
     },
     "execution_count": 349,
     "metadata": {},
     "output_type": "execute_result"
    }
   ],
   "source": [
    "lending_co_data_numeric.shape"
   ]
  },
  {
   "cell_type": "code",
   "execution_count": 350,
   "id": "3e998d24",
   "metadata": {},
   "outputs": [
    {
     "data": {
      "text/plain": [
       "(1043, 6)"
      ]
     },
     "execution_count": 350,
     "metadata": {},
     "output_type": "execute_result"
    }
   ],
   "source": [
    "lending_co_data_numeric_NAN.shape"
   ]
  },
  {
   "cell_type": "code",
   "execution_count": 351,
   "id": "73545873",
   "metadata": {},
   "outputs": [
    {
     "data": {
      "text/plain": [
       "array([[ 2000.,    40.,   365.,  3121.,  4241., 13621.],\n",
       "       [ 2000.,    40.,   365.,  3061.,  4171., 15041.],\n",
       "       [ 1000.,    40.,   365.,  2160.,  3280., 15340.],\n",
       "       ...,\n",
       "       [    0.,    40.,   365.,  4201.,  5001., 16600.],\n",
       "       [ 1000.,    40.,   365.,  2080.,  3320., 15600.],\n",
       "       [ 2000.,    40.,   365.,  4601.,  4601., 16600.]])"
      ]
     },
     "execution_count": 351,
     "metadata": {},
     "output_type": "execute_result"
    }
   ],
   "source": [
    "np.vstack((lending_co_data_numeric, lending_co_data_numeric_NAN))"
   ]
  },
  {
   "cell_type": "code",
   "execution_count": 352,
   "id": "4dc224e7",
   "metadata": {},
   "outputs": [
    {
     "data": {
      "text/plain": [
       "(2086, 6)"
      ]
     },
     "execution_count": 352,
     "metadata": {},
     "output_type": "execute_result"
    }
   ],
   "source": [
    "np.vstack((lending_co_data_numeric, lending_co_data_numeric_NAN)).shape"
   ]
  },
  {
   "cell_type": "markdown",
   "id": "fc2deb17",
   "metadata": {},
   "source": [
    "#### hstack()\n",
    "stack values horizontally. The result will be wider array"
   ]
  },
  {
   "cell_type": "code",
   "execution_count": 353,
   "id": "dca6de79",
   "metadata": {},
   "outputs": [
    {
     "data": {
      "text/plain": [
       "array([[ 2000.,    40.,   365., ...,  3121.,  4241., 13621.],\n",
       "       [ 2000.,    40.,   365., ...,  3061.,  4171., 15041.],\n",
       "       [ 1000.,    40.,   365., ...,  2160.,  3280., 15340.],\n",
       "       ...,\n",
       "       [ 2000.,    40.,   365., ...,  4201.,  5001., 16600.],\n",
       "       [ 1000.,    40.,   365., ...,  2080.,  3320., 15600.],\n",
       "       [ 2000.,    40.,   365., ...,  4601.,  4601., 16600.]])"
      ]
     },
     "execution_count": 353,
     "metadata": {},
     "output_type": "execute_result"
    }
   ],
   "source": [
    "np.hstack((lending_co_data_numeric, lending_co_data_numeric_NAN))"
   ]
  },
  {
   "cell_type": "code",
   "execution_count": 354,
   "id": "ce0f0246",
   "metadata": {},
   "outputs": [
    {
     "data": {
      "text/plain": [
       "(1043, 12)"
      ]
     },
     "execution_count": 354,
     "metadata": {},
     "output_type": "execute_result"
    }
   ],
   "source": [
    "np.hstack((lending_co_data_numeric, lending_co_data_numeric_NAN)).shape"
   ]
  },
  {
   "cell_type": "markdown",
   "id": "029f8d40",
   "metadata": {},
   "source": [
    "#### dstack()\n",
    "add depth to the matrix\n"
   ]
  },
  {
   "cell_type": "code",
   "execution_count": 355,
   "id": "644064f4",
   "metadata": {},
   "outputs": [
    {
     "data": {
      "text/plain": [
       "array([[[ 2000.,  2000.],\n",
       "        [   40.,    40.],\n",
       "        [  365.,   365.],\n",
       "        [ 3121.,  3121.],\n",
       "        [ 4241.,  4241.],\n",
       "        [13621., 13621.]],\n",
       "\n",
       "       [[ 2000.,  2000.],\n",
       "        [   40.,    40.],\n",
       "        [  365.,   365.],\n",
       "        [ 3061.,  3061.],\n",
       "        [ 4171.,  4171.],\n",
       "        [15041., 15041.]],\n",
       "\n",
       "       [[ 1000.,  1000.],\n",
       "        [   40.,    40.],\n",
       "        [  365.,   365.],\n",
       "        [ 2160.,  2160.],\n",
       "        [ 3280.,  3280.],\n",
       "        [15340., 15340.]],\n",
       "\n",
       "       ...,\n",
       "\n",
       "       [[ 2000.,     0.],\n",
       "        [   40.,    40.],\n",
       "        [  365.,   365.],\n",
       "        [ 4201.,  4201.],\n",
       "        [ 5001.,  5001.],\n",
       "        [16600., 16600.]],\n",
       "\n",
       "       [[ 1000.,  1000.],\n",
       "        [   40.,    40.],\n",
       "        [  365.,   365.],\n",
       "        [ 2080.,  2080.],\n",
       "        [ 3320.,  3320.],\n",
       "        [15600., 15600.]],\n",
       "\n",
       "       [[ 2000.,  2000.],\n",
       "        [   40.,    40.],\n",
       "        [  365.,   365.],\n",
       "        [ 4601.,  4601.],\n",
       "        [ 4601.,  4601.],\n",
       "        [16600., 16600.]]])"
      ]
     },
     "execution_count": 355,
     "metadata": {},
     "output_type": "execute_result"
    }
   ],
   "source": [
    "np.dstack((lending_co_data_numeric, lending_co_data_numeric_NAN))"
   ]
  },
  {
   "cell_type": "code",
   "execution_count": 356,
   "id": "fefdb561",
   "metadata": {},
   "outputs": [
    {
     "data": {
      "text/plain": [
       "(1043, 6, 2)"
      ]
     },
     "execution_count": 356,
     "metadata": {},
     "output_type": "execute_result"
    }
   ],
   "source": [
    "np.dstack((lending_co_data_numeric, lending_co_data_numeric_NAN)).shape\n",
    "# 1043 rows, 6 cols, 2 depths"
   ]
  },
  {
   "cell_type": "code",
   "execution_count": 357,
   "id": "5a741b4b",
   "metadata": {},
   "outputs": [
    {
     "data": {
      "text/plain": [
       "array([[ 2000.,  2000.],\n",
       "       [   40.,    40.],\n",
       "       [  365.,   365.],\n",
       "       [ 3121.,  3121.],\n",
       "       [ 4241.,  4241.],\n",
       "       [13621., 13621.]])"
      ]
     },
     "execution_count": 357,
     "metadata": {},
     "output_type": "execute_result"
    }
   ],
   "source": [
    "np.dstack((lending_co_data_numeric, lending_co_data_numeric_NAN))[0]"
   ]
  },
  {
   "cell_type": "code",
   "execution_count": 358,
   "id": "f5826bdb",
   "metadata": {},
   "outputs": [
    {
     "data": {
      "text/plain": [
       "array([ 2000.,    40.,   365.,  3121.,  4241., 13621.])"
      ]
     },
     "execution_count": 358,
     "metadata": {},
     "output_type": "execute_result"
    }
   ],
   "source": [
    "np.dstack((lending_co_data_numeric, lending_co_data_numeric_NAN))[0,:,0]"
   ]
  },
  {
   "cell_type": "markdown",
   "id": "abbe8e63",
   "metadata": {},
   "source": [
    "# A Loan Data Practical Example with Numpy"
   ]
  },
  {
   "cell_type": "code",
   "execution_count": 1,
   "id": "46be9d49",
   "metadata": {},
   "outputs": [],
   "source": [
    "import numpy as np"
   ]
  },
  {
   "cell_type": "code",
   "execution_count": 2,
   "id": "fcc24329",
   "metadata": {},
   "outputs": [],
   "source": [
    "np.set_printoptions(suppress=True, linewidth=100, precision=2)"
   ]
  },
  {
   "cell_type": "markdown",
   "id": "45e4dcf2",
   "metadata": {},
   "source": [
    "### Importing the data"
   ]
  },
  {
   "cell_type": "code",
   "execution_count": 7,
   "id": "502bcaa6",
   "metadata": {},
   "outputs": [],
   "source": [
    "raw_data_np = np.genfromtxt(\"loan-data.csv\", delimiter=\";\", skip_header=1, autostrip=True)"
   ]
  },
  {
   "cell_type": "code",
   "execution_count": 8,
   "id": "01425631",
   "metadata": {},
   "outputs": [
    {
     "data": {
      "text/plain": [
       "array([[48010226.  ,         nan,    35000.  , ...,         nan,         nan,     9452.96],\n",
       "       [57693261.  ,         nan,    30000.  , ...,         nan,         nan,     4679.7 ],\n",
       "       [59432726.  ,         nan,    15000.  , ...,         nan,         nan,     1969.83],\n",
       "       ...,\n",
       "       [50415990.  ,         nan,    10000.  , ...,         nan,         nan,     2185.64],\n",
       "       [46154151.  ,         nan,         nan, ...,         nan,         nan,     3199.4 ],\n",
       "       [66055249.  ,         nan,    10000.  , ...,         nan,         nan,      301.9 ]])"
      ]
     },
     "execution_count": 8,
     "metadata": {},
     "output_type": "execute_result"
    }
   ],
   "source": [
    "raw_data_np"
   ]
  },
  {
   "cell_type": "markdown",
   "id": "42c0cf2a",
   "metadata": {},
   "source": [
    "### Checking incomplete data"
   ]
  },
  {
   "cell_type": "code",
   "execution_count": 9,
   "id": "c7ef77e4",
   "metadata": {},
   "outputs": [
    {
     "data": {
      "text/plain": [
       "88005"
      ]
     },
     "execution_count": 9,
     "metadata": {},
     "output_type": "execute_result"
    }
   ],
   "source": [
    "np.isnan(raw_data_np).sum()"
   ]
  },
  {
   "cell_type": "code",
   "execution_count": 10,
   "id": "c06458f0",
   "metadata": {},
   "outputs": [
    {
     "name": "stderr",
     "output_type": "stream",
     "text": [
      "C:\\Users\\Tuyen\\AppData\\Local\\Temp\\ipykernel_170052\\2996838478.py:2: RuntimeWarning: Mean of empty slice\n",
      "  temporary_mean = np.nanmean(raw_data_np, axis=0)\n"
     ]
    }
   ],
   "source": [
    "temporary_fill = np.nanmax(raw_data_np) + 1\n",
    "temporary_mean = np.nanmean(raw_data_np, axis=0)\n",
    "# based on the warning, we may have at least one empty col or string col"
   ]
  },
  {
   "cell_type": "code",
   "execution_count": 11,
   "id": "9678c052",
   "metadata": {},
   "outputs": [
    {
     "data": {
      "text/plain": [
       "array([54015809.19,         nan,    15273.46,         nan,    15311.04,         nan,       16.62,\n",
       "            440.92,         nan,         nan,         nan,         nan,         nan,     3143.85])"
      ]
     },
     "execution_count": 11,
     "metadata": {},
     "output_type": "execute_result"
    }
   ],
   "source": [
    "temporary_mean\n",
    "# 8 cols have only string"
   ]
  },
  {
   "cell_type": "code",
   "execution_count": 12,
   "id": "ee7bc3e8",
   "metadata": {},
   "outputs": [
    {
     "name": "stderr",
     "output_type": "stream",
     "text": [
      "C:\\Users\\Tuyen\\AppData\\Local\\Temp\\ipykernel_170052\\2439204333.py:1: RuntimeWarning: All-NaN slice encountered\n",
      "  temporary_stats = np.array([np.nanmin(raw_data_np, axis=0),\n",
      "C:\\Users\\Tuyen\\AppData\\Local\\Temp\\ipykernel_170052\\2439204333.py:3: RuntimeWarning: All-NaN slice encountered\n",
      "  np.nanmax(raw_data_np, axis=0)])\n"
     ]
    }
   ],
   "source": [
    "temporary_stats = np.array([np.nanmin(raw_data_np, axis=0),\n",
    "                           temporary_mean,\n",
    "                           np.nanmax(raw_data_np, axis=0)])"
   ]
  },
  {
   "cell_type": "code",
   "execution_count": 13,
   "id": "1f7c7555",
   "metadata": {},
   "outputs": [
    {
     "data": {
      "text/plain": [
       "array([[  373332.  ,         nan,     1000.  ,         nan,     1000.  ,         nan,        6.  ,\n",
       "              31.42,         nan,         nan,         nan,         nan,         nan,        0.  ],\n",
       "       [54015809.19,         nan,    15273.46,         nan,    15311.04,         nan,       16.62,\n",
       "             440.92,         nan,         nan,         nan,         nan,         nan,     3143.85],\n",
       "       [68616519.  ,         nan,    35000.  ,         nan,    35000.  ,         nan,       28.99,\n",
       "            1372.97,         nan,         nan,         nan,         nan,         nan,    41913.62]])"
      ]
     },
     "execution_count": 13,
     "metadata": {},
     "output_type": "execute_result"
    }
   ],
   "source": [
    "temporary_stats"
   ]
  },
  {
   "cell_type": "markdown",
   "id": "a09c3cf1",
   "metadata": {},
   "source": [
    "### Splitting the dataset"
   ]
  },
  {
   "cell_type": "markdown",
   "id": "20413085",
   "metadata": {},
   "source": [
    "#### Splitting the columns"
   ]
  },
  {
   "cell_type": "code",
   "execution_count": 18,
   "id": "a18e4aae",
   "metadata": {},
   "outputs": [],
   "source": [
    "columns_string = np.argwhere(np.isnan(temporary_mean)).squeeze()"
   ]
  },
  {
   "cell_type": "code",
   "execution_count": 19,
   "id": "824c551a",
   "metadata": {},
   "outputs": [
    {
     "data": {
      "text/plain": [
       "array([ 1,  3,  5,  8,  9, 10, 11, 12], dtype=int64)"
      ]
     },
     "execution_count": 19,
     "metadata": {},
     "output_type": "execute_result"
    }
   ],
   "source": [
    "columns_string"
   ]
  },
  {
   "cell_type": "code",
   "execution_count": 23,
   "id": "6c40653e",
   "metadata": {},
   "outputs": [],
   "source": [
    "columns_numeric = np.argwhere(np.isnan(temporary_mean)==False).squeeze()"
   ]
  },
  {
   "cell_type": "code",
   "execution_count": 24,
   "id": "9330269a",
   "metadata": {},
   "outputs": [
    {
     "data": {
      "text/plain": [
       "array([ 0,  2,  4,  6,  7, 13], dtype=int64)"
      ]
     },
     "execution_count": 24,
     "metadata": {},
     "output_type": "execute_result"
    }
   ],
   "source": [
    "columns_numeric"
   ]
  },
  {
   "cell_type": "markdown",
   "id": "883a2b5d",
   "metadata": {},
   "source": [
    "#### Reimportting the dataset"
   ]
  },
  {
   "cell_type": "code",
   "execution_count": 25,
   "id": "579b0b60",
   "metadata": {},
   "outputs": [],
   "source": [
    "loan_data_string = np.genfromtxt(\"loan-data.csv\",\n",
    "                                delimiter=\";\",\n",
    "                                skip_header=1,\n",
    "                                autostrip=True,\n",
    "                                usecols=columns_string,\n",
    "                                dtype=\"str\")"
   ]
  },
  {
   "cell_type": "code",
   "execution_count": 26,
   "id": "b45bf35b",
   "metadata": {},
   "outputs": [
    {
     "data": {
      "text/plain": [
       "array([['May-15', 'Current', '36 months', ..., 'Verified',\n",
       "        'https://www.lendingclub.com/browse/loanDetail.action?loan_id=48010226', 'CA'],\n",
       "       ['', 'Current', '36 months', ..., 'Source Verified',\n",
       "        'https://www.lendingclub.com/browse/loanDetail.action?loan_id=57693261', 'NY'],\n",
       "       ['Sep-15', 'Current', '36 months', ..., 'Verified',\n",
       "        'https://www.lendingclub.com/browse/loanDetail.action?loan_id=59432726', 'PA'],\n",
       "       ...,\n",
       "       ['Jun-15', 'Current', '36 months', ..., 'Source Verified',\n",
       "        'https://www.lendingclub.com/browse/loanDetail.action?loan_id=50415990', 'CA'],\n",
       "       ['Apr-15', 'Current', '36 months', ..., 'Source Verified',\n",
       "        'https://www.lendingclub.com/browse/loanDetail.action?loan_id=46154151', 'OH'],\n",
       "       ['Dec-15', 'Current', '36 months', ..., '',\n",
       "        'https://www.lendingclub.com/browse/loanDetail.action?loan_id=66055249', 'IL']],\n",
       "      dtype='<U69')"
      ]
     },
     "execution_count": 26,
     "metadata": {},
     "output_type": "execute_result"
    }
   ],
   "source": [
    "loan_data_string"
   ]
  },
  {
   "cell_type": "code",
   "execution_count": 27,
   "id": "f4c83bbc",
   "metadata": {},
   "outputs": [
    {
     "data": {
      "text/plain": [
       "array([[48010226.  ,    35000.  ,    35000.  ,       13.33,     1184.86,     9452.96],\n",
       "       [57693261.  ,    30000.  ,    30000.  , 68616520.  ,      938.57,     4679.7 ],\n",
       "       [59432726.  ,    15000.  ,    15000.  , 68616520.  ,      494.86,     1969.83],\n",
       "       ...,\n",
       "       [50415990.  ,    10000.  ,    10000.  , 68616520.  , 68616520.  ,     2185.64],\n",
       "       [46154151.  , 68616520.  ,    10000.  ,       16.55,      354.3 ,     3199.4 ],\n",
       "       [66055249.  ,    10000.  ,    10000.  , 68616520.  ,      309.97,      301.9 ]])"
      ]
     },
     "execution_count": 27,
     "metadata": {},
     "output_type": "execute_result"
    }
   ],
   "source": [
    "loan_data_numeric = np.genfromtxt(\"loan-data.csv\", \n",
    "                                  delimiter=\";\", \n",
    "                                  skip_header=1,\n",
    "                                 autostrip=True,\n",
    "                                 usecols=columns_numeric,\n",
    "                                 filling_values=temporary_fill)\n",
    "loan_data_numeric"
   ]
  },
  {
   "cell_type": "markdown",
   "id": "313f26cd",
   "metadata": {},
   "source": [
    "#### The name of columns\n"
   ]
  },
  {
   "cell_type": "code",
   "execution_count": 29,
   "id": "8498b44b",
   "metadata": {},
   "outputs": [
    {
     "data": {
      "text/plain": [
       "array(['id', 'issue_d', 'loan_amnt', 'loan_status', 'funded_amnt', 'term', 'int_rate',\n",
       "       'installment', 'grade', 'sub_grade', 'verification_status', 'url', 'addr_state',\n",
       "       'total_pymnt'], dtype='<U19')"
      ]
     },
     "execution_count": 29,
     "metadata": {},
     "output_type": "execute_result"
    }
   ],
   "source": [
    "header_full = np.genfromtxt(\"loan-data.csv\",\n",
    "                                delimiter=\";\",\n",
    "                                skip_footer = raw_data_np.shape[0],\n",
    "                                autostrip=True,\n",
    "                                dtype=\"str\")\n",
    "header_full"
   ]
  },
  {
   "cell_type": "code",
   "execution_count": 31,
   "id": "7fbad804",
   "metadata": {},
   "outputs": [],
   "source": [
    "header_string, header_numeric = header_full[columns_string], header_full[columns_numeric]"
   ]
  },
  {
   "cell_type": "code",
   "execution_count": 32,
   "id": "0e1bbbbf",
   "metadata": {},
   "outputs": [
    {
     "data": {
      "text/plain": [
       "(array(['issue_d', 'loan_status', 'term', 'grade', 'sub_grade', 'verification_status', 'url',\n",
       "        'addr_state'], dtype='<U19'),\n",
       " array(['id', 'loan_amnt', 'funded_amnt', 'int_rate', 'installment', 'total_pymnt'], dtype='<U19'))"
      ]
     },
     "execution_count": 32,
     "metadata": {},
     "output_type": "execute_result"
    }
   ],
   "source": [
    "header_string, header_numeric"
   ]
  },
  {
   "cell_type": "markdown",
   "id": "e4e2e092",
   "metadata": {},
   "source": [
    "### Creating checkpoints\n",
    "Checkpoints are places throughout the code where we store a copy of our dataset"
   ]
  },
  {
   "cell_type": "code",
   "execution_count": 33,
   "id": "1c214df7",
   "metadata": {},
   "outputs": [],
   "source": [
    "def checkpoint(filename, checkpoint_header, checkpoint_data):\n",
    "    np.savez(filename, header=checkpoint_header, data=checkpoint_data)\n",
    "    checkpoint_variable = np.load(filename+\".npz\")\n",
    "    return checkpoint_variable"
   ]
  },
  {
   "cell_type": "code",
   "execution_count": 34,
   "id": "038076fd",
   "metadata": {},
   "outputs": [],
   "source": [
    "checkpoint_test = checkpoint(\"checkpoint-test\", header_string, loan_data_string)"
   ]
  },
  {
   "cell_type": "code",
   "execution_count": 35,
   "id": "2af63ed0",
   "metadata": {},
   "outputs": [
    {
     "data": {
      "text/plain": [
       "array(['issue_d', 'loan_status', 'term', 'grade', 'sub_grade', 'verification_status', 'url',\n",
       "       'addr_state'], dtype='<U19')"
      ]
     },
     "execution_count": 35,
     "metadata": {},
     "output_type": "execute_result"
    }
   ],
   "source": [
    "checkpoint_test['header']"
   ]
  },
  {
   "cell_type": "code",
   "execution_count": 36,
   "id": "26b25363",
   "metadata": {},
   "outputs": [
    {
     "data": {
      "text/plain": [
       "array([['May-15', 'Current', '36 months', ..., 'Verified',\n",
       "        'https://www.lendingclub.com/browse/loanDetail.action?loan_id=48010226', 'CA'],\n",
       "       ['', 'Current', '36 months', ..., 'Source Verified',\n",
       "        'https://www.lendingclub.com/browse/loanDetail.action?loan_id=57693261', 'NY'],\n",
       "       ['Sep-15', 'Current', '36 months', ..., 'Verified',\n",
       "        'https://www.lendingclub.com/browse/loanDetail.action?loan_id=59432726', 'PA'],\n",
       "       ...,\n",
       "       ['Jun-15', 'Current', '36 months', ..., 'Source Verified',\n",
       "        'https://www.lendingclub.com/browse/loanDetail.action?loan_id=50415990', 'CA'],\n",
       "       ['Apr-15', 'Current', '36 months', ..., 'Source Verified',\n",
       "        'https://www.lendingclub.com/browse/loanDetail.action?loan_id=46154151', 'OH'],\n",
       "       ['Dec-15', 'Current', '36 months', ..., '',\n",
       "        'https://www.lendingclub.com/browse/loanDetail.action?loan_id=66055249', 'IL']],\n",
       "      dtype='<U69')"
      ]
     },
     "execution_count": 36,
     "metadata": {},
     "output_type": "execute_result"
    }
   ],
   "source": [
    "checkpoint_test['data']"
   ]
  },
  {
   "cell_type": "code",
   "execution_count": 37,
   "id": "ffe76257",
   "metadata": {},
   "outputs": [
    {
     "data": {
      "text/plain": [
       "True"
      ]
     },
     "execution_count": 37,
     "metadata": {},
     "output_type": "execute_result"
    }
   ],
   "source": [
    "np.array_equal(checkpoint_test['data'], loan_data_string)"
   ]
  },
  {
   "cell_type": "markdown",
   "id": "6871b101",
   "metadata": {},
   "source": [
    "## Manipulating Text Data"
   ]
  },
  {
   "cell_type": "code",
   "execution_count": 38,
   "id": "194c186b",
   "metadata": {},
   "outputs": [
    {
     "data": {
      "text/plain": [
       "array(['issue_d', 'loan_status', 'term', 'grade', 'sub_grade', 'verification_status', 'url',\n",
       "       'addr_state'], dtype='<U19')"
      ]
     },
     "execution_count": 38,
     "metadata": {},
     "output_type": "execute_result"
    }
   ],
   "source": [
    "header_string"
   ]
  },
  {
   "cell_type": "code",
   "execution_count": 39,
   "id": "2904af97",
   "metadata": {},
   "outputs": [],
   "source": [
    "header_string[0] = 'issue_date'"
   ]
  },
  {
   "cell_type": "code",
   "execution_count": 40,
   "id": "65f37e73",
   "metadata": {},
   "outputs": [
    {
     "data": {
      "text/plain": [
       "array([['May-15', 'Current', '36 months', ..., 'Verified',\n",
       "        'https://www.lendingclub.com/browse/loanDetail.action?loan_id=48010226', 'CA'],\n",
       "       ['', 'Current', '36 months', ..., 'Source Verified',\n",
       "        'https://www.lendingclub.com/browse/loanDetail.action?loan_id=57693261', 'NY'],\n",
       "       ['Sep-15', 'Current', '36 months', ..., 'Verified',\n",
       "        'https://www.lendingclub.com/browse/loanDetail.action?loan_id=59432726', 'PA'],\n",
       "       ...,\n",
       "       ['Jun-15', 'Current', '36 months', ..., 'Source Verified',\n",
       "        'https://www.lendingclub.com/browse/loanDetail.action?loan_id=50415990', 'CA'],\n",
       "       ['Apr-15', 'Current', '36 months', ..., 'Source Verified',\n",
       "        'https://www.lendingclub.com/browse/loanDetail.action?loan_id=46154151', 'OH'],\n",
       "       ['Dec-15', 'Current', '36 months', ..., '',\n",
       "        'https://www.lendingclub.com/browse/loanDetail.action?loan_id=66055249', 'IL']],\n",
       "      dtype='<U69')"
      ]
     },
     "execution_count": 40,
     "metadata": {},
     "output_type": "execute_result"
    }
   ],
   "source": [
    "loan_data_string"
   ]
  },
  {
   "cell_type": "markdown",
   "id": "0c9edd8c",
   "metadata": {},
   "source": [
    "### Issue date\n"
   ]
  },
  {
   "cell_type": "code",
   "execution_count": 42,
   "id": "c229ac87",
   "metadata": {},
   "outputs": [
    {
     "data": {
      "text/plain": [
       "array(['', 'Apr-15', 'Aug-15', 'Dec-15', 'Feb-15', 'Jan-15', 'Jul-15', 'Jun-15', 'Mar-15',\n",
       "       'May-15', 'Nov-15', 'Oct-15', 'Sep-15'], dtype='<U69')"
      ]
     },
     "execution_count": 42,
     "metadata": {},
     "output_type": "execute_result"
    }
   ],
   "source": [
    "np.unique(loan_data_string[:, 0])"
   ]
  },
  {
   "cell_type": "code",
   "execution_count": 44,
   "id": "7dd8cd62",
   "metadata": {},
   "outputs": [],
   "source": [
    "loan_data_string[:, 0] = np.chararray.strip(loan_data_string[:, 0], \"-15\")"
   ]
  },
  {
   "cell_type": "code",
   "execution_count": 45,
   "id": "8be0977a",
   "metadata": {},
   "outputs": [
    {
     "data": {
      "text/plain": [
       "array(['', 'Apr', 'Aug', 'Dec', 'Feb', 'Jan', 'Jul', 'Jun', 'Mar', 'May', 'Nov', 'Oct', 'Sep'],\n",
       "      dtype='<U69')"
      ]
     },
     "execution_count": 45,
     "metadata": {},
     "output_type": "execute_result"
    }
   ],
   "source": [
    "np.unique(loan_data_string[:, 0])"
   ]
  },
  {
   "cell_type": "code",
   "execution_count": 46,
   "id": "bada51ee",
   "metadata": {},
   "outputs": [],
   "source": [
    "months = ['', 'Jan', 'Feb', 'Mar', 'Apr', 'May', 'Jun', 'Jul', 'Aug', 'Sep', 'Oct', 'Nov', 'Dec']"
   ]
  },
  {
   "cell_type": "code",
   "execution_count": 47,
   "id": "028dcb10",
   "metadata": {},
   "outputs": [],
   "source": [
    "for i in range(13):\n",
    "    loan_data_string[:, 0] = np.where(loan_data_string[:, 0] == months[i], i, loan_data_string[:,0])"
   ]
  },
  {
   "cell_type": "code",
   "execution_count": 49,
   "id": "c91d1cd4",
   "metadata": {},
   "outputs": [
    {
     "data": {
      "text/plain": [
       "array(['0', '1', '10', '11', '12', '2', '3', '4', '5', '6', '7', '8', '9'], dtype='<U69')"
      ]
     },
     "execution_count": 49,
     "metadata": {},
     "output_type": "execute_result"
    }
   ],
   "source": [
    "np.unique(loan_data_string[:, 0])"
   ]
  },
  {
   "cell_type": "code",
   "execution_count": null,
   "id": "a0ebf8be",
   "metadata": {},
   "outputs": [],
   "source": []
  }
 ],
 "metadata": {
  "kernelspec": {
   "display_name": "Python 3 (ipykernel)",
   "language": "python",
   "name": "python3"
  },
  "language_info": {
   "codemirror_mode": {
    "name": "ipython",
    "version": 3
   },
   "file_extension": ".py",
   "mimetype": "text/x-python",
   "name": "python",
   "nbconvert_exporter": "python",
   "pygments_lexer": "ipython3",
   "version": "3.9.7"
  }
 },
 "nbformat": 4,
 "nbformat_minor": 5
}
